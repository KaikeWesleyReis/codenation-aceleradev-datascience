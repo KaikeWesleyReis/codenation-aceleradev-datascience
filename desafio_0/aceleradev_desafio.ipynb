{
 "cells": [
  {
   "cell_type": "markdown",
   "metadata": {},
   "source": [
    "# Predição da Nota do Enem 2016\n",
    "**Por**: Kaike Wesley Reis\n",
    "\n",
    "## Módulos"
   ]
  },
  {
   "cell_type": "code",
   "execution_count": 1,
   "metadata": {},
   "outputs": [],
   "source": [
    "# Misc\n",
    "import warnings\n",
    "\n",
    "# Manipulação de Dados\n",
    "import pandas as pd\n",
    "import numpy as np\n",
    "\n",
    "# Gráficos\n",
    "import matplotlib.pyplot as plt\n",
    "import seaborn as sns\n",
    "\n",
    "# Análise de dados faltantes\n",
    "import missingno as msno\n",
    "\n",
    "# Pré-processamento\n",
    "from sklearn.preprocessing import OrdinalEncoder\n",
    "from scipy.stats import chi2_contingency\n",
    "from sklearn.preprocessing import StandardScaler\n",
    "from sklearn.linear_model import LinearRegression, Ridge, LogisticRegression\n",
    "\n",
    "# Comandos do notebook\n",
    "warnings.filterwarnings('ignore')\n",
    "%matplotlib inline"
   ]
  },
  {
   "cell_type": "markdown",
   "metadata": {},
   "source": [
    "# Pré-processamento"
   ]
  },
  {
   "cell_type": "markdown",
   "metadata": {},
   "source": [
    "## Importação dos dados"
   ]
  },
  {
   "cell_type": "code",
   "execution_count": 30,
   "metadata": {},
   "outputs": [],
   "source": [
    "# Importação\n",
    "train = pd.read_csv('train.csv', index_col=0)\n",
    "test = pd.read_csv('test.csv')"
   ]
  },
  {
   "cell_type": "markdown",
   "metadata": {},
   "source": [
    "## Emparelhamento das colunas dos datasets (treino e teste)"
   ]
  },
  {
   "cell_type": "code",
   "execution_count": 31,
   "metadata": {},
   "outputs": [],
   "source": [
    "cols = ['NU_NOTA_MT'] + list(test.columns)\n",
    "train = train[cols]"
   ]
  },
  {
   "cell_type": "markdown",
   "metadata": {},
   "source": [
    "## Criar coluna para predição no conjunto de teste"
   ]
  },
  {
   "cell_type": "code",
   "execution_count": 32,
   "metadata": {},
   "outputs": [],
   "source": [
    "test['NU_NOTA_MT'] = np.nan"
   ]
  },
  {
   "cell_type": "markdown",
   "metadata": {},
   "source": [
    "## Inserir zero automaticamente no conjunto de teste para pessoas que faltaram a prova de Linguagem e Códigos (mesmo dia de matemática)"
   ]
  },
  {
   "cell_type": "code",
   "execution_count": 33,
   "metadata": {},
   "outputs": [],
   "source": [
    "for i in range(0, len(test)):\n",
    "    if test.loc[i, 'TP_PRESENCA_LC'] == 0:\n",
    "        test.loc[i, 'NU_NOTA_MT'] = 0"
   ]
  },
  {
   "cell_type": "markdown",
   "metadata": {},
   "source": [
    "## Eliminação de amostras do conjunto de treinamento - CRITÉRIO QUALITATIVO\n",
    "\n",
    "### (1) Quem ficou ausente no segundo dia será retirado do conjunto de treinamento (não contribui para as notas de matemática)"
   ]
  },
  {
   "cell_type": "code",
   "execution_count": 34,
   "metadata": {},
   "outputs": [
    {
     "data": {
      "text/plain": [
       "13730"
      ]
     },
     "execution_count": 34,
     "metadata": {},
     "output_type": "execute_result"
    }
   ],
   "source": [
    "# Tamanho atual de amostras no conjunto de treinamento\n",
    "len(train)"
   ]
  },
  {
   "cell_type": "code",
   "execution_count": 35,
   "metadata": {},
   "outputs": [
    {
     "data": {
      "text/plain": [
       "3592"
      ]
     },
     "execution_count": 35,
     "metadata": {},
     "output_type": "execute_result"
    }
   ],
   "source": [
    "# Quantidade de amostras que seguem esse padrao para eliminacao\n",
    "len(train[train['TP_PRESENCA_LC'] == 0])"
   ]
  },
  {
   "cell_type": "code",
   "execution_count": 36,
   "metadata": {},
   "outputs": [],
   "source": [
    "# Remover amostras que seguem padrao (1)\n",
    "train = train[train['TP_PRESENCA_LC'] != 0]"
   ]
  },
  {
   "cell_type": "code",
   "execution_count": 37,
   "metadata": {},
   "outputs": [],
   "source": [
    "# Resetar index\n",
    "train.index = range(0, len(train))"
   ]
  },
  {
   "cell_type": "markdown",
   "metadata": {},
   "source": [
    "### (2) Quem tomou zero ou tem a nota faltante em matemática provavelmente nem fez a prova"
   ]
  },
  {
   "cell_type": "code",
   "execution_count": 38,
   "metadata": {},
   "outputs": [
    {
     "data": {
      "text/plain": [
       "10138"
      ]
     },
     "execution_count": 38,
     "metadata": {},
     "output_type": "execute_result"
    }
   ],
   "source": [
    "# Tamanho atual de amostras no conjunto de treinamento\n",
    "len(train)"
   ]
  },
  {
   "cell_type": "code",
   "execution_count": 39,
   "metadata": {},
   "outputs": [
    {
     "data": {
      "text/plain": [
       "10"
      ]
     },
     "execution_count": 39,
     "metadata": {},
     "output_type": "execute_result"
    }
   ],
   "source": [
    "# Quantidade de amostras que seguem esse padrao - resultado zero na prova\n",
    "len(train[train['NU_NOTA_MT'] == 0])"
   ]
  },
  {
   "cell_type": "code",
   "execution_count": 40,
   "metadata": {},
   "outputs": [
    {
     "data": {
      "text/plain": [
       "5"
      ]
     },
     "execution_count": 40,
     "metadata": {},
     "output_type": "execute_result"
    }
   ],
   "source": [
    "# Quantidade de amostras que seguem esse padrao - valor faltante em matemática\n",
    "sum(pd.isnull(train['NU_NOTA_MT']))"
   ]
  },
  {
   "cell_type": "code",
   "execution_count": 41,
   "metadata": {},
   "outputs": [
    {
     "data": {
      "text/plain": [
       "10128"
      ]
     },
     "execution_count": 41,
     "metadata": {},
     "output_type": "execute_result"
    }
   ],
   "source": [
    "# Remover amostras que seguem padrao (2) - resultado zero na prova\n",
    "train = train[train['NU_NOTA_MT'] != 0]\n",
    "# Tamanho atual de amostras no conjunto de treinamento\n",
    "len(train)"
   ]
  },
  {
   "cell_type": "code",
   "execution_count": 42,
   "metadata": {},
   "outputs": [
    {
     "data": {
      "text/plain": [
       "10123"
      ]
     },
     "execution_count": 42,
     "metadata": {},
     "output_type": "execute_result"
    }
   ],
   "source": [
    "# Remover amostras que seguem padrao (2) - resultado zero na prova\n",
    "train = train[pd.notnull(train['NU_NOTA_MT'])]\n",
    "# Tamanho atual de amostras no conjunto de treinamento\n",
    "len(train)"
   ]
  },
  {
   "cell_type": "markdown",
   "metadata": {},
   "source": [
    "### (3) Colunas irrelevantes até o momento para o conjunto de treinamento e teste"
   ]
  },
  {
   "cell_type": "code",
   "execution_count": 43,
   "metadata": {},
   "outputs": [],
   "source": [
    "# Colunas para limpar\n",
    "cols_to_remove = ['SG_UF_RESIDENCIA','CO_UF_RESIDENCIA','TP_ANO_CONCLUIU','TP_DEPENDENCIA_ADM_ESC',\n",
    "                  'CO_PROVA_CN', 'CO_PROVA_CH', 'CO_PROVA_LC', 'CO_PROVA_MT','TP_LINGUA',\n",
    "                  'TP_STATUS_REDACAO','TP_PRESENCA_CN','NU_NOTA_COMP1', 'NU_NOTA_COMP2', \n",
    "                  'NU_NOTA_COMP3','NU_NOTA_COMP4','NU_NOTA_COMP5']"
   ]
  },
  {
   "cell_type": "code",
   "execution_count": 44,
   "metadata": {},
   "outputs": [],
   "source": [
    "# Remoção\n",
    "train.drop(axis=1, columns=cols_to_remove, inplace=True)\n",
    "test.drop(axis=1, columns=cols_to_remove, inplace=True)"
   ]
  },
  {
   "cell_type": "markdown",
   "metadata": {},
   "source": [
    "### (4) Colunas que **não** servem como features para o modelo no conjunto de treinamento"
   ]
  },
  {
   "cell_type": "code",
   "execution_count": 45,
   "metadata": {},
   "outputs": [],
   "source": [
    "# Colunas para limpar\n",
    "cols_to_remove = ['NU_INSCRICAO']\n",
    "# Remoção\n",
    "train.drop(axis=1, columns=cols_to_remove, inplace=True)"
   ]
  },
  {
   "cell_type": "markdown",
   "metadata": {},
   "source": [
    "## Lidando com valores faltantes - Conjunto de treinamento\n",
    "\n",
    "### Matriz de Missing"
   ]
  },
  {
   "cell_type": "code",
   "execution_count": 46,
   "metadata": {},
   "outputs": [
    {
     "data": {
      "image/png": "[encoded data removed]",
      "text/plain": [
       "<Figure size 1080x720 with 2 Axes>"
      ]
     },
     "metadata": {
      "needs_background": "light"
     },
     "output_type": "display_data"
    }
   ],
   "source": [
    "# Nullity Matrix para conjunto de treinamento\n",
    "msno.matrix(train, sort='ascending', figsize=(15, 10));"
   ]
  },
  {
   "cell_type": "code",
   "execution_count": 47,
   "metadata": {},
   "outputs": [],
   "source": [
    "# Colunas muito faltantes para remover\n",
    "cols_to_remove = ['TP_ENSINO', 'Q027']"
   ]
  },
  {
   "cell_type": "markdown",
   "metadata": {},
   "source": [
    "São colunas importantes?\n",
    "\n",
    "`TP_ENSINO` - Tipo de instituição que concluiu ou concluirá o Ensino Médio. Essa coluna é redundante com `TP_ESCOLA`.\n",
    "\n",
    "`Q027` - Com que idade você começou a exercer uma atividade remunerada. Num contexto socioeconomico é importante. Seu missing é enviesado."
   ]
  },
  {
   "cell_type": "code",
   "execution_count": 48,
   "metadata": {},
   "outputs": [],
   "source": [
    "# Remover colunas muito faltantes\n",
    "train.drop(axis=1, inplace=True, columns=cols_to_remove)\n",
    "test.drop(axis=1, inplace=True, columns=cols_to_remove)"
   ]
  },
  {
   "cell_type": "markdown",
   "metadata": {},
   "source": [
    "### Matriz de Missing x2"
   ]
  },
  {
   "cell_type": "code",
   "execution_count": 49,
   "metadata": {},
   "outputs": [
    {
     "data": {
      "image/png": "[encoded data removed]",
      "text/plain": [
       "<Figure size 1080x720 with 2 Axes>"
      ]
     },
     "metadata": {
      "needs_background": "light"
     },
     "output_type": "display_data"
    }
   ],
   "source": [
    "# Matriz de missing em treinamento novamente\n",
    "msno.matrix(train, sort='ascending', figsize=(15, 10));"
   ]
  },
  {
   "cell_type": "markdown",
   "metadata": {},
   "source": [
    "A alterada de 29 para 27 mostra que tem duas colunas com valores faltantes"
   ]
  },
  {
   "cell_type": "code",
   "execution_count": 50,
   "metadata": {},
   "outputs": [
    {
     "data": {
      "text/plain": [
       "NU_NOTA_MT           0\n",
       "NU_IDADE             0\n",
       "TP_SEXO              0\n",
       "TP_COR_RACA          0\n",
       "TP_NACIONALIDADE     0\n",
       "TP_ST_CONCLUSAO      0\n",
       "TP_ESCOLA            0\n",
       "IN_TREINEIRO         0\n",
       "IN_BAIXA_VISAO       0\n",
       "IN_CEGUEIRA          0\n",
       "IN_SURDEZ            0\n",
       "IN_DISLEXIA          0\n",
       "IN_DISCALCULIA       0\n",
       "IN_SABATISTA         0\n",
       "IN_GESTANTE          0\n",
       "IN_IDOSO             0\n",
       "TP_PRESENCA_CH       0\n",
       "TP_PRESENCA_LC       0\n",
       "NU_NOTA_CN          35\n",
       "NU_NOTA_CH          35\n",
       "NU_NOTA_LC           0\n",
       "NU_NOTA_REDACAO      0\n",
       "Q001                 0\n",
       "Q002                 0\n",
       "Q006                 0\n",
       "Q024                 0\n",
       "Q025                 0\n",
       "Q026                 0\n",
       "Q047                 0\n",
       "dtype: int64"
      ]
     },
     "execution_count": 50,
     "metadata": {},
     "output_type": "execute_result"
    }
   ],
   "source": [
    "# Quais colunas estão com alguma amostra faltante ainda?\n",
    "pd.isnull(train).sum()"
   ]
  },
  {
   "cell_type": "markdown",
   "metadata": {},
   "source": [
    "Aparentemente temos 35 amostras faltantes em duas colunas de notas. Vamos olhar mais de perto essas amostras considerando a coluna `TP_PRESENCA_CH` o que pode indicar o porque dessa ausencia no primeiro dia:"
   ]
  },
  {
   "cell_type": "code",
   "execution_count": 51,
   "metadata": {},
   "outputs": [
    {
     "data": {
      "text/plain": [
       "Int64Index([ 737, 1215, 1317, 1320, 1347, 2034, 2170, 2794, 3100, 3196, 3775,\n",
       "            3934, 4273, 4472, 4718, 5144, 5263, 5368, 5659, 5720, 5747, 5859,\n",
       "            5967, 6095, 6636, 7004, 7011, 7998, 8362, 8998, 9297, 9310, 9325,\n",
       "            9743, 9832],\n",
       "           dtype='int64')"
      ]
     },
     "execution_count": 51,
     "metadata": {},
     "output_type": "execute_result"
    }
   ],
   "source": [
    "# Index para essas situações faltantes na nota de CN\n",
    "train[pd.isnull(train['NU_NOTA_CN'])].index"
   ]
  },
  {
   "cell_type": "code",
   "execution_count": 52,
   "metadata": {},
   "outputs": [
    {
     "data": {
      "text/plain": [
       "Int64Index([ 737, 1215, 1317, 1320, 1347, 2034, 2170, 2794, 3100, 3196, 3775,\n",
       "            3934, 4273, 4472, 4718, 5144, 5263, 5368, 5659, 5720, 5747, 5859,\n",
       "            5967, 6095, 6636, 7004, 7011, 7998, 8362, 8998, 9297, 9310, 9325,\n",
       "            9743, 9832],\n",
       "           dtype='int64')"
      ]
     },
     "execution_count": 52,
     "metadata": {},
     "output_type": "execute_result"
    }
   ],
   "source": [
    "# Index para essas situacoes faltantes na nota de CH\n",
    "train[pd.isnull(train['NU_NOTA_CH'])].index"
   ]
  },
  {
   "cell_type": "markdown",
   "metadata": {},
   "source": [
    "Essas amostras faltantes em ambas as colunas são nos mesmo **indexes**. Como está as colunas de presença?"
   ]
  },
  {
   "cell_type": "code",
   "execution_count": 53,
   "metadata": {},
   "outputs": [
    {
     "data": {
      "text/html": [
       "<div>\n",
       "<style scoped>\n",
       "    .dataframe tbody tr th:only-of-type {\n",
       "        vertical-align: middle;\n",
       "    }\n",
       "\n",
       "    .dataframe tbody tr th {\n",
       "        vertical-align: top;\n",
       "    }\n",
       "\n",
       "    .dataframe thead th {\n",
       "        text-align: right;\n",
       "    }\n",
       "</style>\n",
       "<table border=\"1\" class=\"dataframe\">\n",
       "  <thead>\n",
       "    <tr style=\"text-align: right;\">\n",
       "      <th></th>\n",
       "      <th>TP_PRESENCA_CH</th>\n",
       "    </tr>\n",
       "  </thead>\n",
       "  <tbody>\n",
       "    <tr>\n",
       "      <th>737</th>\n",
       "      <td>0</td>\n",
       "    </tr>\n",
       "    <tr>\n",
       "      <th>1215</th>\n",
       "      <td>0</td>\n",
       "    </tr>\n",
       "    <tr>\n",
       "      <th>1317</th>\n",
       "      <td>0</td>\n",
       "    </tr>\n",
       "    <tr>\n",
       "      <th>1320</th>\n",
       "      <td>0</td>\n",
       "    </tr>\n",
       "    <tr>\n",
       "      <th>1347</th>\n",
       "      <td>0</td>\n",
       "    </tr>\n",
       "    <tr>\n",
       "      <th>2034</th>\n",
       "      <td>0</td>\n",
       "    </tr>\n",
       "    <tr>\n",
       "      <th>2170</th>\n",
       "      <td>0</td>\n",
       "    </tr>\n",
       "    <tr>\n",
       "      <th>2794</th>\n",
       "      <td>0</td>\n",
       "    </tr>\n",
       "    <tr>\n",
       "      <th>3100</th>\n",
       "      <td>0</td>\n",
       "    </tr>\n",
       "    <tr>\n",
       "      <th>3196</th>\n",
       "      <td>0</td>\n",
       "    </tr>\n",
       "    <tr>\n",
       "      <th>3775</th>\n",
       "      <td>2</td>\n",
       "    </tr>\n",
       "    <tr>\n",
       "      <th>3934</th>\n",
       "      <td>0</td>\n",
       "    </tr>\n",
       "    <tr>\n",
       "      <th>4273</th>\n",
       "      <td>0</td>\n",
       "    </tr>\n",
       "    <tr>\n",
       "      <th>4472</th>\n",
       "      <td>0</td>\n",
       "    </tr>\n",
       "    <tr>\n",
       "      <th>4718</th>\n",
       "      <td>0</td>\n",
       "    </tr>\n",
       "    <tr>\n",
       "      <th>5144</th>\n",
       "      <td>0</td>\n",
       "    </tr>\n",
       "    <tr>\n",
       "      <th>5263</th>\n",
       "      <td>2</td>\n",
       "    </tr>\n",
       "    <tr>\n",
       "      <th>5368</th>\n",
       "      <td>0</td>\n",
       "    </tr>\n",
       "    <tr>\n",
       "      <th>5659</th>\n",
       "      <td>2</td>\n",
       "    </tr>\n",
       "    <tr>\n",
       "      <th>5720</th>\n",
       "      <td>0</td>\n",
       "    </tr>\n",
       "    <tr>\n",
       "      <th>5747</th>\n",
       "      <td>0</td>\n",
       "    </tr>\n",
       "    <tr>\n",
       "      <th>5859</th>\n",
       "      <td>0</td>\n",
       "    </tr>\n",
       "    <tr>\n",
       "      <th>5967</th>\n",
       "      <td>0</td>\n",
       "    </tr>\n",
       "    <tr>\n",
       "      <th>6095</th>\n",
       "      <td>0</td>\n",
       "    </tr>\n",
       "    <tr>\n",
       "      <th>6636</th>\n",
       "      <td>0</td>\n",
       "    </tr>\n",
       "    <tr>\n",
       "      <th>7004</th>\n",
       "      <td>0</td>\n",
       "    </tr>\n",
       "    <tr>\n",
       "      <th>7011</th>\n",
       "      <td>0</td>\n",
       "    </tr>\n",
       "    <tr>\n",
       "      <th>7998</th>\n",
       "      <td>0</td>\n",
       "    </tr>\n",
       "    <tr>\n",
       "      <th>8362</th>\n",
       "      <td>0</td>\n",
       "    </tr>\n",
       "    <tr>\n",
       "      <th>8998</th>\n",
       "      <td>0</td>\n",
       "    </tr>\n",
       "    <tr>\n",
       "      <th>9297</th>\n",
       "      <td>0</td>\n",
       "    </tr>\n",
       "    <tr>\n",
       "      <th>9310</th>\n",
       "      <td>0</td>\n",
       "    </tr>\n",
       "    <tr>\n",
       "      <th>9325</th>\n",
       "      <td>0</td>\n",
       "    </tr>\n",
       "    <tr>\n",
       "      <th>9743</th>\n",
       "      <td>0</td>\n",
       "    </tr>\n",
       "    <tr>\n",
       "      <th>9832</th>\n",
       "      <td>0</td>\n",
       "    </tr>\n",
       "  </tbody>\n",
       "</table>\n",
       "</div>"
      ],
      "text/plain": [
       "      TP_PRESENCA_CH\n",
       "737                0\n",
       "1215               0\n",
       "1317               0\n",
       "1320               0\n",
       "1347               0\n",
       "2034               0\n",
       "2170               0\n",
       "2794               0\n",
       "3100               0\n",
       "3196               0\n",
       "3775               2\n",
       "3934               0\n",
       "4273               0\n",
       "4472               0\n",
       "4718               0\n",
       "5144               0\n",
       "5263               2\n",
       "5368               0\n",
       "5659               2\n",
       "5720               0\n",
       "5747               0\n",
       "5859               0\n",
       "5967               0\n",
       "6095               0\n",
       "6636               0\n",
       "7004               0\n",
       "7011               0\n",
       "7998               0\n",
       "8362               0\n",
       "8998               0\n",
       "9297               0\n",
       "9310               0\n",
       "9325               0\n",
       "9743               0\n",
       "9832               0"
      ]
     },
     "execution_count": 53,
     "metadata": {},
     "output_type": "execute_result"
    }
   ],
   "source": [
    "train[pd.isnull(train['NU_NOTA_CN']) & pd.isnull(train['NU_NOTA_CH'])][['TP_PRESENCA_CH']]"
   ]
  },
  {
   "cell_type": "markdown",
   "metadata": {},
   "source": [
    "O valor `0` e `2` indicam respectivamente que o aluno estava ausente ou foi desclassificado de alguma forma, logo esses valores faltantes são zero. Considerando que estamos no conjunto de treino podemos sim fazer a eliminação dessas amostras. Vamos continuar a análise agora avaliando como está a coluna de notas:"
   ]
  },
  {
   "cell_type": "code",
   "execution_count": 54,
   "metadata": {},
   "outputs": [
    {
     "data": {
      "text/html": [
       "<div>\n",
       "<style scoped>\n",
       "    .dataframe tbody tr th:only-of-type {\n",
       "        vertical-align: middle;\n",
       "    }\n",
       "\n",
       "    .dataframe tbody tr th {\n",
       "        vertical-align: top;\n",
       "    }\n",
       "\n",
       "    .dataframe thead th {\n",
       "        text-align: right;\n",
       "    }\n",
       "</style>\n",
       "<table border=\"1\" class=\"dataframe\">\n",
       "  <thead>\n",
       "    <tr style=\"text-align: right;\">\n",
       "      <th></th>\n",
       "      <th>NU_NOTA_MT</th>\n",
       "    </tr>\n",
       "  </thead>\n",
       "  <tbody>\n",
       "    <tr>\n",
       "      <th>737</th>\n",
       "      <td>445.4</td>\n",
       "    </tr>\n",
       "    <tr>\n",
       "      <th>1215</th>\n",
       "      <td>397.6</td>\n",
       "    </tr>\n",
       "    <tr>\n",
       "      <th>1317</th>\n",
       "      <td>466.8</td>\n",
       "    </tr>\n",
       "    <tr>\n",
       "      <th>1320</th>\n",
       "      <td>329.0</td>\n",
       "    </tr>\n",
       "    <tr>\n",
       "      <th>1347</th>\n",
       "      <td>381.1</td>\n",
       "    </tr>\n",
       "    <tr>\n",
       "      <th>2034</th>\n",
       "      <td>454.5</td>\n",
       "    </tr>\n",
       "    <tr>\n",
       "      <th>2170</th>\n",
       "      <td>472.6</td>\n",
       "    </tr>\n",
       "    <tr>\n",
       "      <th>2794</th>\n",
       "      <td>461.2</td>\n",
       "    </tr>\n",
       "    <tr>\n",
       "      <th>3100</th>\n",
       "      <td>409.3</td>\n",
       "    </tr>\n",
       "    <tr>\n",
       "      <th>3196</th>\n",
       "      <td>453.6</td>\n",
       "    </tr>\n",
       "    <tr>\n",
       "      <th>3775</th>\n",
       "      <td>389.6</td>\n",
       "    </tr>\n",
       "    <tr>\n",
       "      <th>3934</th>\n",
       "      <td>608.3</td>\n",
       "    </tr>\n",
       "    <tr>\n",
       "      <th>4273</th>\n",
       "      <td>392.7</td>\n",
       "    </tr>\n",
       "    <tr>\n",
       "      <th>4472</th>\n",
       "      <td>550.9</td>\n",
       "    </tr>\n",
       "    <tr>\n",
       "      <th>4718</th>\n",
       "      <td>417.9</td>\n",
       "    </tr>\n",
       "    <tr>\n",
       "      <th>5144</th>\n",
       "      <td>404.6</td>\n",
       "    </tr>\n",
       "    <tr>\n",
       "      <th>5263</th>\n",
       "      <td>441.3</td>\n",
       "    </tr>\n",
       "    <tr>\n",
       "      <th>5368</th>\n",
       "      <td>440.9</td>\n",
       "    </tr>\n",
       "    <tr>\n",
       "      <th>5659</th>\n",
       "      <td>445.2</td>\n",
       "    </tr>\n",
       "    <tr>\n",
       "      <th>5720</th>\n",
       "      <td>566.9</td>\n",
       "    </tr>\n",
       "    <tr>\n",
       "      <th>5747</th>\n",
       "      <td>336.3</td>\n",
       "    </tr>\n",
       "    <tr>\n",
       "      <th>5859</th>\n",
       "      <td>413.6</td>\n",
       "    </tr>\n",
       "    <tr>\n",
       "      <th>5967</th>\n",
       "      <td>407.8</td>\n",
       "    </tr>\n",
       "    <tr>\n",
       "      <th>6095</th>\n",
       "      <td>399.7</td>\n",
       "    </tr>\n",
       "    <tr>\n",
       "      <th>6636</th>\n",
       "      <td>383.9</td>\n",
       "    </tr>\n",
       "    <tr>\n",
       "      <th>7004</th>\n",
       "      <td>401.6</td>\n",
       "    </tr>\n",
       "    <tr>\n",
       "      <th>7011</th>\n",
       "      <td>393.4</td>\n",
       "    </tr>\n",
       "    <tr>\n",
       "      <th>7998</th>\n",
       "      <td>568.2</td>\n",
       "    </tr>\n",
       "    <tr>\n",
       "      <th>8362</th>\n",
       "      <td>445.3</td>\n",
       "    </tr>\n",
       "    <tr>\n",
       "      <th>8998</th>\n",
       "      <td>590.6</td>\n",
       "    </tr>\n",
       "    <tr>\n",
       "      <th>9297</th>\n",
       "      <td>367.8</td>\n",
       "    </tr>\n",
       "    <tr>\n",
       "      <th>9310</th>\n",
       "      <td>610.3</td>\n",
       "    </tr>\n",
       "    <tr>\n",
       "      <th>9325</th>\n",
       "      <td>878.3</td>\n",
       "    </tr>\n",
       "    <tr>\n",
       "      <th>9743</th>\n",
       "      <td>373.2</td>\n",
       "    </tr>\n",
       "    <tr>\n",
       "      <th>9832</th>\n",
       "      <td>348.8</td>\n",
       "    </tr>\n",
       "  </tbody>\n",
       "</table>\n",
       "</div>"
      ],
      "text/plain": [
       "      NU_NOTA_MT\n",
       "737        445.4\n",
       "1215       397.6\n",
       "1317       466.8\n",
       "1320       329.0\n",
       "1347       381.1\n",
       "2034       454.5\n",
       "2170       472.6\n",
       "2794       461.2\n",
       "3100       409.3\n",
       "3196       453.6\n",
       "3775       389.6\n",
       "3934       608.3\n",
       "4273       392.7\n",
       "4472       550.9\n",
       "4718       417.9\n",
       "5144       404.6\n",
       "5263       441.3\n",
       "5368       440.9\n",
       "5659       445.2\n",
       "5720       566.9\n",
       "5747       336.3\n",
       "5859       413.6\n",
       "5967       407.8\n",
       "6095       399.7\n",
       "6636       383.9\n",
       "7004       401.6\n",
       "7011       393.4\n",
       "7998       568.2\n",
       "8362       445.3\n",
       "8998       590.6\n",
       "9297       367.8\n",
       "9310       610.3\n",
       "9325       878.3\n",
       "9743       373.2\n",
       "9832       348.8"
      ]
     },
     "execution_count": 54,
     "metadata": {},
     "output_type": "execute_result"
    }
   ],
   "source": [
    "train[pd.isnull(train['NU_NOTA_CN']) & pd.isnull(train['NU_NOTA_CH'])][['NU_NOTA_MT']]"
   ]
  },
  {
   "cell_type": "markdown",
   "metadata": {},
   "source": [
    "Existem valores realmente, todavia vou optar por **descartar essas amostras ao invés de fazer imputação**, visto que as notas são relativamente baixas e essa quantidade de amostra representa apenas 0.3%. Provavelmente esses alunos faltaram no primeiro dia por razões maiores e no segundo não tiveram bons resultados, pois sabiam que havia perdido."
   ]
  },
  {
   "cell_type": "code",
   "execution_count": 55,
   "metadata": {},
   "outputs": [],
   "source": [
    "# Removendo colunas\n",
    "train = train[pd.notnull(train['NU_NOTA_CN']) & pd.notnull(train['NU_NOTA_CH'])]\n",
    "\n",
    "# Resetar index\n",
    "train.index = range(0, len(train))"
   ]
  },
  {
   "cell_type": "markdown",
   "metadata": {},
   "source": [
    "### Matriz de Missing x3"
   ]
  },
  {
   "cell_type": "code",
   "execution_count": 56,
   "metadata": {},
   "outputs": [
    {
     "data": {
      "image/png": "[encoded data removed]",
      "text/plain": [
       "<Figure size 1080x720 with 2 Axes>"
      ]
     },
     "metadata": {
      "needs_background": "light"
     },
     "output_type": "display_data"
    }
   ],
   "source": [
    "# Matriz de missing em treinamento novamente\n",
    "msno.matrix(train, sort='ascending', figsize=(15, 10));"
   ]
  },
  {
   "cell_type": "markdown",
   "metadata": {},
   "source": [
    "Nenhum valor faltante no conjunto de treinamento. Para verificar com certeza:"
   ]
  },
  {
   "cell_type": "code",
   "execution_count": 57,
   "metadata": {},
   "outputs": [
    {
     "data": {
      "text/plain": [
       "0"
      ]
     },
     "execution_count": 57,
     "metadata": {},
     "output_type": "execute_result"
    }
   ],
   "source": [
    "# Somar todos os missing por coluna e então somar geral\n",
    "sum(pd.isnull(train).sum())"
   ]
  },
  {
   "cell_type": "markdown",
   "metadata": {},
   "source": [
    "Ao final, cerca de **27%** de amostras ruidosas foram removidas do nosso banco de dados. Isso mostra a importância de uma análise criteriosa no conjunto antes da criação de qualquer modelo."
   ]
  },
  {
   "cell_type": "markdown",
   "metadata": {},
   "source": [
    "## Removendo colunas do conjunto de treinamento que não serão usadas como features\n",
    "As colunas `'TP_PRESENCA_CH'` e `'TP_PRESENCA_LC'` ajudam bastante na análise de missing, mas sua existência como features é irrelevante, pois as notas já suprem isso."
   ]
  },
  {
   "cell_type": "code",
   "execution_count": 58,
   "metadata": {},
   "outputs": [],
   "source": [
    "train.drop(axis=1, inplace=True, columns=['TP_PRESENCA_CH','TP_PRESENCA_LC'])"
   ]
  },
  {
   "cell_type": "code",
   "execution_count": 59,
   "metadata": {},
   "outputs": [
    {
     "data": {
      "text/plain": [
       "Index(['NU_NOTA_MT', 'NU_IDADE', 'TP_SEXO', 'TP_COR_RACA', 'TP_NACIONALIDADE',\n",
       "       'TP_ST_CONCLUSAO', 'TP_ESCOLA', 'IN_TREINEIRO', 'IN_BAIXA_VISAO',\n",
       "       'IN_CEGUEIRA', 'IN_SURDEZ', 'IN_DISLEXIA', 'IN_DISCALCULIA',\n",
       "       'IN_SABATISTA', 'IN_GESTANTE', 'IN_IDOSO', 'NU_NOTA_CN', 'NU_NOTA_CH',\n",
       "       'NU_NOTA_LC', 'NU_NOTA_REDACAO', 'Q001', 'Q002', 'Q006', 'Q024', 'Q025',\n",
       "       'Q026', 'Q047'],\n",
       "      dtype='object')"
      ]
     },
     "execution_count": 59,
     "metadata": {},
     "output_type": "execute_result"
    }
   ],
   "source": [
    "# Verificando colunas finais\n",
    "train.columns"
   ]
  },
  {
   "cell_type": "markdown",
   "metadata": {},
   "source": [
    "## Lidando com valores faltantes - Conjunto de treinamento\n",
    "\n",
    "### Matriz de Missing"
   ]
  },
  {
   "cell_type": "code",
   "execution_count": 60,
   "metadata": {},
   "outputs": [
    {
     "data": {
      "image/png": "[encoded data removed]",
      "text/plain": [
       "<Figure size 1080x720 with 2 Axes>"
      ]
     },
     "metadata": {
      "needs_background": "light"
     },
     "output_type": "display_data"
    }
   ],
   "source": [
    "# Matriz de missing em teste\n",
    "msno.matrix(test, sort='ascending', figsize=(15, 10));"
   ]
  },
  {
   "cell_type": "markdown",
   "metadata": {},
   "source": [
    "Aparentemente existem valores ausentes nas colunas de notas e eles estão muito atrelados com os alunos que **zeraram** matemática. Como o desafio pede a predição de todas notas, irei fazer a imputação dos valores faltantes das notas seguindo a seguinte prerrogativa:\n",
    "\n",
    "- (1) Considerando `TP_PRESENCA_CH` como a presença no primeiro dia. Caso seu valor seja `0` isso implica automaticamente em zero nas provas: `NU_NOTA_CN`, `NU_NOTA_CH`\n",
    "- (2) Considerando `TP_PRESENCA_LC` como a presença no segundo dia. Caso seu valor seja `0` isso implica automaticamente em zero nas provas: `NU_NOTA_LC`, `NU_NOTA_REDACAO` (Note que `NU_NOTA_MT` já foi feito lá em cima)\n",
    "- (3) Considerando `TP_PRESENCA_CH` com valor igual a `2` (desclassificado na prova) isso implica automaticamente em zero nas prova: `NU_NOTA_CH`\n",
    "- (4) Considerando `TP_PRESENCA_LC` com valor igual a `2` (desclassificado na prova) isso implica automaticamente em zero nas prova: `NU_NOTA_LC`\n",
    "\n",
    "Isso será feito de modo manual para deixar mais claro o raciocinio:"
   ]
  },
  {
   "cell_type": "code",
   "execution_count": 61,
   "metadata": {},
   "outputs": [],
   "source": [
    "# (1) & (3)\n",
    "for i in range(0, len(test)):\n",
    "    if test.loc[i, 'TP_PRESENCA_CH'] == 0:\n",
    "        if pd.isnull(test.loc[i, 'NU_NOTA_CN']):\n",
    "            test.loc[i, 'NU_NOTA_CN'] = 0\n",
    "        if pd.isnull(test.loc[i, 'NU_NOTA_CH']):\n",
    "            test.loc[i, 'NU_NOTA_CH'] = 0\n",
    "    elif test.loc[i, 'TP_PRESENCA_CH'] == 2:\n",
    "        if pd.isnull(test.loc[i, 'NU_NOTA_CH']):\n",
    "            test.loc[i, 'NU_NOTA_CH'] = 0"
   ]
  },
  {
   "cell_type": "code",
   "execution_count": 62,
   "metadata": {},
   "outputs": [],
   "source": [
    "# (2) & (4)\n",
    "for i in range(0, len(test)):\n",
    "    if test.loc[i, 'TP_PRESENCA_LC'] == 0:\n",
    "        if pd.isnull(test.loc[i, 'NU_NOTA_LC']):\n",
    "            test.loc[i, 'NU_NOTA_LC'] = 0\n",
    "        if pd.isnull(test.loc[i, 'NU_NOTA_REDACAO']):\n",
    "            test.loc[i, 'NU_NOTA_REDACAO'] = 0\n",
    "\n",
    "    elif test.loc[i, 'TP_PRESENCA_LC'] == 2:\n",
    "        if pd.isnull(test.loc[i, 'NU_NOTA_LC']):\n",
    "            test.loc[i, 'NU_NOTA_LC'] = 0"
   ]
  },
  {
   "cell_type": "markdown",
   "metadata": {},
   "source": [
    "#### (!!!)\n",
    "**OBS**: Remover a verificação de ser NaN pode ser interessante para dar veracidade, visto que se a presença tem aqueles valores mesmo que exista alguma nota, ela não é real!"
   ]
  },
  {
   "cell_type": "markdown",
   "metadata": {},
   "source": [
    "### Matriz de Missing x2"
   ]
  },
  {
   "cell_type": "code",
   "execution_count": 63,
   "metadata": {},
   "outputs": [
    {
     "data": {
      "image/png": "[encoded data removed]",
      "text/plain": [
       "<Figure size 1080x720 with 2 Axes>"
      ]
     },
     "metadata": {
      "needs_background": "light"
     },
     "output_type": "display_data"
    }
   ],
   "source": [
    "# Matriz de missing em teste\n",
    "msno.matrix(test, sort='ascending', figsize=(15, 10));"
   ]
  },
  {
   "cell_type": "markdown",
   "metadata": {},
   "source": [
    "Com as colunas `TP_PRESENCA` foi possivel rapidamente eliminar nossos missing values! Todavia, a transição de 30 para 28 mostra que pelo menos uma coluna possui algum valor faltante (`NU_NOTA_MT`) já era esperado."
   ]
  },
  {
   "cell_type": "code",
   "execution_count": 64,
   "metadata": {},
   "outputs": [
    {
     "data": {
      "text/plain": [
       "NU_INSCRICAO           0\n",
       "NU_IDADE               0\n",
       "TP_SEXO                0\n",
       "TP_COR_RACA            0\n",
       "TP_NACIONALIDADE       0\n",
       "TP_ST_CONCLUSAO        0\n",
       "TP_ESCOLA              0\n",
       "IN_TREINEIRO           0\n",
       "IN_BAIXA_VISAO         0\n",
       "IN_CEGUEIRA            0\n",
       "IN_SURDEZ              0\n",
       "IN_DISLEXIA            0\n",
       "IN_DISCALCULIA         0\n",
       "IN_SABATISTA           0\n",
       "IN_GESTANTE            0\n",
       "IN_IDOSO               0\n",
       "TP_PRESENCA_CH         0\n",
       "TP_PRESENCA_LC         0\n",
       "NU_NOTA_CN             0\n",
       "NU_NOTA_CH             0\n",
       "NU_NOTA_LC             0\n",
       "NU_NOTA_REDACAO        4\n",
       "Q001                   0\n",
       "Q002                   0\n",
       "Q006                   0\n",
       "Q024                   0\n",
       "Q025                   0\n",
       "Q026                   0\n",
       "Q047                   0\n",
       "NU_NOTA_MT          3381\n",
       "dtype: int64"
      ]
     },
     "execution_count": 64,
     "metadata": {},
     "output_type": "execute_result"
    }
   ],
   "source": [
    "# Quais colunas estão com alguma amostra faltante ainda?\n",
    "pd.isnull(test).sum()"
   ]
  },
  {
   "cell_type": "code",
   "execution_count": 65,
   "metadata": {},
   "outputs": [
    {
     "data": {
      "text/html": [
       "<div>\n",
       "<style scoped>\n",
       "    .dataframe tbody tr th:only-of-type {\n",
       "        vertical-align: middle;\n",
       "    }\n",
       "\n",
       "    .dataframe tbody tr th {\n",
       "        vertical-align: top;\n",
       "    }\n",
       "\n",
       "    .dataframe thead th {\n",
       "        text-align: right;\n",
       "    }\n",
       "</style>\n",
       "<table border=\"1\" class=\"dataframe\">\n",
       "  <thead>\n",
       "    <tr style=\"text-align: right;\">\n",
       "      <th></th>\n",
       "      <th>TP_PRESENCA_LC</th>\n",
       "      <th>NU_NOTA_MT</th>\n",
       "      <th>NU_NOTA_LC</th>\n",
       "      <th>NU_NOTA_REDACAO</th>\n",
       "      <th>TP_PRESENCA_CH</th>\n",
       "      <th>NU_NOTA_CH</th>\n",
       "      <th>NU_NOTA_CN</th>\n",
       "    </tr>\n",
       "  </thead>\n",
       "  <tbody>\n",
       "    <tr>\n",
       "      <th>1239</th>\n",
       "      <td>2</td>\n",
       "      <td>NaN</td>\n",
       "      <td>0.0</td>\n",
       "      <td>NaN</td>\n",
       "      <td>1</td>\n",
       "      <td>562.7</td>\n",
       "      <td>393.7</td>\n",
       "    </tr>\n",
       "    <tr>\n",
       "      <th>2302</th>\n",
       "      <td>2</td>\n",
       "      <td>NaN</td>\n",
       "      <td>0.0</td>\n",
       "      <td>NaN</td>\n",
       "      <td>1</td>\n",
       "      <td>576.6</td>\n",
       "      <td>509.0</td>\n",
       "    </tr>\n",
       "    <tr>\n",
       "      <th>2593</th>\n",
       "      <td>2</td>\n",
       "      <td>NaN</td>\n",
       "      <td>0.0</td>\n",
       "      <td>NaN</td>\n",
       "      <td>1</td>\n",
       "      <td>568.2</td>\n",
       "      <td>561.1</td>\n",
       "    </tr>\n",
       "    <tr>\n",
       "      <th>3875</th>\n",
       "      <td>2</td>\n",
       "      <td>NaN</td>\n",
       "      <td>0.0</td>\n",
       "      <td>NaN</td>\n",
       "      <td>1</td>\n",
       "      <td>610.2</td>\n",
       "      <td>429.9</td>\n",
       "    </tr>\n",
       "  </tbody>\n",
       "</table>\n",
       "</div>"
      ],
      "text/plain": [
       "      TP_PRESENCA_LC  NU_NOTA_MT  NU_NOTA_LC  NU_NOTA_REDACAO  TP_PRESENCA_CH  \\\n",
       "1239               2         NaN         0.0              NaN               1   \n",
       "2302               2         NaN         0.0              NaN               1   \n",
       "2593               2         NaN         0.0              NaN               1   \n",
       "3875               2         NaN         0.0              NaN               1   \n",
       "\n",
       "      NU_NOTA_CH  NU_NOTA_CN  \n",
       "1239       562.7       393.7  \n",
       "2302       576.6       509.0  \n",
       "2593       568.2       561.1  \n",
       "3875       610.2       429.9  "
      ]
     },
     "execution_count": 65,
     "metadata": {},
     "output_type": "execute_result"
    }
   ],
   "source": [
    "# Vamos ver mais a fundo essas amostras\n",
    "test[pd.isnull(test['NU_NOTA_REDACAO'])][['TP_PRESENCA_LC','NU_NOTA_MT','NU_NOTA_LC','NU_NOTA_REDACAO',\n",
    "                                          'TP_PRESENCA_CH','NU_NOTA_CH','NU_NOTA_CN']]"
   ]
  },
  {
   "cell_type": "markdown",
   "metadata": {},
   "source": [
    "Aparentemente esses alunos participaram no segundo dia, mas no segundo foram reprovados de alguma forma. Provavelmente foram desclassificados no geral (pegos pescando por exemplo). Avaliando o número de pessoas com valor 2 na coluna `TP_PRESENCA_LC`:"
   ]
  },
  {
   "cell_type": "code",
   "execution_count": 66,
   "metadata": {},
   "outputs": [
    {
     "data": {
      "text/plain": [
       "Int64Index([1239, 2302, 2593, 3875], dtype='int64')"
      ]
     },
     "execution_count": 66,
     "metadata": {},
     "output_type": "execute_result"
    }
   ],
   "source": [
    "test[test['TP_PRESENCA_LC'] == 2].index"
   ]
  },
  {
   "cell_type": "markdown",
   "metadata": {},
   "source": [
    "Vemos que só existem esses 4 desclassificados e que são os mostrados anteriormente. Com essas evidências irei assumir que tanto `NU_NOTA_REDACAO` e `NU_NOTA_MT` apresentam o valor `0`, pois tudo indica que essas pessoas não fizeram esse dia 2 corretamente (expulsos)."
   ]
  },
  {
   "cell_type": "code",
   "execution_count": 67,
   "metadata": {},
   "outputs": [],
   "source": [
    "for i in test[test['TP_PRESENCA_LC'] == 2].index:\n",
    "    test.loc[i, 'NU_NOTA_MT'] = 0\n",
    "    test.loc[i, 'NU_NOTA_REDACAO'] = 0"
   ]
  },
  {
   "cell_type": "code",
   "execution_count": 68,
   "metadata": {},
   "outputs": [
    {
     "data": {
      "text/html": [
       "<div>\n",
       "<style scoped>\n",
       "    .dataframe tbody tr th:only-of-type {\n",
       "        vertical-align: middle;\n",
       "    }\n",
       "\n",
       "    .dataframe tbody tr th {\n",
       "        vertical-align: top;\n",
       "    }\n",
       "\n",
       "    .dataframe thead th {\n",
       "        text-align: right;\n",
       "    }\n",
       "</style>\n",
       "<table border=\"1\" class=\"dataframe\">\n",
       "  <thead>\n",
       "    <tr style=\"text-align: right;\">\n",
       "      <th></th>\n",
       "      <th>TP_PRESENCA_LC</th>\n",
       "      <th>NU_NOTA_MT</th>\n",
       "      <th>NU_NOTA_LC</th>\n",
       "      <th>NU_NOTA_REDACAO</th>\n",
       "      <th>TP_PRESENCA_CH</th>\n",
       "      <th>NU_NOTA_CH</th>\n",
       "      <th>NU_NOTA_CN</th>\n",
       "    </tr>\n",
       "  </thead>\n",
       "  <tbody>\n",
       "    <tr>\n",
       "      <th>1239</th>\n",
       "      <td>2</td>\n",
       "      <td>0.0</td>\n",
       "      <td>0.0</td>\n",
       "      <td>0.0</td>\n",
       "      <td>1</td>\n",
       "      <td>562.7</td>\n",
       "      <td>393.7</td>\n",
       "    </tr>\n",
       "    <tr>\n",
       "      <th>2302</th>\n",
       "      <td>2</td>\n",
       "      <td>0.0</td>\n",
       "      <td>0.0</td>\n",
       "      <td>0.0</td>\n",
       "      <td>1</td>\n",
       "      <td>576.6</td>\n",
       "      <td>509.0</td>\n",
       "    </tr>\n",
       "    <tr>\n",
       "      <th>2593</th>\n",
       "      <td>2</td>\n",
       "      <td>0.0</td>\n",
       "      <td>0.0</td>\n",
       "      <td>0.0</td>\n",
       "      <td>1</td>\n",
       "      <td>568.2</td>\n",
       "      <td>561.1</td>\n",
       "    </tr>\n",
       "    <tr>\n",
       "      <th>3875</th>\n",
       "      <td>2</td>\n",
       "      <td>0.0</td>\n",
       "      <td>0.0</td>\n",
       "      <td>0.0</td>\n",
       "      <td>1</td>\n",
       "      <td>610.2</td>\n",
       "      <td>429.9</td>\n",
       "    </tr>\n",
       "  </tbody>\n",
       "</table>\n",
       "</div>"
      ],
      "text/plain": [
       "      TP_PRESENCA_LC  NU_NOTA_MT  NU_NOTA_LC  NU_NOTA_REDACAO  TP_PRESENCA_CH  \\\n",
       "1239               2         0.0         0.0              0.0               1   \n",
       "2302               2         0.0         0.0              0.0               1   \n",
       "2593               2         0.0         0.0              0.0               1   \n",
       "3875               2         0.0         0.0              0.0               1   \n",
       "\n",
       "      NU_NOTA_CH  NU_NOTA_CN  \n",
       "1239       562.7       393.7  \n",
       "2302       576.6       509.0  \n",
       "2593       568.2       561.1  \n",
       "3875       610.2       429.9  "
      ]
     },
     "execution_count": 68,
     "metadata": {},
     "output_type": "execute_result"
    }
   ],
   "source": [
    "# Vamos ver o resultado final\n",
    "test.loc[[1239,2302,2593,3875], ['TP_PRESENCA_LC','NU_NOTA_MT','NU_NOTA_LC','NU_NOTA_REDACAO','TP_PRESENCA_CH','NU_NOTA_CH',\n",
    "                                 'NU_NOTA_CN']]"
   ]
  },
  {
   "cell_type": "markdown",
   "metadata": {},
   "source": [
    "### Matriz de Missing x3"
   ]
  },
  {
   "cell_type": "code",
   "execution_count": 69,
   "metadata": {},
   "outputs": [
    {
     "data": {
      "image/png": "[encoded data removed]",
      "text/plain": [
       "<Figure size 1080x720 with 2 Axes>"
      ]
     },
     "metadata": {
      "needs_background": "light"
     },
     "output_type": "display_data"
    }
   ],
   "source": [
    "# Matriz de missing em teste\n",
    "msno.matrix(test, sort='ascending', figsize=(15, 10));"
   ]
  },
  {
   "cell_type": "markdown",
   "metadata": {},
   "source": [
    "Agora apenas os valores faltantes estão na coluna do nosso objetivo. De quebra ainda conseguimos prever, sem modelo, os valores de mais 4 notas\n",
    "\n",
    "## Removendo colunas do conjunto de teste que não serão usadas como features para o modelo\n",
    "As colunas `'TP_PRESENCA_CH'` e `'TP_PRESENCA_LC'` ajudaram bastante na análise de missing, mas sua existência como features é irrelevante, pois as notas já suprem isso e os missing já foram eliminados."
   ]
  },
  {
   "cell_type": "code",
   "execution_count": 70,
   "metadata": {},
   "outputs": [],
   "source": [
    "test.drop(axis=1, inplace=True, columns=['TP_PRESENCA_CH','TP_PRESENCA_LC'])"
   ]
  },
  {
   "cell_type": "markdown",
   "metadata": {},
   "source": [
    "## Overview geral na quantidade de colunas por dataset"
   ]
  },
  {
   "cell_type": "code",
   "execution_count": 71,
   "metadata": {},
   "outputs": [
    {
     "data": {
      "text/plain": [
       "27"
      ]
     },
     "execution_count": 71,
     "metadata": {},
     "output_type": "execute_result"
    }
   ],
   "source": [
    "len(train.columns)"
   ]
  },
  {
   "cell_type": "code",
   "execution_count": 72,
   "metadata": {},
   "outputs": [
    {
     "data": {
      "text/plain": [
       "28"
      ]
     },
     "execution_count": 72,
     "metadata": {},
     "output_type": "execute_result"
    }
   ],
   "source": [
    "len(test.columns)"
   ]
  },
  {
   "cell_type": "markdown",
   "metadata": {},
   "source": [
    "A diferença reside no `NU_INCRICAO` necessário para a conclusão do envio da resposta do desafio."
   ]
  },
  {
   "cell_type": "markdown",
   "metadata": {},
   "source": [
    "# Transformação das variáveis categóricas\n",
    "Torna-las legíveis para o modelo e análise de features.\n",
    "\n",
    "## Definição do conjunto de variáveis categóricas em\n",
    "- Ordinal (Label Encoding)\n",
    "- Nominal (One Hot Encoding)\n",
    "- Binária (Apenas inserir zero e um)"
   ]
  },
  {
   "cell_type": "code",
   "execution_count": 73,
   "metadata": {},
   "outputs": [],
   "source": [
    "# Divisão - X (ordinal)\n",
    "feat_ord = ['Q001','Q002','Q006','Q024','Q026']\n",
    "# Divisão - X (nominal)\n",
    "feat_non = ['TP_COR_RACA','TP_NACIONALIDADE','TP_ST_CONCLUSAO','TP_ESCOLA','Q047']\n",
    "# Divisão - X (binário)\n",
    "feat_bin = ['TP_SEXO','IN_TREINEIRO','IN_BAIXA_VISAO','IN_CEGUEIRA','IN_SURDEZ','IN_DISLEXIA',\n",
    "            'IN_DISCALCULIA','IN_SABATISTA','IN_GESTANTE','IN_IDOSO','Q025']"
   ]
  },
  {
   "cell_type": "markdown",
   "metadata": {},
   "source": [
    "### FUNCÃO - Transformação Binária & Dummies"
   ]
  },
  {
   "cell_type": "code",
   "execution_count": 74,
   "metadata": {},
   "outputs": [],
   "source": [
    "def transformarCategoricosBinariosNominais(df):\n",
    "    # BINARIO\n",
    "    for i in range(0, len(df)):\n",
    "        ## 'TP_SEXO'\n",
    "        val = df.loc[i,'TP_SEXO']\n",
    "        if val == 'M':\n",
    "            df.loc[i,'TP_SEXO'] = 1\n",
    "        elif val == 'F':\n",
    "            df.loc[i,'TP_SEXO'] = 0\n",
    "        \n",
    "        ## 'Q025'\n",
    "        val = df.loc[i,'Q025']\n",
    "        if val == 'A': #NAO\n",
    "            df.loc[i,'Q025'] = 0\n",
    "        elif val == 'B':#SIM\n",
    "            df.loc[i,'Q025'] = 1        \n",
    "        \n",
    "        ## 'IN_TREINEIRO'\n",
    "        ## 'IN_BAIXA_VISAO'\n",
    "        ## 'IN_CEGUEIRA'\n",
    "        ## 'IN_SURDEZ'\n",
    "        ## 'IN_DISLEXIA'\n",
    "        ## 'IN_DISCALCULIA'\n",
    "        ## 'IN_SABATISTA'\n",
    "        ## 'IN_GESTANTE'\n",
    "        ## 'IN_IDOSO' \n",
    "        ## Já são numericos\n",
    "    \n",
    "    # Nominal para Dummies\n",
    "    ## Mudar o tipo de int para str para fazer as dummies corretamente em todas exceto 'Q047' (já é do tipo str)\n",
    "    for i in range(0, len(df)):\n",
    "        for j in ['TP_COR_RACA','TP_NACIONALIDADE','TP_ST_CONCLUSAO','TP_ESCOLA']:\n",
    "            df.loc[i, j] = str(df.loc[i, j])\n",
    "    ## Dummify!\n",
    "    for j in ['TP_COR_RACA','TP_NACIONALIDADE','TP_ST_CONCLUSAO','TP_ESCOLA','Q047']:\n",
    "        # Criar as dummies\n",
    "        dummies = pd.get_dummies(df[j], prefix=j)\n",
    "        # Concatenar no original\n",
    "        df = pd.concat([df, dummies],axis=1)\n",
    "        # Remover coluna original\n",
    "        df.drop(axis=1, inplace=True, columns=[j])\n",
    "    ## Finish\n",
    "    return df"
   ]
  },
  {
   "cell_type": "markdown",
   "metadata": {},
   "source": [
    "### Aplicação - Transformação Binária & Dummies"
   ]
  },
  {
   "cell_type": "code",
   "execution_count": 75,
   "metadata": {},
   "outputs": [],
   "source": [
    "# Processo - Treinamento\n",
    "trainset = transformarCategoricosBinariosNominais(train)"
   ]
  },
  {
   "cell_type": "code",
   "execution_count": 76,
   "metadata": {},
   "outputs": [],
   "source": [
    "# Processo - Teste\n",
    "testset = transformarCategoricosBinariosNominais(test)"
   ]
  },
  {
   "cell_type": "markdown",
   "metadata": {},
   "source": [
    "### FUNCÃO - Transformação Ordinal"
   ]
  },
  {
   "cell_type": "code",
   "execution_count": 77,
   "metadata": {},
   "outputs": [],
   "source": [
    "def transformarCategoricosOrdinais(df_train, df_test):\n",
    "    for j in feat_ord:\n",
    "        enc = OrdinalEncoder()\n",
    "        X = np.array(df_train[j]).reshape(-1,1)\n",
    "        XS = enc.fit_transform(X)\n",
    "        df_train[j] = XS\n",
    "        X = np.array(df_test[j]).reshape(-1,1)\n",
    "        XS = enc.transform(X)\n",
    "        df_test[j] = XS\n",
    "    return df_train, df_test"
   ]
  },
  {
   "cell_type": "markdown",
   "metadata": {},
   "source": [
    "### Aplicação - Transformação Ordinal"
   ]
  },
  {
   "cell_type": "code",
   "execution_count": 78,
   "metadata": {},
   "outputs": [],
   "source": [
    "# Processo - Treinamento e Teste\n",
    "trainset, testset = transformarCategoricosOrdinais(trainset, testset)"
   ]
  },
  {
   "cell_type": "markdown",
   "metadata": {},
   "source": [
    "#### (!!!)\n",
    "**OBS 2**: Note que talvez seja importante utilizar o OneHot Encoding na transformação anterior a Ordinal para evitar classes erradas ou sumiço delas."
   ]
  },
  {
   "cell_type": "markdown",
   "metadata": {},
   "source": [
    "### Avaliar se tem alguma coluna sem variação"
   ]
  },
  {
   "cell_type": "code",
   "execution_count": 79,
   "metadata": {},
   "outputs": [
    {
     "name": "stdout",
     "output_type": "stream",
     "text": [
      "NU_IDADE  -  53\n",
      "TP_SEXO  -  2\n",
      "IN_TREINEIRO  -  2\n",
      "IN_BAIXA_VISAO  -  2\n",
      "IN_CEGUEIRA  -  1\n",
      "IN_SURDEZ  -  2\n",
      "IN_DISLEXIA  -  2\n",
      "IN_DISCALCULIA  -  2\n",
      "IN_SABATISTA  -  2\n",
      "IN_GESTANTE  -  2\n",
      "IN_IDOSO  -  2\n",
      "NU_NOTA_CN  -  2679\n",
      "NU_NOTA_CH  -  2961\n",
      "NU_NOTA_LC  -  2772\n",
      "NU_NOTA_REDACAO  -  53\n",
      "Q001  -  8\n",
      "Q002  -  8\n",
      "Q006  -  17\n",
      "Q024  -  5\n",
      "Q025  -  2\n",
      "Q026  -  3\n",
      "TP_COR_RACA_0  -  2\n",
      "TP_COR_RACA_1  -  2\n",
      "TP_COR_RACA_2  -  2\n",
      "TP_COR_RACA_3  -  2\n",
      "TP_COR_RACA_4  -  2\n",
      "TP_COR_RACA_5  -  2\n",
      "TP_NACIONALIDADE_0  -  2\n",
      "TP_NACIONALIDADE_1  -  2\n",
      "TP_NACIONALIDADE_2  -  2\n",
      "TP_NACIONALIDADE_3  -  2\n",
      "TP_NACIONALIDADE_4  -  2\n",
      "TP_ST_CONCLUSAO_1  -  2\n",
      "TP_ST_CONCLUSAO_2  -  2\n",
      "TP_ST_CONCLUSAO_3  -  2\n",
      "TP_ST_CONCLUSAO_4  -  2\n",
      "TP_ESCOLA_1  -  2\n",
      "TP_ESCOLA_2  -  2\n",
      "TP_ESCOLA_3  -  2\n",
      "TP_ESCOLA_4  -  2\n",
      "Q047_A  -  2\n",
      "Q047_B  -  2\n",
      "Q047_C  -  2\n",
      "Q047_D  -  2\n",
      "Q047_E  -  2\n"
     ]
    }
   ],
   "source": [
    "for j in trainset.columns:\n",
    "    if not j == 'NU_NOTA_MT':\n",
    "        print(j, ' - ', len(np.unique(trainset[j])))"
   ]
  },
  {
   "cell_type": "markdown",
   "metadata": {},
   "source": [
    "Note que tirando as colunas numéricas, todas as colunas resultantes possuem mais de uma classe exceto a coluna `IN_CEGUEIRA`. Vamos vê-la mais de perto:"
   ]
  },
  {
   "cell_type": "code",
   "execution_count": 80,
   "metadata": {},
   "outputs": [
    {
     "data": {
      "text/plain": [
       "0    10088\n",
       "Name: IN_CEGUEIRA, dtype: int64"
      ]
     },
     "execution_count": 80,
     "metadata": {},
     "output_type": "execute_result"
    }
   ],
   "source": [
    "trainset['IN_CEGUEIRA'].value_counts()"
   ]
  },
  {
   "cell_type": "markdown",
   "metadata": {},
   "source": [
    "Vamos remover `IN_CEGUEIRA` pela ausência de variação:"
   ]
  },
  {
   "cell_type": "code",
   "execution_count": 81,
   "metadata": {},
   "outputs": [],
   "source": [
    "trainset.drop(axis=1, inplace=True, columns=['IN_CEGUEIRA'])\n",
    "testset.drop(axis=1, inplace=True, columns=['IN_CEGUEIRA'])"
   ]
  },
  {
   "cell_type": "code",
   "execution_count": 82,
   "metadata": {},
   "outputs": [],
   "source": [
    "# Resetar o index apenas por precaucao\n",
    "trainset.index = range(0, len(trainset))\n",
    "testset.index = range(0, len(testset))"
   ]
  },
  {
   "cell_type": "markdown",
   "metadata": {},
   "source": [
    "# Seleção de Features\n",
    "\n",
    "## Definição dos tipos de variáveis em\n",
    "- Categorica\n",
    "- Numerica\n",
    "- Label"
   ]
  },
  {
   "cell_type": "code",
   "execution_count": 83,
   "metadata": {},
   "outputs": [],
   "source": [
    "# Divisão - Y\n",
    "label = ['NU_NOTA_MT']\n",
    "# Divisão - X numerico\n",
    "feat_num = ['NU_IDADE', 'NU_NOTA_CN', 'NU_NOTA_CH', 'NU_NOTA_LC', 'NU_NOTA_REDACAO']\n",
    "# Divisão - X categorico (Nominal & Ordinal)\n",
    "feat_cat = ['TP_SEXO','IN_TREINEIRO','IN_BAIXA_VISAO','IN_SURDEZ','IN_DISLEXIA','IN_DISCALCULIA','IN_SABATISTA',\n",
    "            'IN_GESTANTE','IN_IDOSO','Q001','Q002','Q006','Q024','Q025','Q026','TP_COR_RACA_0','TP_COR_RACA_1',\n",
    "            'TP_COR_RACA_2', 'TP_COR_RACA_3','TP_COR_RACA_4','TP_COR_RACA_5','TP_NACIONALIDADE_0',\n",
    "            'TP_NACIONALIDADE_1','TP_NACIONALIDADE_2', 'TP_NACIONALIDADE_3','TP_NACIONALIDADE_4','TP_ST_CONCLUSAO_1',\n",
    "            'TP_ST_CONCLUSAO_2','TP_ST_CONCLUSAO_3','TP_ST_CONCLUSAO_4','TP_ESCOLA_1','TP_ESCOLA_2',\n",
    "            'TP_ESCOLA_3','TP_ESCOLA_4','Q047_A','Q047_B','Q047_C','Q047_D','Q047_E']"
   ]
  },
  {
   "cell_type": "markdown",
   "metadata": {},
   "source": [
    "## Correlação entre variáveis numéricas com Label\n",
    "Usando **Spearman**"
   ]
  },
  {
   "cell_type": "code",
   "execution_count": 84,
   "metadata": {},
   "outputs": [
    {
     "data": {
      "text/html": [
       "<div>\n",
       "<style scoped>\n",
       "    .dataframe tbody tr th:only-of-type {\n",
       "        vertical-align: middle;\n",
       "    }\n",
       "\n",
       "    .dataframe tbody tr th {\n",
       "        vertical-align: top;\n",
       "    }\n",
       "\n",
       "    .dataframe thead th {\n",
       "        text-align: right;\n",
       "    }\n",
       "</style>\n",
       "<table border=\"1\" class=\"dataframe\">\n",
       "  <thead>\n",
       "    <tr style=\"text-align: right;\">\n",
       "      <th></th>\n",
       "      <th>NU_IDADE</th>\n",
       "      <th>NU_NOTA_CN</th>\n",
       "      <th>NU_NOTA_CH</th>\n",
       "      <th>NU_NOTA_LC</th>\n",
       "      <th>NU_NOTA_REDACAO</th>\n",
       "      <th>NU_NOTA_MT</th>\n",
       "    </tr>\n",
       "  </thead>\n",
       "  <tbody>\n",
       "    <tr>\n",
       "      <th>NU_IDADE</th>\n",
       "      <td>1.000000</td>\n",
       "      <td>-0.041568</td>\n",
       "      <td>-0.014443</td>\n",
       "      <td>-0.029317</td>\n",
       "      <td>-0.096543</td>\n",
       "      <td>-0.044671</td>\n",
       "    </tr>\n",
       "    <tr>\n",
       "      <th>NU_NOTA_CN</th>\n",
       "      <td>-0.041568</td>\n",
       "      <td>1.000000</td>\n",
       "      <td>0.568950</td>\n",
       "      <td>0.512208</td>\n",
       "      <td>0.434021</td>\n",
       "      <td>0.454777</td>\n",
       "    </tr>\n",
       "    <tr>\n",
       "      <th>NU_NOTA_CH</th>\n",
       "      <td>-0.014443</td>\n",
       "      <td>0.568950</td>\n",
       "      <td>1.000000</td>\n",
       "      <td>0.709154</td>\n",
       "      <td>0.572904</td>\n",
       "      <td>0.486272</td>\n",
       "    </tr>\n",
       "    <tr>\n",
       "      <th>NU_NOTA_LC</th>\n",
       "      <td>-0.029317</td>\n",
       "      <td>0.512208</td>\n",
       "      <td>0.709154</td>\n",
       "      <td>1.000000</td>\n",
       "      <td>0.539239</td>\n",
       "      <td>0.451977</td>\n",
       "    </tr>\n",
       "    <tr>\n",
       "      <th>NU_NOTA_REDACAO</th>\n",
       "      <td>-0.096543</td>\n",
       "      <td>0.434021</td>\n",
       "      <td>0.572904</td>\n",
       "      <td>0.539239</td>\n",
       "      <td>1.000000</td>\n",
       "      <td>0.358561</td>\n",
       "    </tr>\n",
       "    <tr>\n",
       "      <th>NU_NOTA_MT</th>\n",
       "      <td>-0.044671</td>\n",
       "      <td>0.454777</td>\n",
       "      <td>0.486272</td>\n",
       "      <td>0.451977</td>\n",
       "      <td>0.358561</td>\n",
       "      <td>1.000000</td>\n",
       "    </tr>\n",
       "  </tbody>\n",
       "</table>\n",
       "</div>"
      ],
      "text/plain": [
       "                 NU_IDADE  NU_NOTA_CN  NU_NOTA_CH  NU_NOTA_LC  \\\n",
       "NU_IDADE         1.000000   -0.041568   -0.014443   -0.029317   \n",
       "NU_NOTA_CN      -0.041568    1.000000    0.568950    0.512208   \n",
       "NU_NOTA_CH      -0.014443    0.568950    1.000000    0.709154   \n",
       "NU_NOTA_LC      -0.029317    0.512208    0.709154    1.000000   \n",
       "NU_NOTA_REDACAO -0.096543    0.434021    0.572904    0.539239   \n",
       "NU_NOTA_MT      -0.044671    0.454777    0.486272    0.451977   \n",
       "\n",
       "                 NU_NOTA_REDACAO  NU_NOTA_MT  \n",
       "NU_IDADE               -0.096543   -0.044671  \n",
       "NU_NOTA_CN              0.434021    0.454777  \n",
       "NU_NOTA_CH              0.572904    0.486272  \n",
       "NU_NOTA_LC              0.539239    0.451977  \n",
       "NU_NOTA_REDACAO         1.000000    0.358561  \n",
       "NU_NOTA_MT              0.358561    1.000000  "
      ]
     },
     "execution_count": 84,
     "metadata": {},
     "output_type": "execute_result"
    }
   ],
   "source": [
    "# Avaliar Spearman\n",
    "spearman_corr = trainset[feat_num + label].corr('spearman')\n",
    "spearman_corr"
   ]
  },
  {
   "cell_type": "markdown",
   "metadata": {},
   "source": [
    "Apesar de apresentar correlações consideráveis, `NU_IDADE` se destaca por ter baixissimas correlações entre as features principalmente com a `NU_NOTA_MT`. Logo irei optar por descarta-la:"
   ]
  },
  {
   "cell_type": "code",
   "execution_count": 85,
   "metadata": {},
   "outputs": [],
   "source": [
    "trainset.drop(axis=1, inplace=True, columns=['NU_IDADE'])\n",
    "testset.drop(axis=1, inplace=True, columns=['NU_IDADE'])"
   ]
  },
  {
   "cell_type": "code",
   "execution_count": 86,
   "metadata": {},
   "outputs": [],
   "source": [
    "# Alterando o conjunto de features numericas\n",
    "feat_num = ['NU_NOTA_CN', 'NU_NOTA_CH', 'NU_NOTA_LC', 'NU_NOTA_REDACAO']"
   ]
  },
  {
   "cell_type": "markdown",
   "metadata": {},
   "source": [
    "## Correlação entre variáveis categóricas\n",
    "\n",
    "Usando **V de Cramer** [referencia](https://www.kaggle.com/chrisbss1/cramer-s-v-correlation-matrix)"
   ]
  },
  {
   "cell_type": "code",
   "execution_count": 87,
   "metadata": {},
   "outputs": [],
   "source": [
    "def cramers_V(var1,var2) :\n",
    "    crosstab =np.array(pd.crosstab(var1,var2, rownames=None, colnames=None)) # Cross table building\n",
    "    stat = chi2_contingency(crosstab)[0] # Keeping of the test statistic of the Chi2 test\n",
    "    obs = np.sum(crosstab) # Number of observations\n",
    "    mini = min(crosstab.shape)-1 # Take the minimum value between the columns and the rows of the cross table\n",
    "    return (stat/(obs*mini))"
   ]
  },
  {
   "cell_type": "code",
   "execution_count": 88,
   "metadata": {},
   "outputs": [],
   "source": [
    "def cramers_corr(dataset, features):\n",
    "    rows= []\n",
    "    for var1 in features:\n",
    "        col = []\n",
    "        for var2 in features:\n",
    "            cramers= cramers_V(dataset[var1], dataset[var2]) # Cramer's V test\n",
    "            col.append(round(cramers,2)) # Keeping of the rounded value of the Cramer's V  \n",
    "        rows.append(col)\n",
    "    cramers_results = np.array(rows)\n",
    "    corr = pd.DataFrame(cramers_results, columns = features, index = features)\n",
    "    \n",
    "    return corr"
   ]
  },
  {
   "cell_type": "code",
   "execution_count": 89,
   "metadata": {},
   "outputs": [],
   "source": [
    "# Calculo da correcao do V de Cramers\n",
    "corr = cramers_corr(trainset, features=feat_cat)"
   ]
  },
  {
   "cell_type": "code",
   "execution_count": 90,
   "metadata": {},
   "outputs": [
    {
     "name": "stdout",
     "output_type": "stream",
     "text": [
      "TP_ST_CONCLUSAO_3  TO  IN_TREINEIRO  =  0.78\n",
      "TP_NACIONALIDADE_2  TO  TP_NACIONALIDADE_1  =  0.88\n",
      "TP_NACIONALIDADE_1  TO  TP_NACIONALIDADE_2  =  0.88\n",
      "TP_ESCOLA_1  TO  TP_ST_CONCLUSAO_2  =  1.0\n",
      "TP_ESCOLA_2  TO  TP_ST_CONCLUSAO_2  =  0.78\n",
      "IN_TREINEIRO  TO  TP_ST_CONCLUSAO_3  =  0.78\n",
      "TP_ST_CONCLUSAO_2  TO  TP_ESCOLA_1  =  1.0\n",
      "TP_ESCOLA_2  TO  TP_ESCOLA_1  =  0.78\n",
      "TP_ST_CONCLUSAO_2  TO  TP_ESCOLA_2  =  0.78\n",
      "TP_ESCOLA_1  TO  TP_ESCOLA_2  =  0.78\n"
     ]
    }
   ],
   "source": [
    "# Mostrar apenas valores altos de correlacao entre as features\n",
    "for i in corr.index:\n",
    "    for j in corr.columns:\n",
    "        if corr.loc[j, i] >= 0.6 and j != i:\n",
    "            print(j,' TO ',i,' = ',corr.loc[j, i])"
   ]
  },
  {
   "cell_type": "code",
   "execution_count": 91,
   "metadata": {},
   "outputs": [
    {
     "name": "stdout",
     "output_type": "stream",
     "text": [
      "IN_TREINEIRO  TO  TP_SEXO  =  0.0\n",
      "IN_BAIXA_VISAO  TO  TP_SEXO  =  0.0\n",
      "IN_SURDEZ  TO  TP_SEXO  =  0.0\n",
      "IN_DISLEXIA  TO  TP_SEXO  =  0.0\n",
      "IN_DISCALCULIA  TO  TP_SEXO  =  0.0\n",
      "IN_SABATISTA  TO  TP_SEXO  =  0.0\n",
      "IN_GESTANTE  TO  TP_SEXO  =  0.0\n",
      "IN_IDOSO  TO  TP_SEXO  =  0.0\n",
      "Q001  TO  TP_SEXO  =  0.0\n",
      "Q002  TO  TP_SEXO  =  0.0\n",
      "Q006  TO  TP_SEXO  =  0.01\n",
      "Q024  TO  TP_SEXO  =  0.0\n",
      "Q025  TO  TP_SEXO  =  0.0\n",
      "Q026  TO  TP_SEXO  =  0.01\n",
      "TP_COR_RACA_0  TO  TP_SEXO  =  0.0\n",
      "TP_COR_RACA_1  TO  TP_SEXO  =  0.0\n",
      "TP_COR_RACA_2  TO  TP_SEXO  =  0.0\n",
      "TP_COR_RACA_3  TO  TP_SEXO  =  0.0\n",
      "TP_COR_RACA_4  TO  TP_SEXO  =  0.0\n",
      "TP_COR_RACA_5  TO  TP_SEXO  =  0.0\n",
      "TP_NACIONALIDADE_0  TO  TP_SEXO  =  0.0\n",
      "TP_NACIONALIDADE_1  TO  TP_SEXO  =  0.0\n",
      "TP_NACIONALIDADE_2  TO  TP_SEXO  =  0.0\n",
      "TP_NACIONALIDADE_3  TO  TP_SEXO  =  0.0\n",
      "TP_NACIONALIDADE_4  TO  TP_SEXO  =  0.0\n",
      "TP_ST_CONCLUSAO_1  TO  TP_SEXO  =  0.0\n",
      "TP_ST_CONCLUSAO_2  TO  TP_SEXO  =  0.0\n",
      "TP_ST_CONCLUSAO_3  TO  TP_SEXO  =  0.0\n",
      "TP_ST_CONCLUSAO_4  TO  TP_SEXO  =  0.0\n",
      "TP_ESCOLA_1  TO  TP_SEXO  =  0.0\n",
      "TP_ESCOLA_2  TO  TP_SEXO  =  0.0\n",
      "TP_ESCOLA_3  TO  TP_SEXO  =  0.0\n",
      "TP_ESCOLA_4  TO  TP_SEXO  =  0.0\n",
      "Q047_A  TO  TP_SEXO  =  0.0\n",
      "Q047_B  TO  TP_SEXO  =  0.0\n",
      "Q047_C  TO  TP_SEXO  =  0.0\n",
      "Q047_D  TO  TP_SEXO  =  0.0\n",
      "Q047_E  TO  TP_SEXO  =  0.0\n",
      "TP_SEXO  TO  IN_TREINEIRO  =  0.0\n",
      "IN_BAIXA_VISAO  TO  IN_TREINEIRO  =  0.0\n",
      "IN_SURDEZ  TO  IN_TREINEIRO  =  0.0\n",
      "IN_DISLEXIA  TO  IN_TREINEIRO  =  0.0\n",
      "IN_DISCALCULIA  TO  IN_TREINEIRO  =  0.0\n",
      "IN_SABATISTA  TO  IN_TREINEIRO  =  0.0\n",
      "IN_GESTANTE  TO  IN_TREINEIRO  =  0.0\n",
      "IN_IDOSO  TO  IN_TREINEIRO  =  0.0\n",
      "Q001  TO  IN_TREINEIRO  =  0.01\n",
      "Q002  TO  IN_TREINEIRO  =  0.01\n",
      "Q006  TO  IN_TREINEIRO  =  0.01\n",
      "Q024  TO  IN_TREINEIRO  =  0.0\n",
      "Q025  TO  IN_TREINEIRO  =  0.0\n",
      "Q026  TO  IN_TREINEIRO  =  0.07\n",
      "TP_COR_RACA_0  TO  IN_TREINEIRO  =  0.0\n",
      "TP_COR_RACA_1  TO  IN_TREINEIRO  =  0.0\n",
      "TP_COR_RACA_2  TO  IN_TREINEIRO  =  0.0\n",
      "TP_COR_RACA_3  TO  IN_TREINEIRO  =  0.0\n",
      "TP_COR_RACA_4  TO  IN_TREINEIRO  =  0.0\n",
      "TP_COR_RACA_5  TO  IN_TREINEIRO  =  0.0\n",
      "TP_NACIONALIDADE_0  TO  IN_TREINEIRO  =  0.0\n",
      "TP_NACIONALIDADE_1  TO  IN_TREINEIRO  =  0.0\n",
      "TP_NACIONALIDADE_2  TO  IN_TREINEIRO  =  0.0\n",
      "TP_NACIONALIDADE_3  TO  IN_TREINEIRO  =  0.0\n",
      "TP_NACIONALIDADE_4  TO  IN_TREINEIRO  =  0.0\n",
      "TP_ST_CONCLUSAO_1  TO  IN_TREINEIRO  =  0.13\n",
      "TP_ST_CONCLUSAO_2  TO  IN_TREINEIRO  =  0.1\n",
      "TP_ST_CONCLUSAO_4  TO  IN_TREINEIRO  =  0.0\n",
      "TP_ESCOLA_1  TO  IN_TREINEIRO  =  0.1\n",
      "TP_ESCOLA_2  TO  IN_TREINEIRO  =  0.08\n",
      "TP_ESCOLA_3  TO  IN_TREINEIRO  =  0.01\n",
      "TP_ESCOLA_4  TO  IN_TREINEIRO  =  0.0\n",
      "Q047_A  TO  IN_TREINEIRO  =  0.0\n",
      "Q047_B  TO  IN_TREINEIRO  =  0.0\n",
      "Q047_C  TO  IN_TREINEIRO  =  0.0\n",
      "Q047_D  TO  IN_TREINEIRO  =  0.01\n",
      "Q047_E  TO  IN_TREINEIRO  =  0.0\n",
      "TP_SEXO  TO  IN_BAIXA_VISAO  =  0.0\n",
      "IN_TREINEIRO  TO  IN_BAIXA_VISAO  =  0.0\n",
      "IN_SURDEZ  TO  IN_BAIXA_VISAO  =  0.01\n",
      "IN_DISLEXIA  TO  IN_BAIXA_VISAO  =  0.02\n",
      "IN_DISCALCULIA  TO  IN_BAIXA_VISAO  =  0.02\n",
      "IN_SABATISTA  TO  IN_BAIXA_VISAO  =  0.0\n",
      "IN_GESTANTE  TO  IN_BAIXA_VISAO  =  0.01\n",
      "IN_IDOSO  TO  IN_BAIXA_VISAO  =  0.02\n",
      "Q001  TO  IN_BAIXA_VISAO  =  0.0\n",
      "Q002  TO  IN_BAIXA_VISAO  =  0.0\n",
      "Q006  TO  IN_BAIXA_VISAO  =  0.0\n",
      "Q024  TO  IN_BAIXA_VISAO  =  0.0\n",
      "Q025  TO  IN_BAIXA_VISAO  =  0.0\n",
      "Q026  TO  IN_BAIXA_VISAO  =  0.0\n",
      "TP_COR_RACA_0  TO  IN_BAIXA_VISAO  =  0.0\n",
      "TP_COR_RACA_1  TO  IN_BAIXA_VISAO  =  0.0\n",
      "TP_COR_RACA_2  TO  IN_BAIXA_VISAO  =  0.0\n",
      "TP_COR_RACA_3  TO  IN_BAIXA_VISAO  =  0.0\n",
      "TP_COR_RACA_4  TO  IN_BAIXA_VISAO  =  0.0\n",
      "TP_COR_RACA_5  TO  IN_BAIXA_VISAO  =  0.0\n",
      "TP_NACIONALIDADE_0  TO  IN_BAIXA_VISAO  =  0.0\n",
      "TP_NACIONALIDADE_1  TO  IN_BAIXA_VISAO  =  0.0\n",
      "TP_NACIONALIDADE_2  TO  IN_BAIXA_VISAO  =  0.0\n",
      "TP_NACIONALIDADE_3  TO  IN_BAIXA_VISAO  =  0.0\n",
      "TP_NACIONALIDADE_4  TO  IN_BAIXA_VISAO  =  0.0\n",
      "TP_ST_CONCLUSAO_1  TO  IN_BAIXA_VISAO  =  0.0\n",
      "TP_ST_CONCLUSAO_2  TO  IN_BAIXA_VISAO  =  0.0\n",
      "TP_ST_CONCLUSAO_3  TO  IN_BAIXA_VISAO  =  0.0\n",
      "TP_ST_CONCLUSAO_4  TO  IN_BAIXA_VISAO  =  0.0\n",
      "TP_ESCOLA_1  TO  IN_BAIXA_VISAO  =  0.0\n",
      "TP_ESCOLA_2  TO  IN_BAIXA_VISAO  =  0.0\n",
      "TP_ESCOLA_3  TO  IN_BAIXA_VISAO  =  0.0\n",
      "TP_ESCOLA_4  TO  IN_BAIXA_VISAO  =  0.02\n",
      "Q047_A  TO  IN_BAIXA_VISAO  =  0.0\n",
      "Q047_B  TO  IN_BAIXA_VISAO  =  0.0\n",
      "Q047_C  TO  IN_BAIXA_VISAO  =  0.0\n",
      "Q047_D  TO  IN_BAIXA_VISAO  =  0.0\n",
      "Q047_E  TO  IN_BAIXA_VISAO  =  0.0\n",
      "TP_SEXO  TO  IN_SURDEZ  =  0.0\n",
      "IN_TREINEIRO  TO  IN_SURDEZ  =  0.0\n",
      "IN_BAIXA_VISAO  TO  IN_SURDEZ  =  0.01\n",
      "IN_DISLEXIA  TO  IN_SURDEZ  =  0.06\n",
      "IN_DISCALCULIA  TO  IN_SURDEZ  =  0.06\n",
      "IN_SABATISTA  TO  IN_SURDEZ  =  0.0\n",
      "IN_GESTANTE  TO  IN_SURDEZ  =  0.02\n",
      "IN_IDOSO  TO  IN_SURDEZ  =  0.06\n",
      "Q001  TO  IN_SURDEZ  =  0.0\n",
      "Q002  TO  IN_SURDEZ  =  0.0\n",
      "Q006  TO  IN_SURDEZ  =  0.0\n",
      "Q024  TO  IN_SURDEZ  =  0.0\n",
      "Q025  TO  IN_SURDEZ  =  0.0\n",
      "Q026  TO  IN_SURDEZ  =  0.0\n",
      "TP_COR_RACA_0  TO  IN_SURDEZ  =  0.0\n",
      "TP_COR_RACA_1  TO  IN_SURDEZ  =  0.0\n",
      "TP_COR_RACA_2  TO  IN_SURDEZ  =  0.0\n",
      "TP_COR_RACA_3  TO  IN_SURDEZ  =  0.0\n",
      "TP_COR_RACA_4  TO  IN_SURDEZ  =  0.0\n",
      "TP_COR_RACA_5  TO  IN_SURDEZ  =  0.0\n",
      "TP_NACIONALIDADE_0  TO  IN_SURDEZ  =  0.01\n",
      "TP_NACIONALIDADE_1  TO  IN_SURDEZ  =  0.0\n",
      "TP_NACIONALIDADE_2  TO  IN_SURDEZ  =  0.0\n",
      "TP_NACIONALIDADE_3  TO  IN_SURDEZ  =  0.01\n",
      "TP_NACIONALIDADE_4  TO  IN_SURDEZ  =  0.0\n",
      "TP_ST_CONCLUSAO_1  TO  IN_SURDEZ  =  0.0\n",
      "TP_ST_CONCLUSAO_2  TO  IN_SURDEZ  =  0.0\n",
      "TP_ST_CONCLUSAO_3  TO  IN_SURDEZ  =  0.0\n",
      "TP_ST_CONCLUSAO_4  TO  IN_SURDEZ  =  0.0\n",
      "TP_ESCOLA_1  TO  IN_SURDEZ  =  0.0\n",
      "TP_ESCOLA_2  TO  IN_SURDEZ  =  0.0\n",
      "TP_ESCOLA_3  TO  IN_SURDEZ  =  0.0\n",
      "TP_ESCOLA_4  TO  IN_SURDEZ  =  0.06\n",
      "Q047_A  TO  IN_SURDEZ  =  0.0\n",
      "Q047_B  TO  IN_SURDEZ  =  0.0\n",
      "Q047_C  TO  IN_SURDEZ  =  0.0\n",
      "Q047_D  TO  IN_SURDEZ  =  0.0\n",
      "Q047_E  TO  IN_SURDEZ  =  0.0\n",
      "TP_SEXO  TO  IN_DISLEXIA  =  0.0\n",
      "IN_TREINEIRO  TO  IN_DISLEXIA  =  0.0\n",
      "IN_BAIXA_VISAO  TO  IN_DISLEXIA  =  0.02\n",
      "IN_SURDEZ  TO  IN_DISLEXIA  =  0.06\n",
      "IN_SABATISTA  TO  IN_DISLEXIA  =  0.0\n",
      "IN_GESTANTE  TO  IN_DISLEXIA  =  0.06\n",
      "Q001  TO  IN_DISLEXIA  =  0.0\n",
      "Q002  TO  IN_DISLEXIA  =  0.0\n",
      "Q006  TO  IN_DISLEXIA  =  0.02\n",
      "Q024  TO  IN_DISLEXIA  =  0.01\n",
      "Q025  TO  IN_DISLEXIA  =  0.0\n",
      "Q026  TO  IN_DISLEXIA  =  0.0\n",
      "TP_COR_RACA_0  TO  IN_DISLEXIA  =  0.0\n",
      "TP_COR_RACA_1  TO  IN_DISLEXIA  =  0.0\n",
      "TP_COR_RACA_2  TO  IN_DISLEXIA  =  0.0\n",
      "TP_COR_RACA_3  TO  IN_DISLEXIA  =  0.0\n",
      "TP_COR_RACA_4  TO  IN_DISLEXIA  =  0.0\n",
      "TP_COR_RACA_5  TO  IN_DISLEXIA  =  0.0\n",
      "TP_NACIONALIDADE_0  TO  IN_DISLEXIA  =  0.02\n",
      "TP_NACIONALIDADE_1  TO  IN_DISLEXIA  =  0.0\n",
      "TP_NACIONALIDADE_2  TO  IN_DISLEXIA  =  0.0\n",
      "TP_NACIONALIDADE_3  TO  IN_DISLEXIA  =  0.04\n",
      "TP_NACIONALIDADE_4  TO  IN_DISLEXIA  =  0.01\n",
      "TP_ST_CONCLUSAO_1  TO  IN_DISLEXIA  =  0.0\n",
      "TP_ST_CONCLUSAO_2  TO  IN_DISLEXIA  =  0.0\n",
      "TP_ST_CONCLUSAO_3  TO  IN_DISLEXIA  =  0.0\n",
      "TP_ST_CONCLUSAO_4  TO  IN_DISLEXIA  =  0.0\n",
      "TP_ESCOLA_1  TO  IN_DISLEXIA  =  0.0\n",
      "TP_ESCOLA_2  TO  IN_DISLEXIA  =  0.0\n",
      "TP_ESCOLA_3  TO  IN_DISLEXIA  =  0.0\n",
      "Q047_A  TO  IN_DISLEXIA  =  0.0\n",
      "Q047_B  TO  IN_DISLEXIA  =  0.0\n",
      "Q047_C  TO  IN_DISLEXIA  =  0.0\n",
      "Q047_D  TO  IN_DISLEXIA  =  0.0\n",
      "Q047_E  TO  IN_DISLEXIA  =  0.0\n",
      "TP_SEXO  TO  IN_DISCALCULIA  =  0.0\n",
      "IN_TREINEIRO  TO  IN_DISCALCULIA  =  0.0\n",
      "IN_BAIXA_VISAO  TO  IN_DISCALCULIA  =  0.02\n",
      "IN_SURDEZ  TO  IN_DISCALCULIA  =  0.06\n",
      "IN_SABATISTA  TO  IN_DISCALCULIA  =  0.0\n",
      "IN_GESTANTE  TO  IN_DISCALCULIA  =  0.06\n",
      "Q001  TO  IN_DISCALCULIA  =  0.0\n",
      "Q002  TO  IN_DISCALCULIA  =  0.0\n",
      "Q006  TO  IN_DISCALCULIA  =  0.01\n",
      "Q024  TO  IN_DISCALCULIA  =  0.0\n",
      "Q025  TO  IN_DISCALCULIA  =  0.0\n",
      "Q026  TO  IN_DISCALCULIA  =  0.0\n",
      "TP_COR_RACA_0  TO  IN_DISCALCULIA  =  0.0\n",
      "TP_COR_RACA_1  TO  IN_DISCALCULIA  =  0.0\n",
      "TP_COR_RACA_2  TO  IN_DISCALCULIA  =  0.0\n",
      "TP_COR_RACA_3  TO  IN_DISCALCULIA  =  0.0\n",
      "TP_COR_RACA_4  TO  IN_DISCALCULIA  =  0.0\n",
      "TP_COR_RACA_5  TO  IN_DISCALCULIA  =  0.0\n",
      "TP_NACIONALIDADE_0  TO  IN_DISCALCULIA  =  0.02\n",
      "TP_NACIONALIDADE_1  TO  IN_DISCALCULIA  =  0.0\n",
      "TP_NACIONALIDADE_2  TO  IN_DISCALCULIA  =  0.0\n",
      "TP_NACIONALIDADE_3  TO  IN_DISCALCULIA  =  0.04\n",
      "TP_NACIONALIDADE_4  TO  IN_DISCALCULIA  =  0.01\n",
      "TP_ST_CONCLUSAO_1  TO  IN_DISCALCULIA  =  0.0\n",
      "TP_ST_CONCLUSAO_2  TO  IN_DISCALCULIA  =  0.0\n",
      "TP_ST_CONCLUSAO_3  TO  IN_DISCALCULIA  =  0.0\n",
      "TP_ST_CONCLUSAO_4  TO  IN_DISCALCULIA  =  0.0\n",
      "TP_ESCOLA_1  TO  IN_DISCALCULIA  =  0.0\n",
      "TP_ESCOLA_2  TO  IN_DISCALCULIA  =  0.0\n",
      "TP_ESCOLA_3  TO  IN_DISCALCULIA  =  0.0\n",
      "Q047_A  TO  IN_DISCALCULIA  =  0.0\n",
      "Q047_B  TO  IN_DISCALCULIA  =  0.0\n",
      "Q047_C  TO  IN_DISCALCULIA  =  0.0\n",
      "Q047_D  TO  IN_DISCALCULIA  =  0.0\n",
      "Q047_E  TO  IN_DISCALCULIA  =  0.0\n",
      "TP_SEXO  TO  IN_SABATISTA  =  0.0\n",
      "IN_TREINEIRO  TO  IN_SABATISTA  =  0.0\n",
      "IN_BAIXA_VISAO  TO  IN_SABATISTA  =  0.0\n",
      "IN_SURDEZ  TO  IN_SABATISTA  =  0.0\n",
      "IN_DISLEXIA  TO  IN_SABATISTA  =  0.0\n",
      "IN_DISCALCULIA  TO  IN_SABATISTA  =  0.0\n",
      "IN_GESTANTE  TO  IN_SABATISTA  =  0.0\n",
      "IN_IDOSO  TO  IN_SABATISTA  =  0.0\n",
      "Q001  TO  IN_SABATISTA  =  0.0\n",
      "Q002  TO  IN_SABATISTA  =  0.0\n",
      "Q006  TO  IN_SABATISTA  =  0.0\n",
      "Q024  TO  IN_SABATISTA  =  0.0\n",
      "Q025  TO  IN_SABATISTA  =  0.0\n",
      "Q026  TO  IN_SABATISTA  =  0.0\n"
     ]
    },
    {
     "name": "stdout",
     "output_type": "stream",
     "text": [
      "TP_COR_RACA_0  TO  IN_SABATISTA  =  0.0\n",
      "TP_COR_RACA_1  TO  IN_SABATISTA  =  0.0\n",
      "TP_COR_RACA_2  TO  IN_SABATISTA  =  0.0\n",
      "TP_COR_RACA_3  TO  IN_SABATISTA  =  0.0\n",
      "TP_COR_RACA_4  TO  IN_SABATISTA  =  0.0\n",
      "TP_COR_RACA_5  TO  IN_SABATISTA  =  0.0\n",
      "TP_NACIONALIDADE_0  TO  IN_SABATISTA  =  0.0\n",
      "TP_NACIONALIDADE_1  TO  IN_SABATISTA  =  0.0\n",
      "TP_NACIONALIDADE_2  TO  IN_SABATISTA  =  0.0\n",
      "TP_NACIONALIDADE_3  TO  IN_SABATISTA  =  0.0\n",
      "TP_NACIONALIDADE_4  TO  IN_SABATISTA  =  0.0\n",
      "TP_ST_CONCLUSAO_1  TO  IN_SABATISTA  =  0.0\n",
      "TP_ST_CONCLUSAO_2  TO  IN_SABATISTA  =  0.0\n",
      "TP_ST_CONCLUSAO_3  TO  IN_SABATISTA  =  0.0\n",
      "TP_ST_CONCLUSAO_4  TO  IN_SABATISTA  =  0.0\n",
      "TP_ESCOLA_1  TO  IN_SABATISTA  =  0.0\n",
      "TP_ESCOLA_2  TO  IN_SABATISTA  =  0.0\n",
      "TP_ESCOLA_3  TO  IN_SABATISTA  =  0.0\n",
      "TP_ESCOLA_4  TO  IN_SABATISTA  =  0.0\n",
      "Q047_A  TO  IN_SABATISTA  =  0.0\n",
      "Q047_B  TO  IN_SABATISTA  =  0.0\n",
      "Q047_C  TO  IN_SABATISTA  =  0.0\n",
      "Q047_D  TO  IN_SABATISTA  =  0.0\n",
      "Q047_E  TO  IN_SABATISTA  =  0.0\n",
      "TP_SEXO  TO  IN_GESTANTE  =  0.0\n",
      "IN_TREINEIRO  TO  IN_GESTANTE  =  0.0\n",
      "IN_BAIXA_VISAO  TO  IN_GESTANTE  =  0.01\n",
      "IN_SURDEZ  TO  IN_GESTANTE  =  0.02\n",
      "IN_DISLEXIA  TO  IN_GESTANTE  =  0.06\n",
      "IN_DISCALCULIA  TO  IN_GESTANTE  =  0.06\n",
      "IN_SABATISTA  TO  IN_GESTANTE  =  0.0\n",
      "IN_IDOSO  TO  IN_GESTANTE  =  0.06\n",
      "Q001  TO  IN_GESTANTE  =  0.0\n",
      "Q002  TO  IN_GESTANTE  =  0.0\n",
      "Q006  TO  IN_GESTANTE  =  0.0\n",
      "Q024  TO  IN_GESTANTE  =  0.0\n",
      "Q025  TO  IN_GESTANTE  =  0.0\n",
      "Q026  TO  IN_GESTANTE  =  0.0\n",
      "TP_COR_RACA_0  TO  IN_GESTANTE  =  0.0\n",
      "TP_COR_RACA_1  TO  IN_GESTANTE  =  0.0\n",
      "TP_COR_RACA_2  TO  IN_GESTANTE  =  0.0\n",
      "TP_COR_RACA_3  TO  IN_GESTANTE  =  0.0\n",
      "TP_COR_RACA_4  TO  IN_GESTANTE  =  0.0\n",
      "TP_COR_RACA_5  TO  IN_GESTANTE  =  0.0\n",
      "TP_NACIONALIDADE_0  TO  IN_GESTANTE  =  0.01\n",
      "TP_NACIONALIDADE_1  TO  IN_GESTANTE  =  0.0\n",
      "TP_NACIONALIDADE_2  TO  IN_GESTANTE  =  0.0\n",
      "TP_NACIONALIDADE_3  TO  IN_GESTANTE  =  0.01\n",
      "TP_NACIONALIDADE_4  TO  IN_GESTANTE  =  0.0\n",
      "TP_ST_CONCLUSAO_1  TO  IN_GESTANTE  =  0.0\n",
      "TP_ST_CONCLUSAO_2  TO  IN_GESTANTE  =  0.0\n",
      "TP_ST_CONCLUSAO_3  TO  IN_GESTANTE  =  0.0\n",
      "TP_ST_CONCLUSAO_4  TO  IN_GESTANTE  =  0.0\n",
      "TP_ESCOLA_1  TO  IN_GESTANTE  =  0.0\n",
      "TP_ESCOLA_2  TO  IN_GESTANTE  =  0.0\n",
      "TP_ESCOLA_3  TO  IN_GESTANTE  =  0.0\n",
      "TP_ESCOLA_4  TO  IN_GESTANTE  =  0.06\n",
      "Q047_A  TO  IN_GESTANTE  =  0.0\n",
      "Q047_B  TO  IN_GESTANTE  =  0.0\n",
      "Q047_C  TO  IN_GESTANTE  =  0.0\n",
      "Q047_D  TO  IN_GESTANTE  =  0.0\n",
      "Q047_E  TO  IN_GESTANTE  =  0.0\n",
      "TP_SEXO  TO  IN_IDOSO  =  0.0\n",
      "IN_TREINEIRO  TO  IN_IDOSO  =  0.0\n",
      "IN_BAIXA_VISAO  TO  IN_IDOSO  =  0.02\n",
      "IN_SURDEZ  TO  IN_IDOSO  =  0.06\n",
      "IN_SABATISTA  TO  IN_IDOSO  =  0.0\n",
      "IN_GESTANTE  TO  IN_IDOSO  =  0.06\n",
      "Q001  TO  IN_IDOSO  =  0.0\n",
      "Q002  TO  IN_IDOSO  =  0.0\n",
      "Q006  TO  IN_IDOSO  =  0.0\n",
      "Q024  TO  IN_IDOSO  =  0.0\n",
      "Q025  TO  IN_IDOSO  =  0.0\n",
      "Q026  TO  IN_IDOSO  =  0.0\n",
      "TP_COR_RACA_0  TO  IN_IDOSO  =  0.0\n",
      "TP_COR_RACA_1  TO  IN_IDOSO  =  0.0\n",
      "TP_COR_RACA_2  TO  IN_IDOSO  =  0.0\n",
      "TP_COR_RACA_3  TO  IN_IDOSO  =  0.0\n",
      "TP_COR_RACA_4  TO  IN_IDOSO  =  0.0\n",
      "TP_COR_RACA_5  TO  IN_IDOSO  =  0.0\n",
      "TP_NACIONALIDADE_0  TO  IN_IDOSO  =  0.02\n",
      "TP_NACIONALIDADE_1  TO  IN_IDOSO  =  0.0\n",
      "TP_NACIONALIDADE_2  TO  IN_IDOSO  =  0.0\n",
      "TP_NACIONALIDADE_3  TO  IN_IDOSO  =  0.04\n",
      "TP_NACIONALIDADE_4  TO  IN_IDOSO  =  0.01\n",
      "TP_ST_CONCLUSAO_1  TO  IN_IDOSO  =  0.0\n",
      "TP_ST_CONCLUSAO_2  TO  IN_IDOSO  =  0.0\n",
      "TP_ST_CONCLUSAO_3  TO  IN_IDOSO  =  0.0\n",
      "TP_ST_CONCLUSAO_4  TO  IN_IDOSO  =  0.0\n",
      "TP_ESCOLA_1  TO  IN_IDOSO  =  0.0\n",
      "TP_ESCOLA_2  TO  IN_IDOSO  =  0.0\n",
      "TP_ESCOLA_3  TO  IN_IDOSO  =  0.0\n",
      "Q047_A  TO  IN_IDOSO  =  0.0\n",
      "Q047_B  TO  IN_IDOSO  =  0.0\n",
      "Q047_C  TO  IN_IDOSO  =  0.0\n",
      "Q047_D  TO  IN_IDOSO  =  0.0\n",
      "Q047_E  TO  IN_IDOSO  =  0.0\n",
      "TP_SEXO  TO  Q001  =  0.0\n",
      "IN_TREINEIRO  TO  Q001  =  0.01\n",
      "IN_BAIXA_VISAO  TO  Q001  =  0.0\n",
      "IN_SURDEZ  TO  Q001  =  0.0\n",
      "IN_DISLEXIA  TO  Q001  =  0.0\n",
      "IN_DISCALCULIA  TO  Q001  =  0.0\n",
      "IN_SABATISTA  TO  Q001  =  0.0\n",
      "IN_GESTANTE  TO  Q001  =  0.0\n",
      "IN_IDOSO  TO  Q001  =  0.0\n",
      "Q002  TO  Q001  =  0.13\n",
      "Q006  TO  Q001  =  0.05\n",
      "Q024  TO  Q001  =  0.04\n",
      "Q025  TO  Q001  =  0.1\n",
      "Q026  TO  Q001  =  0.01\n",
      "TP_COR_RACA_0  TO  Q001  =  0.0\n",
      "TP_COR_RACA_1  TO  Q001  =  0.05\n",
      "TP_COR_RACA_2  TO  Q001  =  0.0\n",
      "TP_COR_RACA_3  TO  Q001  =  0.03\n",
      "TP_COR_RACA_4  TO  Q001  =  0.0\n",
      "TP_COR_RACA_5  TO  Q001  =  0.0\n",
      "TP_NACIONALIDADE_0  TO  Q001  =  0.0\n",
      "TP_NACIONALIDADE_1  TO  Q001  =  0.0\n",
      "TP_NACIONALIDADE_2  TO  Q001  =  0.0\n",
      "TP_NACIONALIDADE_3  TO  Q001  =  0.0\n",
      "TP_NACIONALIDADE_4  TO  Q001  =  0.0\n",
      "TP_ST_CONCLUSAO_1  TO  Q001  =  0.01\n",
      "TP_ST_CONCLUSAO_2  TO  Q001  =  0.0\n",
      "TP_ST_CONCLUSAO_3  TO  Q001  =  0.01\n",
      "TP_ST_CONCLUSAO_4  TO  Q001  =  0.0\n",
      "TP_ESCOLA_1  TO  Q001  =  0.0\n",
      "TP_ESCOLA_2  TO  Q001  =  0.01\n",
      "TP_ESCOLA_3  TO  Q001  =  0.06\n",
      "TP_ESCOLA_4  TO  Q001  =  0.0\n",
      "Q047_A  TO  Q001  =  0.16\n",
      "Q047_B  TO  Q001  =  0.01\n",
      "Q047_C  TO  Q001  =  0.0\n",
      "Q047_D  TO  Q001  =  0.15\n",
      "Q047_E  TO  Q001  =  0.02\n",
      "TP_SEXO  TO  Q002  =  0.0\n",
      "IN_TREINEIRO  TO  Q002  =  0.01\n",
      "IN_BAIXA_VISAO  TO  Q002  =  0.0\n",
      "IN_SURDEZ  TO  Q002  =  0.0\n",
      "IN_DISLEXIA  TO  Q002  =  0.0\n",
      "IN_DISCALCULIA  TO  Q002  =  0.0\n",
      "IN_SABATISTA  TO  Q002  =  0.0\n",
      "IN_GESTANTE  TO  Q002  =  0.0\n",
      "IN_IDOSO  TO  Q002  =  0.0\n",
      "Q001  TO  Q002  =  0.13\n",
      "Q006  TO  Q002  =  0.04\n",
      "Q024  TO  Q002  =  0.04\n",
      "Q025  TO  Q002  =  0.09\n",
      "Q026  TO  Q002  =  0.01\n",
      "TP_COR_RACA_0  TO  Q002  =  0.0\n",
      "TP_COR_RACA_1  TO  Q002  =  0.03\n",
      "TP_COR_RACA_2  TO  Q002  =  0.01\n",
      "TP_COR_RACA_3  TO  Q002  =  0.02\n",
      "TP_COR_RACA_4  TO  Q002  =  0.0\n",
      "TP_COR_RACA_5  TO  Q002  =  0.0\n",
      "TP_NACIONALIDADE_0  TO  Q002  =  0.0\n",
      "TP_NACIONALIDADE_1  TO  Q002  =  0.0\n",
      "TP_NACIONALIDADE_2  TO  Q002  =  0.0\n",
      "TP_NACIONALIDADE_3  TO  Q002  =  0.0\n",
      "TP_NACIONALIDADE_4  TO  Q002  =  0.0\n",
      "TP_ST_CONCLUSAO_1  TO  Q002  =  0.01\n",
      "TP_ST_CONCLUSAO_2  TO  Q002  =  0.01\n",
      "TP_ST_CONCLUSAO_3  TO  Q002  =  0.0\n",
      "TP_ST_CONCLUSAO_4  TO  Q002  =  0.0\n",
      "TP_ESCOLA_1  TO  Q002  =  0.01\n",
      "TP_ESCOLA_2  TO  Q002  =  0.01\n",
      "TP_ESCOLA_3  TO  Q002  =  0.06\n",
      "TP_ESCOLA_4  TO  Q002  =  0.0\n",
      "Q047_A  TO  Q002  =  0.15\n",
      "Q047_B  TO  Q002  =  0.0\n",
      "Q047_C  TO  Q002  =  0.0\n",
      "Q047_D  TO  Q002  =  0.13\n",
      "Q047_E  TO  Q002  =  0.02\n",
      "TP_SEXO  TO  Q006  =  0.01\n",
      "IN_TREINEIRO  TO  Q006  =  0.01\n",
      "IN_BAIXA_VISAO  TO  Q006  =  0.0\n",
      "IN_SURDEZ  TO  Q006  =  0.0\n",
      "IN_DISLEXIA  TO  Q006  =  0.02\n",
      "IN_DISCALCULIA  TO  Q006  =  0.01\n",
      "IN_SABATISTA  TO  Q006  =  0.0\n",
      "IN_GESTANTE  TO  Q006  =  0.0\n",
      "IN_IDOSO  TO  Q006  =  0.0\n",
      "Q001  TO  Q006  =  0.05\n",
      "Q002  TO  Q006  =  0.04\n",
      "Q024  TO  Q006  =  0.11\n",
      "Q026  TO  Q006  =  0.03\n",
      "TP_COR_RACA_0  TO  Q006  =  0.0\n",
      "TP_COR_RACA_1  TO  Q006  =  0.08\n",
      "TP_COR_RACA_2  TO  Q006  =  0.01\n",
      "TP_COR_RACA_3  TO  Q006  =  0.05\n",
      "TP_COR_RACA_4  TO  Q006  =  0.0\n",
      "TP_COR_RACA_5  TO  Q006  =  0.0\n",
      "TP_NACIONALIDADE_0  TO  Q006  =  0.0\n",
      "TP_NACIONALIDADE_1  TO  Q006  =  0.0\n",
      "TP_NACIONALIDADE_2  TO  Q006  =  0.0\n",
      "TP_NACIONALIDADE_3  TO  Q006  =  0.0\n",
      "TP_NACIONALIDADE_4  TO  Q006  =  0.0\n",
      "TP_ST_CONCLUSAO_1  TO  Q006  =  0.01\n",
      "TP_ST_CONCLUSAO_2  TO  Q006  =  0.0\n",
      "TP_ST_CONCLUSAO_3  TO  Q006  =  0.01\n",
      "TP_ST_CONCLUSAO_4  TO  Q006  =  0.0\n",
      "TP_ESCOLA_1  TO  Q006  =  0.0\n",
      "TP_ESCOLA_2  TO  Q006  =  0.02\n",
      "TP_ESCOLA_3  TO  Q006  =  0.1\n",
      "TP_ESCOLA_4  TO  Q006  =  0.0\n",
      "Q047_B  TO  Q006  =  0.01\n",
      "Q047_C  TO  Q006  =  0.0\n",
      "Q047_E  TO  Q006  =  0.02\n",
      "TP_SEXO  TO  Q024  =  0.0\n",
      "IN_TREINEIRO  TO  Q024  =  0.0\n",
      "IN_BAIXA_VISAO  TO  Q024  =  0.0\n",
      "IN_SURDEZ  TO  Q024  =  0.0\n",
      "IN_DISLEXIA  TO  Q024  =  0.01\n",
      "IN_DISCALCULIA  TO  Q024  =  0.0\n",
      "IN_SABATISTA  TO  Q024  =  0.0\n",
      "IN_GESTANTE  TO  Q024  =  0.0\n",
      "IN_IDOSO  TO  Q024  =  0.0\n",
      "Q001  TO  Q024  =  0.04\n",
      "Q002  TO  Q024  =  0.04\n",
      "Q006  TO  Q024  =  0.11\n",
      "Q026  TO  Q024  =  0.0\n",
      "TP_COR_RACA_0  TO  Q024  =  0.0\n",
      "TP_COR_RACA_1  TO  Q024  =  0.06\n",
      "TP_COR_RACA_2  TO  Q024  =  0.01\n",
      "TP_COR_RACA_3  TO  Q024  =  0.03\n",
      "TP_COR_RACA_4  TO  Q024  =  0.0\n",
      "TP_COR_RACA_5  TO  Q024  =  0.0\n",
      "TP_NACIONALIDADE_0  TO  Q024  =  0.0\n",
      "TP_NACIONALIDADE_1  TO  Q024  =  0.0\n",
      "TP_NACIONALIDADE_2  TO  Q024  =  0.0\n",
      "TP_NACIONALIDADE_3  TO  Q024  =  0.0\n",
      "TP_NACIONALIDADE_4  TO  Q024  =  0.0\n",
      "TP_ST_CONCLUSAO_1  TO  Q024  =  0.01\n",
      "TP_ST_CONCLUSAO_2  TO  Q024  =  0.0\n",
      "TP_ST_CONCLUSAO_3  TO  Q024  =  0.0\n",
      "TP_ST_CONCLUSAO_4  TO  Q024  =  0.0\n",
      "TP_ESCOLA_1  TO  Q024  =  0.0\n",
      "TP_ESCOLA_2  TO  Q024  =  0.01\n",
      "TP_ESCOLA_3  TO  Q024  =  0.03\n",
      "TP_ESCOLA_4  TO  Q024  =  0.0\n",
      "Q047_A  TO  Q024  =  0.11\n",
      "Q047_B  TO  Q024  =  0.01\n",
      "Q047_C  TO  Q024  =  0.0\n",
      "Q047_D  TO  Q024  =  0.11\n",
      "Q047_E  TO  Q024  =  0.01\n",
      "TP_SEXO  TO  Q025  =  0.0\n",
      "IN_TREINEIRO  TO  Q025  =  0.0\n",
      "IN_BAIXA_VISAO  TO  Q025  =  0.0\n",
      "IN_SURDEZ  TO  Q025  =  0.0\n",
      "IN_DISLEXIA  TO  Q025  =  0.0\n",
      "IN_DISCALCULIA  TO  Q025  =  0.0\n",
      "IN_SABATISTA  TO  Q025  =  0.0\n",
      "IN_GESTANTE  TO  Q025  =  0.0\n",
      "IN_IDOSO  TO  Q025  =  0.0\n",
      "Q001  TO  Q025  =  0.1\n",
      "Q002  TO  Q025  =  0.09\n",
      "Q026  TO  Q025  =  0.0\n",
      "TP_COR_RACA_0  TO  Q025  =  0.0\n",
      "TP_COR_RACA_1  TO  Q025  =  0.04\n",
      "TP_COR_RACA_2  TO  Q025  =  0.0\n",
      "TP_COR_RACA_3  TO  Q025  =  0.02\n",
      "TP_COR_RACA_4  TO  Q025  =  0.0\n",
      "TP_COR_RACA_5  TO  Q025  =  0.0\n",
      "TP_NACIONALIDADE_0  TO  Q025  =  0.0\n",
      "TP_NACIONALIDADE_1  TO  Q025  =  0.0\n",
      "TP_NACIONALIDADE_2  TO  Q025  =  0.0\n",
      "TP_NACIONALIDADE_3  TO  Q025  =  0.0\n",
      "TP_NACIONALIDADE_4  TO  Q025  =  0.0\n",
      "TP_ST_CONCLUSAO_1  TO  Q025  =  0.0\n",
      "TP_ST_CONCLUSAO_2  TO  Q025  =  0.0\n",
      "TP_ST_CONCLUSAO_3  TO  Q025  =  0.0\n",
      "TP_ST_CONCLUSAO_4  TO  Q025  =  0.0\n",
      "TP_ESCOLA_1  TO  Q025  =  0.0\n",
      "TP_ESCOLA_2  TO  Q025  =  0.0\n",
      "TP_ESCOLA_3  TO  Q025  =  0.02\n",
      "TP_ESCOLA_4  TO  Q025  =  0.0\n",
      "Q047_A  TO  Q025  =  0.06\n",
      "Q047_B  TO  Q025  =  0.0\n",
      "Q047_C  TO  Q025  =  0.0\n",
      "Q047_D  TO  Q025  =  0.05\n",
      "Q047_E  TO  Q025  =  0.01\n",
      "TP_SEXO  TO  Q026  =  0.01\n",
      "IN_TREINEIRO  TO  Q026  =  0.07\n",
      "IN_BAIXA_VISAO  TO  Q026  =  0.0\n",
      "IN_SURDEZ  TO  Q026  =  0.0\n",
      "IN_DISLEXIA  TO  Q026  =  0.0\n",
      "IN_DISCALCULIA  TO  Q026  =  0.0\n",
      "IN_SABATISTA  TO  Q026  =  0.0\n",
      "IN_GESTANTE  TO  Q026  =  0.0\n",
      "IN_IDOSO  TO  Q026  =  0.0\n",
      "Q001  TO  Q026  =  0.01\n",
      "Q002  TO  Q026  =  0.01\n",
      "Q006  TO  Q026  =  0.03\n",
      "Q024  TO  Q026  =  0.0\n",
      "Q025  TO  Q026  =  0.0\n",
      "TP_COR_RACA_0  TO  Q026  =  0.0\n",
      "TP_COR_RACA_1  TO  Q026  =  0.0\n",
      "TP_COR_RACA_2  TO  Q026  =  0.0\n",
      "TP_COR_RACA_3  TO  Q026  =  0.0\n",
      "TP_COR_RACA_4  TO  Q026  =  0.0\n"
     ]
    },
    {
     "name": "stdout",
     "output_type": "stream",
     "text": [
      "TP_COR_RACA_5  TO  Q026  =  0.0\n",
      "TP_NACIONALIDADE_0  TO  Q026  =  0.0\n",
      "TP_NACIONALIDADE_1  TO  Q026  =  0.0\n",
      "TP_NACIONALIDADE_2  TO  Q026  =  0.0\n",
      "TP_NACIONALIDADE_3  TO  Q026  =  0.0\n",
      "TP_NACIONALIDADE_4  TO  Q026  =  0.0\n",
      "TP_ST_CONCLUSAO_1  TO  Q026  =  0.15\n",
      "TP_ST_CONCLUSAO_2  TO  Q026  =  0.06\n",
      "TP_ST_CONCLUSAO_3  TO  Q026  =  0.06\n",
      "TP_ST_CONCLUSAO_4  TO  Q026  =  0.02\n",
      "TP_ESCOLA_1  TO  Q026  =  0.06\n",
      "TP_ESCOLA_2  TO  Q026  =  0.04\n",
      "TP_ESCOLA_3  TO  Q026  =  0.02\n",
      "TP_ESCOLA_4  TO  Q026  =  0.0\n",
      "Q047_A  TO  Q026  =  0.02\n",
      "Q047_B  TO  Q026  =  0.0\n",
      "Q047_C  TO  Q026  =  0.0\n",
      "Q047_D  TO  Q026  =  0.03\n",
      "Q047_E  TO  Q026  =  0.0\n",
      "TP_SEXO  TO  TP_COR_RACA_0  =  0.0\n",
      "IN_TREINEIRO  TO  TP_COR_RACA_0  =  0.0\n",
      "IN_BAIXA_VISAO  TO  TP_COR_RACA_0  =  0.0\n",
      "IN_SURDEZ  TO  TP_COR_RACA_0  =  0.0\n",
      "IN_DISLEXIA  TO  TP_COR_RACA_0  =  0.0\n",
      "IN_DISCALCULIA  TO  TP_COR_RACA_0  =  0.0\n",
      "IN_SABATISTA  TO  TP_COR_RACA_0  =  0.0\n",
      "IN_GESTANTE  TO  TP_COR_RACA_0  =  0.0\n",
      "IN_IDOSO  TO  TP_COR_RACA_0  =  0.0\n",
      "Q001  TO  TP_COR_RACA_0  =  0.0\n",
      "Q002  TO  TP_COR_RACA_0  =  0.0\n",
      "Q006  TO  TP_COR_RACA_0  =  0.0\n",
      "Q024  TO  TP_COR_RACA_0  =  0.0\n",
      "Q025  TO  TP_COR_RACA_0  =  0.0\n",
      "Q026  TO  TP_COR_RACA_0  =  0.0\n",
      "TP_COR_RACA_1  TO  TP_COR_RACA_0  =  0.01\n",
      "TP_COR_RACA_2  TO  TP_COR_RACA_0  =  0.0\n",
      "TP_COR_RACA_3  TO  TP_COR_RACA_0  =  0.02\n",
      "TP_COR_RACA_4  TO  TP_COR_RACA_0  =  0.0\n",
      "TP_COR_RACA_5  TO  TP_COR_RACA_0  =  0.0\n",
      "TP_NACIONALIDADE_0  TO  TP_COR_RACA_0  =  0.0\n",
      "TP_NACIONALIDADE_1  TO  TP_COR_RACA_0  =  0.0\n",
      "TP_NACIONALIDADE_2  TO  TP_COR_RACA_0  =  0.0\n",
      "TP_NACIONALIDADE_3  TO  TP_COR_RACA_0  =  0.0\n",
      "TP_NACIONALIDADE_4  TO  TP_COR_RACA_0  =  0.0\n",
      "TP_ST_CONCLUSAO_1  TO  TP_COR_RACA_0  =  0.0\n",
      "TP_ST_CONCLUSAO_2  TO  TP_COR_RACA_0  =  0.0\n",
      "TP_ST_CONCLUSAO_3  TO  TP_COR_RACA_0  =  0.0\n",
      "TP_ST_CONCLUSAO_4  TO  TP_COR_RACA_0  =  0.0\n",
      "TP_ESCOLA_1  TO  TP_COR_RACA_0  =  0.0\n",
      "TP_ESCOLA_2  TO  TP_COR_RACA_0  =  0.0\n",
      "TP_ESCOLA_3  TO  TP_COR_RACA_0  =  0.0\n",
      "TP_ESCOLA_4  TO  TP_COR_RACA_0  =  0.0\n",
      "Q047_A  TO  TP_COR_RACA_0  =  0.0\n",
      "Q047_B  TO  TP_COR_RACA_0  =  0.0\n",
      "Q047_C  TO  TP_COR_RACA_0  =  0.0\n",
      "Q047_D  TO  TP_COR_RACA_0  =  0.0\n",
      "Q047_E  TO  TP_COR_RACA_0  =  0.0\n",
      "TP_SEXO  TO  TP_COR_RACA_1  =  0.0\n",
      "IN_TREINEIRO  TO  TP_COR_RACA_1  =  0.0\n",
      "IN_BAIXA_VISAO  TO  TP_COR_RACA_1  =  0.0\n",
      "IN_SURDEZ  TO  TP_COR_RACA_1  =  0.0\n",
      "IN_DISLEXIA  TO  TP_COR_RACA_1  =  0.0\n",
      "IN_DISCALCULIA  TO  TP_COR_RACA_1  =  0.0\n",
      "IN_SABATISTA  TO  TP_COR_RACA_1  =  0.0\n",
      "IN_GESTANTE  TO  TP_COR_RACA_1  =  0.0\n",
      "IN_IDOSO  TO  TP_COR_RACA_1  =  0.0\n",
      "Q001  TO  TP_COR_RACA_1  =  0.05\n",
      "Q002  TO  TP_COR_RACA_1  =  0.03\n",
      "Q006  TO  TP_COR_RACA_1  =  0.08\n",
      "Q024  TO  TP_COR_RACA_1  =  0.06\n",
      "Q025  TO  TP_COR_RACA_1  =  0.04\n",
      "Q026  TO  TP_COR_RACA_1  =  0.0\n",
      "TP_COR_RACA_0  TO  TP_COR_RACA_1  =  0.01\n",
      "TP_COR_RACA_2  TO  TP_COR_RACA_1  =  0.08\n",
      "TP_COR_RACA_4  TO  TP_COR_RACA_1  =  0.01\n",
      "TP_COR_RACA_5  TO  TP_COR_RACA_1  =  0.0\n",
      "TP_NACIONALIDADE_0  TO  TP_COR_RACA_1  =  0.0\n",
      "TP_NACIONALIDADE_1  TO  TP_COR_RACA_1  =  0.0\n",
      "TP_NACIONALIDADE_2  TO  TP_COR_RACA_1  =  0.0\n",
      "TP_NACIONALIDADE_3  TO  TP_COR_RACA_1  =  0.0\n",
      "TP_NACIONALIDADE_4  TO  TP_COR_RACA_1  =  0.0\n",
      "TP_ST_CONCLUSAO_1  TO  TP_COR_RACA_1  =  0.0\n",
      "TP_ST_CONCLUSAO_2  TO  TP_COR_RACA_1  =  0.0\n",
      "TP_ST_CONCLUSAO_3  TO  TP_COR_RACA_1  =  0.0\n",
      "TP_ST_CONCLUSAO_4  TO  TP_COR_RACA_1  =  0.0\n",
      "TP_ESCOLA_1  TO  TP_COR_RACA_1  =  0.0\n",
      "TP_ESCOLA_2  TO  TP_COR_RACA_1  =  0.0\n",
      "TP_ESCOLA_3  TO  TP_COR_RACA_1  =  0.01\n",
      "TP_ESCOLA_4  TO  TP_COR_RACA_1  =  0.0\n",
      "Q047_A  TO  TP_COR_RACA_1  =  0.03\n",
      "Q047_B  TO  TP_COR_RACA_1  =  0.0\n",
      "Q047_C  TO  TP_COR_RACA_1  =  0.0\n",
      "Q047_D  TO  TP_COR_RACA_1  =  0.03\n",
      "Q047_E  TO  TP_COR_RACA_1  =  0.0\n",
      "TP_SEXO  TO  TP_COR_RACA_2  =  0.0\n",
      "IN_TREINEIRO  TO  TP_COR_RACA_2  =  0.0\n",
      "IN_BAIXA_VISAO  TO  TP_COR_RACA_2  =  0.0\n",
      "IN_SURDEZ  TO  TP_COR_RACA_2  =  0.0\n",
      "IN_DISLEXIA  TO  TP_COR_RACA_2  =  0.0\n",
      "IN_DISCALCULIA  TO  TP_COR_RACA_2  =  0.0\n",
      "IN_SABATISTA  TO  TP_COR_RACA_2  =  0.0\n",
      "IN_GESTANTE  TO  TP_COR_RACA_2  =  0.0\n",
      "IN_IDOSO  TO  TP_COR_RACA_2  =  0.0\n",
      "Q001  TO  TP_COR_RACA_2  =  0.0\n",
      "Q002  TO  TP_COR_RACA_2  =  0.01\n",
      "Q006  TO  TP_COR_RACA_2  =  0.01\n",
      "Q024  TO  TP_COR_RACA_2  =  0.01\n",
      "Q025  TO  TP_COR_RACA_2  =  0.0\n",
      "Q026  TO  TP_COR_RACA_2  =  0.0\n",
      "TP_COR_RACA_0  TO  TP_COR_RACA_2  =  0.0\n",
      "TP_COR_RACA_1  TO  TP_COR_RACA_2  =  0.08\n",
      "TP_COR_RACA_3  TO  TP_COR_RACA_2  =  0.14\n",
      "TP_COR_RACA_4  TO  TP_COR_RACA_2  =  0.0\n",
      "TP_COR_RACA_5  TO  TP_COR_RACA_2  =  0.0\n",
      "TP_NACIONALIDADE_0  TO  TP_COR_RACA_2  =  0.0\n",
      "TP_NACIONALIDADE_1  TO  TP_COR_RACA_2  =  0.0\n",
      "TP_NACIONALIDADE_2  TO  TP_COR_RACA_2  =  0.0\n",
      "TP_NACIONALIDADE_3  TO  TP_COR_RACA_2  =  0.0\n",
      "TP_NACIONALIDADE_4  TO  TP_COR_RACA_2  =  0.0\n",
      "TP_ST_CONCLUSAO_1  TO  TP_COR_RACA_2  =  0.0\n",
      "TP_ST_CONCLUSAO_2  TO  TP_COR_RACA_2  =  0.0\n",
      "TP_ST_CONCLUSAO_3  TO  TP_COR_RACA_2  =  0.0\n",
      "TP_ST_CONCLUSAO_4  TO  TP_COR_RACA_2  =  0.0\n",
      "TP_ESCOLA_1  TO  TP_COR_RACA_2  =  0.0\n",
      "TP_ESCOLA_2  TO  TP_COR_RACA_2  =  0.0\n",
      "TP_ESCOLA_3  TO  TP_COR_RACA_2  =  0.0\n",
      "TP_ESCOLA_4  TO  TP_COR_RACA_2  =  0.0\n",
      "Q047_A  TO  TP_COR_RACA_2  =  0.0\n",
      "Q047_B  TO  TP_COR_RACA_2  =  0.0\n",
      "Q047_C  TO  TP_COR_RACA_2  =  0.0\n",
      "Q047_D  TO  TP_COR_RACA_2  =  0.0\n",
      "Q047_E  TO  TP_COR_RACA_2  =  0.0\n",
      "TP_SEXO  TO  TP_COR_RACA_3  =  0.0\n",
      "IN_TREINEIRO  TO  TP_COR_RACA_3  =  0.0\n",
      "IN_BAIXA_VISAO  TO  TP_COR_RACA_3  =  0.0\n",
      "IN_SURDEZ  TO  TP_COR_RACA_3  =  0.0\n",
      "IN_DISLEXIA  TO  TP_COR_RACA_3  =  0.0\n",
      "IN_DISCALCULIA  TO  TP_COR_RACA_3  =  0.0\n",
      "IN_SABATISTA  TO  TP_COR_RACA_3  =  0.0\n",
      "IN_GESTANTE  TO  TP_COR_RACA_3  =  0.0\n",
      "IN_IDOSO  TO  TP_COR_RACA_3  =  0.0\n",
      "Q001  TO  TP_COR_RACA_3  =  0.03\n",
      "Q002  TO  TP_COR_RACA_3  =  0.02\n",
      "Q006  TO  TP_COR_RACA_3  =  0.05\n",
      "Q024  TO  TP_COR_RACA_3  =  0.03\n",
      "Q025  TO  TP_COR_RACA_3  =  0.02\n",
      "Q026  TO  TP_COR_RACA_3  =  0.0\n",
      "TP_COR_RACA_0  TO  TP_COR_RACA_3  =  0.02\n",
      "TP_COR_RACA_2  TO  TP_COR_RACA_3  =  0.14\n",
      "TP_COR_RACA_4  TO  TP_COR_RACA_3  =  0.02\n",
      "TP_COR_RACA_5  TO  TP_COR_RACA_3  =  0.01\n",
      "TP_NACIONALIDADE_0  TO  TP_COR_RACA_3  =  0.0\n",
      "TP_NACIONALIDADE_1  TO  TP_COR_RACA_3  =  0.0\n",
      "TP_NACIONALIDADE_2  TO  TP_COR_RACA_3  =  0.0\n",
      "TP_NACIONALIDADE_3  TO  TP_COR_RACA_3  =  0.0\n",
      "TP_NACIONALIDADE_4  TO  TP_COR_RACA_3  =  0.0\n",
      "TP_ST_CONCLUSAO_1  TO  TP_COR_RACA_3  =  0.0\n",
      "TP_ST_CONCLUSAO_2  TO  TP_COR_RACA_3  =  0.0\n",
      "TP_ST_CONCLUSAO_3  TO  TP_COR_RACA_3  =  0.0\n",
      "TP_ST_CONCLUSAO_4  TO  TP_COR_RACA_3  =  0.0\n",
      "TP_ESCOLA_1  TO  TP_COR_RACA_3  =  0.0\n",
      "TP_ESCOLA_2  TO  TP_COR_RACA_3  =  0.0\n",
      "TP_ESCOLA_3  TO  TP_COR_RACA_3  =  0.01\n",
      "TP_ESCOLA_4  TO  TP_COR_RACA_3  =  0.0\n",
      "Q047_A  TO  TP_COR_RACA_3  =  0.02\n",
      "Q047_B  TO  TP_COR_RACA_3  =  0.0\n",
      "Q047_C  TO  TP_COR_RACA_3  =  0.0\n",
      "Q047_D  TO  TP_COR_RACA_3  =  0.02\n",
      "Q047_E  TO  TP_COR_RACA_3  =  0.0\n",
      "TP_SEXO  TO  TP_COR_RACA_4  =  0.0\n",
      "IN_TREINEIRO  TO  TP_COR_RACA_4  =  0.0\n",
      "IN_BAIXA_VISAO  TO  TP_COR_RACA_4  =  0.0\n",
      "IN_SURDEZ  TO  TP_COR_RACA_4  =  0.0\n",
      "IN_DISLEXIA  TO  TP_COR_RACA_4  =  0.0\n",
      "IN_DISCALCULIA  TO  TP_COR_RACA_4  =  0.0\n",
      "IN_SABATISTA  TO  TP_COR_RACA_4  =  0.0\n",
      "IN_GESTANTE  TO  TP_COR_RACA_4  =  0.0\n",
      "IN_IDOSO  TO  TP_COR_RACA_4  =  0.0\n",
      "Q001  TO  TP_COR_RACA_4  =  0.0\n",
      "Q002  TO  TP_COR_RACA_4  =  0.0\n",
      "Q006  TO  TP_COR_RACA_4  =  0.0\n",
      "Q024  TO  TP_COR_RACA_4  =  0.0\n",
      "Q025  TO  TP_COR_RACA_4  =  0.0\n",
      "Q026  TO  TP_COR_RACA_4  =  0.0\n",
      "TP_COR_RACA_0  TO  TP_COR_RACA_4  =  0.0\n",
      "TP_COR_RACA_1  TO  TP_COR_RACA_4  =  0.01\n",
      "TP_COR_RACA_2  TO  TP_COR_RACA_4  =  0.0\n",
      "TP_COR_RACA_3  TO  TP_COR_RACA_4  =  0.02\n",
      "TP_COR_RACA_5  TO  TP_COR_RACA_4  =  0.0\n",
      "TP_NACIONALIDADE_0  TO  TP_COR_RACA_4  =  0.0\n",
      "TP_NACIONALIDADE_1  TO  TP_COR_RACA_4  =  0.0\n",
      "TP_NACIONALIDADE_2  TO  TP_COR_RACA_4  =  0.0\n",
      "TP_NACIONALIDADE_3  TO  TP_COR_RACA_4  =  0.0\n",
      "TP_NACIONALIDADE_4  TO  TP_COR_RACA_4  =  0.0\n",
      "TP_ST_CONCLUSAO_1  TO  TP_COR_RACA_4  =  0.0\n",
      "TP_ST_CONCLUSAO_2  TO  TP_COR_RACA_4  =  0.0\n",
      "TP_ST_CONCLUSAO_3  TO  TP_COR_RACA_4  =  0.0\n",
      "TP_ST_CONCLUSAO_4  TO  TP_COR_RACA_4  =  0.0\n",
      "TP_ESCOLA_1  TO  TP_COR_RACA_4  =  0.0\n",
      "TP_ESCOLA_2  TO  TP_COR_RACA_4  =  0.0\n",
      "TP_ESCOLA_3  TO  TP_COR_RACA_4  =  0.0\n",
      "TP_ESCOLA_4  TO  TP_COR_RACA_4  =  0.0\n",
      "Q047_A  TO  TP_COR_RACA_4  =  0.0\n",
      "Q047_B  TO  TP_COR_RACA_4  =  0.0\n",
      "Q047_C  TO  TP_COR_RACA_4  =  0.0\n",
      "Q047_D  TO  TP_COR_RACA_4  =  0.0\n",
      "Q047_E  TO  TP_COR_RACA_4  =  0.0\n",
      "TP_SEXO  TO  TP_COR_RACA_5  =  0.0\n",
      "IN_TREINEIRO  TO  TP_COR_RACA_5  =  0.0\n",
      "IN_BAIXA_VISAO  TO  TP_COR_RACA_5  =  0.0\n",
      "IN_SURDEZ  TO  TP_COR_RACA_5  =  0.0\n",
      "IN_DISLEXIA  TO  TP_COR_RACA_5  =  0.0\n",
      "IN_DISCALCULIA  TO  TP_COR_RACA_5  =  0.0\n",
      "IN_SABATISTA  TO  TP_COR_RACA_5  =  0.0\n",
      "IN_GESTANTE  TO  TP_COR_RACA_5  =  0.0\n",
      "IN_IDOSO  TO  TP_COR_RACA_5  =  0.0\n",
      "Q001  TO  TP_COR_RACA_5  =  0.0\n",
      "Q002  TO  TP_COR_RACA_5  =  0.0\n",
      "Q006  TO  TP_COR_RACA_5  =  0.0\n",
      "Q024  TO  TP_COR_RACA_5  =  0.0\n",
      "Q025  TO  TP_COR_RACA_5  =  0.0\n",
      "Q026  TO  TP_COR_RACA_5  =  0.0\n",
      "TP_COR_RACA_0  TO  TP_COR_RACA_5  =  0.0\n",
      "TP_COR_RACA_1  TO  TP_COR_RACA_5  =  0.0\n",
      "TP_COR_RACA_2  TO  TP_COR_RACA_5  =  0.0\n",
      "TP_COR_RACA_3  TO  TP_COR_RACA_5  =  0.01\n",
      "TP_COR_RACA_4  TO  TP_COR_RACA_5  =  0.0\n",
      "TP_NACIONALIDADE_0  TO  TP_COR_RACA_5  =  0.0\n",
      "TP_NACIONALIDADE_1  TO  TP_COR_RACA_5  =  0.0\n",
      "TP_NACIONALIDADE_2  TO  TP_COR_RACA_5  =  0.0\n",
      "TP_NACIONALIDADE_3  TO  TP_COR_RACA_5  =  0.0\n",
      "TP_NACIONALIDADE_4  TO  TP_COR_RACA_5  =  0.0\n",
      "TP_ST_CONCLUSAO_1  TO  TP_COR_RACA_5  =  0.0\n",
      "TP_ST_CONCLUSAO_2  TO  TP_COR_RACA_5  =  0.0\n",
      "TP_ST_CONCLUSAO_3  TO  TP_COR_RACA_5  =  0.0\n",
      "TP_ST_CONCLUSAO_4  TO  TP_COR_RACA_5  =  0.0\n",
      "TP_ESCOLA_1  TO  TP_COR_RACA_5  =  0.0\n",
      "TP_ESCOLA_2  TO  TP_COR_RACA_5  =  0.0\n",
      "TP_ESCOLA_3  TO  TP_COR_RACA_5  =  0.0\n",
      "TP_ESCOLA_4  TO  TP_COR_RACA_5  =  0.0\n",
      "Q047_A  TO  TP_COR_RACA_5  =  0.0\n",
      "Q047_B  TO  TP_COR_RACA_5  =  0.0\n",
      "Q047_C  TO  TP_COR_RACA_5  =  0.0\n",
      "Q047_D  TO  TP_COR_RACA_5  =  0.0\n",
      "Q047_E  TO  TP_COR_RACA_5  =  0.0\n",
      "TP_SEXO  TO  TP_NACIONALIDADE_0  =  0.0\n",
      "IN_TREINEIRO  TO  TP_NACIONALIDADE_0  =  0.0\n",
      "IN_BAIXA_VISAO  TO  TP_NACIONALIDADE_0  =  0.0\n",
      "IN_SURDEZ  TO  TP_NACIONALIDADE_0  =  0.01\n",
      "IN_DISLEXIA  TO  TP_NACIONALIDADE_0  =  0.02\n",
      "IN_DISCALCULIA  TO  TP_NACIONALIDADE_0  =  0.02\n",
      "IN_SABATISTA  TO  TP_NACIONALIDADE_0  =  0.0\n",
      "IN_GESTANTE  TO  TP_NACIONALIDADE_0  =  0.01\n",
      "IN_IDOSO  TO  TP_NACIONALIDADE_0  =  0.02\n",
      "Q001  TO  TP_NACIONALIDADE_0  =  0.0\n",
      "Q002  TO  TP_NACIONALIDADE_0  =  0.0\n",
      "Q006  TO  TP_NACIONALIDADE_0  =  0.0\n",
      "Q024  TO  TP_NACIONALIDADE_0  =  0.0\n",
      "Q025  TO  TP_NACIONALIDADE_0  =  0.0\n",
      "Q026  TO  TP_NACIONALIDADE_0  =  0.0\n",
      "TP_COR_RACA_0  TO  TP_NACIONALIDADE_0  =  0.0\n",
      "TP_COR_RACA_1  TO  TP_NACIONALIDADE_0  =  0.0\n",
      "TP_COR_RACA_2  TO  TP_NACIONALIDADE_0  =  0.0\n",
      "TP_COR_RACA_3  TO  TP_NACIONALIDADE_0  =  0.0\n",
      "TP_COR_RACA_4  TO  TP_NACIONALIDADE_0  =  0.0\n",
      "TP_COR_RACA_5  TO  TP_NACIONALIDADE_0  =  0.0\n",
      "TP_NACIONALIDADE_1  TO  TP_NACIONALIDADE_0  =  0.02\n",
      "TP_NACIONALIDADE_2  TO  TP_NACIONALIDADE_0  =  0.0\n",
      "TP_NACIONALIDADE_3  TO  TP_NACIONALIDADE_0  =  0.0\n",
      "TP_NACIONALIDADE_4  TO  TP_NACIONALIDADE_0  =  0.0\n",
      "TP_ST_CONCLUSAO_1  TO  TP_NACIONALIDADE_0  =  0.0\n",
      "TP_ST_CONCLUSAO_2  TO  TP_NACIONALIDADE_0  =  0.0\n",
      "TP_ST_CONCLUSAO_3  TO  TP_NACIONALIDADE_0  =  0.0\n",
      "TP_ST_CONCLUSAO_4  TO  TP_NACIONALIDADE_0  =  0.0\n",
      "TP_ESCOLA_1  TO  TP_NACIONALIDADE_0  =  0.0\n",
      "TP_ESCOLA_2  TO  TP_NACIONALIDADE_0  =  0.0\n",
      "TP_ESCOLA_3  TO  TP_NACIONALIDADE_0  =  0.0\n",
      "TP_ESCOLA_4  TO  TP_NACIONALIDADE_0  =  0.02\n",
      "Q047_A  TO  TP_NACIONALIDADE_0  =  0.0\n",
      "Q047_B  TO  TP_NACIONALIDADE_0  =  0.0\n",
      "Q047_C  TO  TP_NACIONALIDADE_0  =  0.0\n",
      "Q047_D  TO  TP_NACIONALIDADE_0  =  0.0\n",
      "Q047_E  TO  TP_NACIONALIDADE_0  =  0.0\n",
      "TP_SEXO  TO  TP_NACIONALIDADE_1  =  0.0\n",
      "IN_TREINEIRO  TO  TP_NACIONALIDADE_1  =  0.0\n",
      "IN_BAIXA_VISAO  TO  TP_NACIONALIDADE_1  =  0.0\n",
      "IN_SURDEZ  TO  TP_NACIONALIDADE_1  =  0.0\n",
      "IN_DISLEXIA  TO  TP_NACIONALIDADE_1  =  0.0\n",
      "IN_DISCALCULIA  TO  TP_NACIONALIDADE_1  =  0.0\n",
      "IN_SABATISTA  TO  TP_NACIONALIDADE_1  =  0.0\n",
      "IN_GESTANTE  TO  TP_NACIONALIDADE_1  =  0.0\n",
      "IN_IDOSO  TO  TP_NACIONALIDADE_1  =  0.0\n",
      "Q001  TO  TP_NACIONALIDADE_1  =  0.0\n",
      "Q002  TO  TP_NACIONALIDADE_1  =  0.0\n",
      "Q006  TO  TP_NACIONALIDADE_1  =  0.0\n",
      "Q024  TO  TP_NACIONALIDADE_1  =  0.0\n",
      "Q025  TO  TP_NACIONALIDADE_1  =  0.0\n",
      "Q026  TO  TP_NACIONALIDADE_1  =  0.0\n",
      "TP_COR_RACA_0  TO  TP_NACIONALIDADE_1  =  0.0\n",
      "TP_COR_RACA_1  TO  TP_NACIONALIDADE_1  =  0.0\n"
     ]
    },
    {
     "name": "stdout",
     "output_type": "stream",
     "text": [
      "TP_COR_RACA_2  TO  TP_NACIONALIDADE_1  =  0.0\n",
      "TP_COR_RACA_3  TO  TP_NACIONALIDADE_1  =  0.0\n",
      "TP_COR_RACA_4  TO  TP_NACIONALIDADE_1  =  0.0\n",
      "TP_COR_RACA_5  TO  TP_NACIONALIDADE_1  =  0.0\n",
      "TP_NACIONALIDADE_0  TO  TP_NACIONALIDADE_1  =  0.02\n",
      "TP_NACIONALIDADE_3  TO  TP_NACIONALIDADE_1  =  0.01\n",
      "TP_NACIONALIDADE_4  TO  TP_NACIONALIDADE_1  =  0.07\n",
      "TP_ST_CONCLUSAO_1  TO  TP_NACIONALIDADE_1  =  0.0\n",
      "TP_ST_CONCLUSAO_2  TO  TP_NACIONALIDADE_1  =  0.0\n",
      "TP_ST_CONCLUSAO_3  TO  TP_NACIONALIDADE_1  =  0.0\n",
      "TP_ST_CONCLUSAO_4  TO  TP_NACIONALIDADE_1  =  0.0\n",
      "TP_ESCOLA_1  TO  TP_NACIONALIDADE_1  =  0.0\n",
      "TP_ESCOLA_2  TO  TP_NACIONALIDADE_1  =  0.0\n",
      "TP_ESCOLA_3  TO  TP_NACIONALIDADE_1  =  0.0\n",
      "TP_ESCOLA_4  TO  TP_NACIONALIDADE_1  =  0.0\n",
      "Q047_A  TO  TP_NACIONALIDADE_1  =  0.0\n",
      "Q047_B  TO  TP_NACIONALIDADE_1  =  0.0\n",
      "Q047_C  TO  TP_NACIONALIDADE_1  =  0.0\n",
      "Q047_D  TO  TP_NACIONALIDADE_1  =  0.0\n",
      "Q047_E  TO  TP_NACIONALIDADE_1  =  0.0\n",
      "TP_SEXO  TO  TP_NACIONALIDADE_2  =  0.0\n",
      "IN_TREINEIRO  TO  TP_NACIONALIDADE_2  =  0.0\n",
      "IN_BAIXA_VISAO  TO  TP_NACIONALIDADE_2  =  0.0\n",
      "IN_SURDEZ  TO  TP_NACIONALIDADE_2  =  0.0\n",
      "IN_DISLEXIA  TO  TP_NACIONALIDADE_2  =  0.0\n",
      "IN_DISCALCULIA  TO  TP_NACIONALIDADE_2  =  0.0\n",
      "IN_SABATISTA  TO  TP_NACIONALIDADE_2  =  0.0\n",
      "IN_GESTANTE  TO  TP_NACIONALIDADE_2  =  0.0\n",
      "IN_IDOSO  TO  TP_NACIONALIDADE_2  =  0.0\n",
      "Q001  TO  TP_NACIONALIDADE_2  =  0.0\n",
      "Q002  TO  TP_NACIONALIDADE_2  =  0.0\n",
      "Q006  TO  TP_NACIONALIDADE_2  =  0.0\n",
      "Q024  TO  TP_NACIONALIDADE_2  =  0.0\n",
      "Q025  TO  TP_NACIONALIDADE_2  =  0.0\n",
      "Q026  TO  TP_NACIONALIDADE_2  =  0.0\n",
      "TP_COR_RACA_0  TO  TP_NACIONALIDADE_2  =  0.0\n",
      "TP_COR_RACA_1  TO  TP_NACIONALIDADE_2  =  0.0\n",
      "TP_COR_RACA_2  TO  TP_NACIONALIDADE_2  =  0.0\n",
      "TP_COR_RACA_3  TO  TP_NACIONALIDADE_2  =  0.0\n",
      "TP_COR_RACA_4  TO  TP_NACIONALIDADE_2  =  0.0\n",
      "TP_COR_RACA_5  TO  TP_NACIONALIDADE_2  =  0.0\n",
      "TP_NACIONALIDADE_0  TO  TP_NACIONALIDADE_2  =  0.0\n",
      "TP_NACIONALIDADE_3  TO  TP_NACIONALIDADE_2  =  0.0\n",
      "TP_NACIONALIDADE_4  TO  TP_NACIONALIDADE_2  =  0.0\n",
      "TP_ST_CONCLUSAO_1  TO  TP_NACIONALIDADE_2  =  0.0\n",
      "TP_ST_CONCLUSAO_2  TO  TP_NACIONALIDADE_2  =  0.0\n",
      "TP_ST_CONCLUSAO_3  TO  TP_NACIONALIDADE_2  =  0.0\n",
      "TP_ST_CONCLUSAO_4  TO  TP_NACIONALIDADE_2  =  0.0\n",
      "TP_ESCOLA_1  TO  TP_NACIONALIDADE_2  =  0.0\n",
      "TP_ESCOLA_2  TO  TP_NACIONALIDADE_2  =  0.0\n",
      "TP_ESCOLA_3  TO  TP_NACIONALIDADE_2  =  0.0\n",
      "TP_ESCOLA_4  TO  TP_NACIONALIDADE_2  =  0.0\n",
      "Q047_A  TO  TP_NACIONALIDADE_2  =  0.0\n",
      "Q047_B  TO  TP_NACIONALIDADE_2  =  0.0\n",
      "Q047_C  TO  TP_NACIONALIDADE_2  =  0.0\n",
      "Q047_D  TO  TP_NACIONALIDADE_2  =  0.0\n",
      "Q047_E  TO  TP_NACIONALIDADE_2  =  0.0\n",
      "TP_SEXO  TO  TP_NACIONALIDADE_3  =  0.0\n",
      "IN_TREINEIRO  TO  TP_NACIONALIDADE_3  =  0.0\n",
      "IN_BAIXA_VISAO  TO  TP_NACIONALIDADE_3  =  0.0\n",
      "IN_SURDEZ  TO  TP_NACIONALIDADE_3  =  0.01\n",
      "IN_DISLEXIA  TO  TP_NACIONALIDADE_3  =  0.04\n",
      "IN_DISCALCULIA  TO  TP_NACIONALIDADE_3  =  0.04\n",
      "IN_SABATISTA  TO  TP_NACIONALIDADE_3  =  0.0\n",
      "IN_GESTANTE  TO  TP_NACIONALIDADE_3  =  0.01\n",
      "IN_IDOSO  TO  TP_NACIONALIDADE_3  =  0.04\n",
      "Q001  TO  TP_NACIONALIDADE_3  =  0.0\n",
      "Q002  TO  TP_NACIONALIDADE_3  =  0.0\n",
      "Q006  TO  TP_NACIONALIDADE_3  =  0.0\n",
      "Q024  TO  TP_NACIONALIDADE_3  =  0.0\n",
      "Q025  TO  TP_NACIONALIDADE_3  =  0.0\n",
      "Q026  TO  TP_NACIONALIDADE_3  =  0.0\n",
      "TP_COR_RACA_0  TO  TP_NACIONALIDADE_3  =  0.0\n",
      "TP_COR_RACA_1  TO  TP_NACIONALIDADE_3  =  0.0\n",
      "TP_COR_RACA_2  TO  TP_NACIONALIDADE_3  =  0.0\n",
      "TP_COR_RACA_3  TO  TP_NACIONALIDADE_3  =  0.0\n",
      "TP_COR_RACA_4  TO  TP_NACIONALIDADE_3  =  0.0\n",
      "TP_COR_RACA_5  TO  TP_NACIONALIDADE_3  =  0.0\n",
      "TP_NACIONALIDADE_0  TO  TP_NACIONALIDADE_3  =  0.0\n",
      "TP_NACIONALIDADE_1  TO  TP_NACIONALIDADE_3  =  0.01\n",
      "TP_NACIONALIDADE_2  TO  TP_NACIONALIDADE_3  =  0.0\n",
      "TP_NACIONALIDADE_4  TO  TP_NACIONALIDADE_3  =  0.0\n",
      "TP_ST_CONCLUSAO_1  TO  TP_NACIONALIDADE_3  =  0.0\n",
      "TP_ST_CONCLUSAO_2  TO  TP_NACIONALIDADE_3  =  0.0\n",
      "TP_ST_CONCLUSAO_3  TO  TP_NACIONALIDADE_3  =  0.0\n",
      "TP_ST_CONCLUSAO_4  TO  TP_NACIONALIDADE_3  =  0.0\n",
      "TP_ESCOLA_1  TO  TP_NACIONALIDADE_3  =  0.0\n",
      "TP_ESCOLA_2  TO  TP_NACIONALIDADE_3  =  0.0\n",
      "TP_ESCOLA_3  TO  TP_NACIONALIDADE_3  =  0.0\n",
      "TP_ESCOLA_4  TO  TP_NACIONALIDADE_3  =  0.04\n",
      "Q047_A  TO  TP_NACIONALIDADE_3  =  0.0\n",
      "Q047_B  TO  TP_NACIONALIDADE_3  =  0.0\n",
      "Q047_C  TO  TP_NACIONALIDADE_3  =  0.0\n",
      "Q047_D  TO  TP_NACIONALIDADE_3  =  0.0\n",
      "Q047_E  TO  TP_NACIONALIDADE_3  =  0.0\n",
      "TP_SEXO  TO  TP_NACIONALIDADE_4  =  0.0\n",
      "IN_TREINEIRO  TO  TP_NACIONALIDADE_4  =  0.0\n",
      "IN_BAIXA_VISAO  TO  TP_NACIONALIDADE_4  =  0.0\n",
      "IN_SURDEZ  TO  TP_NACIONALIDADE_4  =  0.0\n",
      "IN_DISLEXIA  TO  TP_NACIONALIDADE_4  =  0.01\n",
      "IN_DISCALCULIA  TO  TP_NACIONALIDADE_4  =  0.01\n",
      "IN_SABATISTA  TO  TP_NACIONALIDADE_4  =  0.0\n",
      "IN_GESTANTE  TO  TP_NACIONALIDADE_4  =  0.0\n",
      "IN_IDOSO  TO  TP_NACIONALIDADE_4  =  0.01\n",
      "Q001  TO  TP_NACIONALIDADE_4  =  0.0\n",
      "Q002  TO  TP_NACIONALIDADE_4  =  0.0\n",
      "Q006  TO  TP_NACIONALIDADE_4  =  0.0\n",
      "Q024  TO  TP_NACIONALIDADE_4  =  0.0\n",
      "Q025  TO  TP_NACIONALIDADE_4  =  0.0\n",
      "Q026  TO  TP_NACIONALIDADE_4  =  0.0\n",
      "TP_COR_RACA_0  TO  TP_NACIONALIDADE_4  =  0.0\n",
      "TP_COR_RACA_1  TO  TP_NACIONALIDADE_4  =  0.0\n",
      "TP_COR_RACA_2  TO  TP_NACIONALIDADE_4  =  0.0\n",
      "TP_COR_RACA_3  TO  TP_NACIONALIDADE_4  =  0.0\n",
      "TP_COR_RACA_4  TO  TP_NACIONALIDADE_4  =  0.0\n",
      "TP_COR_RACA_5  TO  TP_NACIONALIDADE_4  =  0.0\n",
      "TP_NACIONALIDADE_0  TO  TP_NACIONALIDADE_4  =  0.0\n",
      "TP_NACIONALIDADE_1  TO  TP_NACIONALIDADE_4  =  0.07\n",
      "TP_NACIONALIDADE_2  TO  TP_NACIONALIDADE_4  =  0.0\n",
      "TP_NACIONALIDADE_3  TO  TP_NACIONALIDADE_4  =  0.0\n",
      "TP_ST_CONCLUSAO_1  TO  TP_NACIONALIDADE_4  =  0.0\n",
      "TP_ST_CONCLUSAO_2  TO  TP_NACIONALIDADE_4  =  0.0\n",
      "TP_ST_CONCLUSAO_3  TO  TP_NACIONALIDADE_4  =  0.0\n",
      "TP_ST_CONCLUSAO_4  TO  TP_NACIONALIDADE_4  =  0.0\n",
      "TP_ESCOLA_1  TO  TP_NACIONALIDADE_4  =  0.0\n",
      "TP_ESCOLA_2  TO  TP_NACIONALIDADE_4  =  0.0\n",
      "TP_ESCOLA_3  TO  TP_NACIONALIDADE_4  =  0.0\n",
      "TP_ESCOLA_4  TO  TP_NACIONALIDADE_4  =  0.01\n",
      "Q047_A  TO  TP_NACIONALIDADE_4  =  0.0\n",
      "Q047_B  TO  TP_NACIONALIDADE_4  =  0.0\n",
      "Q047_C  TO  TP_NACIONALIDADE_4  =  0.0\n",
      "Q047_D  TO  TP_NACIONALIDADE_4  =  0.0\n",
      "Q047_E  TO  TP_NACIONALIDADE_4  =  0.0\n",
      "TP_SEXO  TO  TP_ST_CONCLUSAO_1  =  0.0\n",
      "IN_TREINEIRO  TO  TP_ST_CONCLUSAO_1  =  0.13\n",
      "IN_BAIXA_VISAO  TO  TP_ST_CONCLUSAO_1  =  0.0\n",
      "IN_SURDEZ  TO  TP_ST_CONCLUSAO_1  =  0.0\n",
      "IN_DISLEXIA  TO  TP_ST_CONCLUSAO_1  =  0.0\n",
      "IN_DISCALCULIA  TO  TP_ST_CONCLUSAO_1  =  0.0\n",
      "IN_SABATISTA  TO  TP_ST_CONCLUSAO_1  =  0.0\n",
      "IN_GESTANTE  TO  TP_ST_CONCLUSAO_1  =  0.0\n",
      "IN_IDOSO  TO  TP_ST_CONCLUSAO_1  =  0.0\n",
      "Q001  TO  TP_ST_CONCLUSAO_1  =  0.01\n",
      "Q002  TO  TP_ST_CONCLUSAO_1  =  0.01\n",
      "Q006  TO  TP_ST_CONCLUSAO_1  =  0.01\n",
      "Q024  TO  TP_ST_CONCLUSAO_1  =  0.01\n",
      "Q025  TO  TP_ST_CONCLUSAO_1  =  0.0\n",
      "Q026  TO  TP_ST_CONCLUSAO_1  =  0.15\n",
      "TP_COR_RACA_0  TO  TP_ST_CONCLUSAO_1  =  0.0\n",
      "TP_COR_RACA_1  TO  TP_ST_CONCLUSAO_1  =  0.0\n",
      "TP_COR_RACA_2  TO  TP_ST_CONCLUSAO_1  =  0.0\n",
      "TP_COR_RACA_3  TO  TP_ST_CONCLUSAO_1  =  0.0\n",
      "TP_COR_RACA_4  TO  TP_ST_CONCLUSAO_1  =  0.0\n",
      "TP_COR_RACA_5  TO  TP_ST_CONCLUSAO_1  =  0.0\n",
      "TP_NACIONALIDADE_0  TO  TP_ST_CONCLUSAO_1  =  0.0\n",
      "TP_NACIONALIDADE_1  TO  TP_ST_CONCLUSAO_1  =  0.0\n",
      "TP_NACIONALIDADE_2  TO  TP_ST_CONCLUSAO_1  =  0.0\n",
      "TP_NACIONALIDADE_3  TO  TP_ST_CONCLUSAO_1  =  0.0\n",
      "TP_NACIONALIDADE_4  TO  TP_ST_CONCLUSAO_1  =  0.0\n",
      "TP_ST_CONCLUSAO_3  TO  TP_ST_CONCLUSAO_1  =  0.17\n",
      "TP_ST_CONCLUSAO_4  TO  TP_ST_CONCLUSAO_1  =  0.02\n",
      "TP_ESCOLA_3  TO  TP_ST_CONCLUSAO_1  =  0.04\n",
      "TP_ESCOLA_4  TO  TP_ST_CONCLUSAO_1  =  0.0\n",
      "Q047_A  TO  TP_ST_CONCLUSAO_1  =  0.0\n",
      "Q047_B  TO  TP_ST_CONCLUSAO_1  =  0.0\n",
      "Q047_C  TO  TP_ST_CONCLUSAO_1  =  0.0\n",
      "Q047_D  TO  TP_ST_CONCLUSAO_1  =  0.0\n",
      "Q047_E  TO  TP_ST_CONCLUSAO_1  =  0.0\n",
      "TP_SEXO  TO  TP_ST_CONCLUSAO_2  =  0.0\n",
      "IN_TREINEIRO  TO  TP_ST_CONCLUSAO_2  =  0.1\n",
      "IN_BAIXA_VISAO  TO  TP_ST_CONCLUSAO_2  =  0.0\n",
      "IN_SURDEZ  TO  TP_ST_CONCLUSAO_2  =  0.0\n",
      "IN_DISLEXIA  TO  TP_ST_CONCLUSAO_2  =  0.0\n",
      "IN_DISCALCULIA  TO  TP_ST_CONCLUSAO_2  =  0.0\n",
      "IN_SABATISTA  TO  TP_ST_CONCLUSAO_2  =  0.0\n",
      "IN_GESTANTE  TO  TP_ST_CONCLUSAO_2  =  0.0\n",
      "IN_IDOSO  TO  TP_ST_CONCLUSAO_2  =  0.0\n",
      "Q001  TO  TP_ST_CONCLUSAO_2  =  0.0\n",
      "Q002  TO  TP_ST_CONCLUSAO_2  =  0.01\n",
      "Q006  TO  TP_ST_CONCLUSAO_2  =  0.0\n",
      "Q024  TO  TP_ST_CONCLUSAO_2  =  0.0\n",
      "Q025  TO  TP_ST_CONCLUSAO_2  =  0.0\n",
      "Q026  TO  TP_ST_CONCLUSAO_2  =  0.06\n",
      "TP_COR_RACA_0  TO  TP_ST_CONCLUSAO_2  =  0.0\n",
      "TP_COR_RACA_1  TO  TP_ST_CONCLUSAO_2  =  0.0\n",
      "TP_COR_RACA_2  TO  TP_ST_CONCLUSAO_2  =  0.0\n",
      "TP_COR_RACA_3  TO  TP_ST_CONCLUSAO_2  =  0.0\n",
      "TP_COR_RACA_4  TO  TP_ST_CONCLUSAO_2  =  0.0\n",
      "TP_COR_RACA_5  TO  TP_ST_CONCLUSAO_2  =  0.0\n",
      "TP_NACIONALIDADE_0  TO  TP_ST_CONCLUSAO_2  =  0.0\n",
      "TP_NACIONALIDADE_1  TO  TP_ST_CONCLUSAO_2  =  0.0\n",
      "TP_NACIONALIDADE_2  TO  TP_ST_CONCLUSAO_2  =  0.0\n",
      "TP_NACIONALIDADE_3  TO  TP_ST_CONCLUSAO_2  =  0.0\n",
      "TP_NACIONALIDADE_4  TO  TP_ST_CONCLUSAO_2  =  0.0\n",
      "TP_ST_CONCLUSAO_3  TO  TP_ST_CONCLUSAO_2  =  0.13\n",
      "TP_ST_CONCLUSAO_4  TO  TP_ST_CONCLUSAO_2  =  0.02\n",
      "TP_ESCOLA_3  TO  TP_ST_CONCLUSAO_2  =  0.1\n",
      "TP_ESCOLA_4  TO  TP_ST_CONCLUSAO_2  =  0.0\n",
      "Q047_A  TO  TP_ST_CONCLUSAO_2  =  0.0\n",
      "Q047_B  TO  TP_ST_CONCLUSAO_2  =  0.0\n",
      "Q047_C  TO  TP_ST_CONCLUSAO_2  =  0.0\n",
      "Q047_D  TO  TP_ST_CONCLUSAO_2  =  0.0\n",
      "Q047_E  TO  TP_ST_CONCLUSAO_2  =  0.0\n",
      "TP_SEXO  TO  TP_ST_CONCLUSAO_3  =  0.0\n",
      "IN_BAIXA_VISAO  TO  TP_ST_CONCLUSAO_3  =  0.0\n",
      "IN_SURDEZ  TO  TP_ST_CONCLUSAO_3  =  0.0\n",
      "IN_DISLEXIA  TO  TP_ST_CONCLUSAO_3  =  0.0\n",
      "IN_DISCALCULIA  TO  TP_ST_CONCLUSAO_3  =  0.0\n",
      "IN_SABATISTA  TO  TP_ST_CONCLUSAO_3  =  0.0\n",
      "IN_GESTANTE  TO  TP_ST_CONCLUSAO_3  =  0.0\n",
      "IN_IDOSO  TO  TP_ST_CONCLUSAO_3  =  0.0\n",
      "Q001  TO  TP_ST_CONCLUSAO_3  =  0.01\n",
      "Q002  TO  TP_ST_CONCLUSAO_3  =  0.0\n",
      "Q006  TO  TP_ST_CONCLUSAO_3  =  0.01\n",
      "Q024  TO  TP_ST_CONCLUSAO_3  =  0.0\n",
      "Q025  TO  TP_ST_CONCLUSAO_3  =  0.0\n",
      "Q026  TO  TP_ST_CONCLUSAO_3  =  0.06\n",
      "TP_COR_RACA_0  TO  TP_ST_CONCLUSAO_3  =  0.0\n",
      "TP_COR_RACA_1  TO  TP_ST_CONCLUSAO_3  =  0.0\n",
      "TP_COR_RACA_2  TO  TP_ST_CONCLUSAO_3  =  0.0\n",
      "TP_COR_RACA_3  TO  TP_ST_CONCLUSAO_3  =  0.0\n",
      "TP_COR_RACA_4  TO  TP_ST_CONCLUSAO_3  =  0.0\n",
      "TP_COR_RACA_5  TO  TP_ST_CONCLUSAO_3  =  0.0\n",
      "TP_NACIONALIDADE_0  TO  TP_ST_CONCLUSAO_3  =  0.0\n",
      "TP_NACIONALIDADE_1  TO  TP_ST_CONCLUSAO_3  =  0.0\n",
      "TP_NACIONALIDADE_2  TO  TP_ST_CONCLUSAO_3  =  0.0\n",
      "TP_NACIONALIDADE_3  TO  TP_ST_CONCLUSAO_3  =  0.0\n",
      "TP_NACIONALIDADE_4  TO  TP_ST_CONCLUSAO_3  =  0.0\n",
      "TP_ST_CONCLUSAO_1  TO  TP_ST_CONCLUSAO_3  =  0.17\n",
      "TP_ST_CONCLUSAO_2  TO  TP_ST_CONCLUSAO_3  =  0.13\n",
      "TP_ST_CONCLUSAO_4  TO  TP_ST_CONCLUSAO_3  =  0.01\n",
      "TP_ESCOLA_1  TO  TP_ST_CONCLUSAO_3  =  0.13\n",
      "TP_ESCOLA_2  TO  TP_ST_CONCLUSAO_3  =  0.1\n",
      "TP_ESCOLA_3  TO  TP_ST_CONCLUSAO_3  =  0.01\n",
      "TP_ESCOLA_4  TO  TP_ST_CONCLUSAO_3  =  0.0\n",
      "Q047_A  TO  TP_ST_CONCLUSAO_3  =  0.0\n",
      "Q047_B  TO  TP_ST_CONCLUSAO_3  =  0.0\n",
      "Q047_C  TO  TP_ST_CONCLUSAO_3  =  0.0\n",
      "Q047_D  TO  TP_ST_CONCLUSAO_3  =  0.0\n",
      "Q047_E  TO  TP_ST_CONCLUSAO_3  =  0.0\n",
      "TP_SEXO  TO  TP_ST_CONCLUSAO_4  =  0.0\n",
      "IN_TREINEIRO  TO  TP_ST_CONCLUSAO_4  =  0.0\n",
      "IN_BAIXA_VISAO  TO  TP_ST_CONCLUSAO_4  =  0.0\n",
      "IN_SURDEZ  TO  TP_ST_CONCLUSAO_4  =  0.0\n",
      "IN_DISLEXIA  TO  TP_ST_CONCLUSAO_4  =  0.0\n",
      "IN_DISCALCULIA  TO  TP_ST_CONCLUSAO_4  =  0.0\n",
      "IN_SABATISTA  TO  TP_ST_CONCLUSAO_4  =  0.0\n",
      "IN_GESTANTE  TO  TP_ST_CONCLUSAO_4  =  0.0\n",
      "IN_IDOSO  TO  TP_ST_CONCLUSAO_4  =  0.0\n",
      "Q001  TO  TP_ST_CONCLUSAO_4  =  0.0\n",
      "Q002  TO  TP_ST_CONCLUSAO_4  =  0.0\n",
      "Q006  TO  TP_ST_CONCLUSAO_4  =  0.0\n",
      "Q024  TO  TP_ST_CONCLUSAO_4  =  0.0\n",
      "Q025  TO  TP_ST_CONCLUSAO_4  =  0.0\n",
      "Q026  TO  TP_ST_CONCLUSAO_4  =  0.02\n",
      "TP_COR_RACA_0  TO  TP_ST_CONCLUSAO_4  =  0.0\n",
      "TP_COR_RACA_1  TO  TP_ST_CONCLUSAO_4  =  0.0\n",
      "TP_COR_RACA_2  TO  TP_ST_CONCLUSAO_4  =  0.0\n",
      "TP_COR_RACA_3  TO  TP_ST_CONCLUSAO_4  =  0.0\n",
      "TP_COR_RACA_4  TO  TP_ST_CONCLUSAO_4  =  0.0\n",
      "TP_COR_RACA_5  TO  TP_ST_CONCLUSAO_4  =  0.0\n",
      "TP_NACIONALIDADE_0  TO  TP_ST_CONCLUSAO_4  =  0.0\n",
      "TP_NACIONALIDADE_1  TO  TP_ST_CONCLUSAO_4  =  0.0\n",
      "TP_NACIONALIDADE_2  TO  TP_ST_CONCLUSAO_4  =  0.0\n",
      "TP_NACIONALIDADE_3  TO  TP_ST_CONCLUSAO_4  =  0.0\n",
      "TP_NACIONALIDADE_4  TO  TP_ST_CONCLUSAO_4  =  0.0\n",
      "TP_ST_CONCLUSAO_1  TO  TP_ST_CONCLUSAO_4  =  0.02\n",
      "TP_ST_CONCLUSAO_2  TO  TP_ST_CONCLUSAO_4  =  0.02\n",
      "TP_ST_CONCLUSAO_3  TO  TP_ST_CONCLUSAO_4  =  0.01\n",
      "TP_ESCOLA_1  TO  TP_ST_CONCLUSAO_4  =  0.02\n",
      "TP_ESCOLA_2  TO  TP_ST_CONCLUSAO_4  =  0.01\n",
      "TP_ESCOLA_3  TO  TP_ST_CONCLUSAO_4  =  0.0\n",
      "TP_ESCOLA_4  TO  TP_ST_CONCLUSAO_4  =  0.0\n",
      "Q047_A  TO  TP_ST_CONCLUSAO_4  =  0.0\n",
      "Q047_B  TO  TP_ST_CONCLUSAO_4  =  0.0\n",
      "Q047_C  TO  TP_ST_CONCLUSAO_4  =  0.0\n",
      "Q047_D  TO  TP_ST_CONCLUSAO_4  =  0.0\n",
      "Q047_E  TO  TP_ST_CONCLUSAO_4  =  0.0\n",
      "TP_SEXO  TO  TP_ESCOLA_1  =  0.0\n",
      "IN_TREINEIRO  TO  TP_ESCOLA_1  =  0.1\n",
      "IN_BAIXA_VISAO  TO  TP_ESCOLA_1  =  0.0\n",
      "IN_SURDEZ  TO  TP_ESCOLA_1  =  0.0\n",
      "IN_DISLEXIA  TO  TP_ESCOLA_1  =  0.0\n",
      "IN_DISCALCULIA  TO  TP_ESCOLA_1  =  0.0\n",
      "IN_SABATISTA  TO  TP_ESCOLA_1  =  0.0\n",
      "IN_GESTANTE  TO  TP_ESCOLA_1  =  0.0\n",
      "IN_IDOSO  TO  TP_ESCOLA_1  =  0.0\n",
      "Q001  TO  TP_ESCOLA_1  =  0.0\n",
      "Q002  TO  TP_ESCOLA_1  =  0.01\n",
      "Q006  TO  TP_ESCOLA_1  =  0.0\n",
      "Q024  TO  TP_ESCOLA_1  =  0.0\n",
      "Q025  TO  TP_ESCOLA_1  =  0.0\n",
      "Q026  TO  TP_ESCOLA_1  =  0.06\n",
      "TP_COR_RACA_0  TO  TP_ESCOLA_1  =  0.0\n",
      "TP_COR_RACA_1  TO  TP_ESCOLA_1  =  0.0\n",
      "TP_COR_RACA_2  TO  TP_ESCOLA_1  =  0.0\n",
      "TP_COR_RACA_3  TO  TP_ESCOLA_1  =  0.0\n",
      "TP_COR_RACA_4  TO  TP_ESCOLA_1  =  0.0\n",
      "TP_COR_RACA_5  TO  TP_ESCOLA_1  =  0.0\n",
      "TP_NACIONALIDADE_0  TO  TP_ESCOLA_1  =  0.0\n"
     ]
    },
    {
     "name": "stdout",
     "output_type": "stream",
     "text": [
      "TP_NACIONALIDADE_1  TO  TP_ESCOLA_1  =  0.0\n",
      "TP_NACIONALIDADE_2  TO  TP_ESCOLA_1  =  0.0\n",
      "TP_NACIONALIDADE_3  TO  TP_ESCOLA_1  =  0.0\n",
      "TP_NACIONALIDADE_4  TO  TP_ESCOLA_1  =  0.0\n",
      "TP_ST_CONCLUSAO_3  TO  TP_ESCOLA_1  =  0.13\n",
      "TP_ST_CONCLUSAO_4  TO  TP_ESCOLA_1  =  0.02\n",
      "TP_ESCOLA_3  TO  TP_ESCOLA_1  =  0.1\n",
      "TP_ESCOLA_4  TO  TP_ESCOLA_1  =  0.0\n",
      "Q047_A  TO  TP_ESCOLA_1  =  0.0\n",
      "Q047_B  TO  TP_ESCOLA_1  =  0.0\n",
      "Q047_C  TO  TP_ESCOLA_1  =  0.0\n",
      "Q047_D  TO  TP_ESCOLA_1  =  0.0\n",
      "Q047_E  TO  TP_ESCOLA_1  =  0.0\n",
      "TP_SEXO  TO  TP_ESCOLA_2  =  0.0\n",
      "IN_TREINEIRO  TO  TP_ESCOLA_2  =  0.08\n",
      "IN_BAIXA_VISAO  TO  TP_ESCOLA_2  =  0.0\n",
      "IN_SURDEZ  TO  TP_ESCOLA_2  =  0.0\n",
      "IN_DISLEXIA  TO  TP_ESCOLA_2  =  0.0\n",
      "IN_DISCALCULIA  TO  TP_ESCOLA_2  =  0.0\n",
      "IN_SABATISTA  TO  TP_ESCOLA_2  =  0.0\n",
      "IN_GESTANTE  TO  TP_ESCOLA_2  =  0.0\n",
      "IN_IDOSO  TO  TP_ESCOLA_2  =  0.0\n",
      "Q001  TO  TP_ESCOLA_2  =  0.01\n",
      "Q002  TO  TP_ESCOLA_2  =  0.01\n",
      "Q006  TO  TP_ESCOLA_2  =  0.02\n",
      "Q024  TO  TP_ESCOLA_2  =  0.01\n",
      "Q025  TO  TP_ESCOLA_2  =  0.0\n",
      "Q026  TO  TP_ESCOLA_2  =  0.04\n",
      "TP_COR_RACA_0  TO  TP_ESCOLA_2  =  0.0\n",
      "TP_COR_RACA_1  TO  TP_ESCOLA_2  =  0.0\n",
      "TP_COR_RACA_2  TO  TP_ESCOLA_2  =  0.0\n",
      "TP_COR_RACA_3  TO  TP_ESCOLA_2  =  0.0\n",
      "TP_COR_RACA_4  TO  TP_ESCOLA_2  =  0.0\n",
      "TP_COR_RACA_5  TO  TP_ESCOLA_2  =  0.0\n",
      "TP_NACIONALIDADE_0  TO  TP_ESCOLA_2  =  0.0\n",
      "TP_NACIONALIDADE_1  TO  TP_ESCOLA_2  =  0.0\n",
      "TP_NACIONALIDADE_2  TO  TP_ESCOLA_2  =  0.0\n",
      "TP_NACIONALIDADE_3  TO  TP_ESCOLA_2  =  0.0\n",
      "TP_NACIONALIDADE_4  TO  TP_ESCOLA_2  =  0.0\n",
      "TP_ST_CONCLUSAO_3  TO  TP_ESCOLA_2  =  0.1\n",
      "TP_ST_CONCLUSAO_4  TO  TP_ESCOLA_2  =  0.01\n",
      "TP_ESCOLA_3  TO  TP_ESCOLA_2  =  0.02\n",
      "TP_ESCOLA_4  TO  TP_ESCOLA_2  =  0.0\n",
      "Q047_A  TO  TP_ESCOLA_2  =  0.07\n",
      "Q047_B  TO  TP_ESCOLA_2  =  0.0\n",
      "Q047_C  TO  TP_ESCOLA_2  =  0.0\n",
      "Q047_D  TO  TP_ESCOLA_2  =  0.05\n",
      "Q047_E  TO  TP_ESCOLA_2  =  0.01\n",
      "TP_SEXO  TO  TP_ESCOLA_3  =  0.0\n",
      "IN_TREINEIRO  TO  TP_ESCOLA_3  =  0.01\n",
      "IN_BAIXA_VISAO  TO  TP_ESCOLA_3  =  0.0\n",
      "IN_SURDEZ  TO  TP_ESCOLA_3  =  0.0\n",
      "IN_DISLEXIA  TO  TP_ESCOLA_3  =  0.0\n",
      "IN_DISCALCULIA  TO  TP_ESCOLA_3  =  0.0\n",
      "IN_SABATISTA  TO  TP_ESCOLA_3  =  0.0\n",
      "IN_GESTANTE  TO  TP_ESCOLA_3  =  0.0\n",
      "IN_IDOSO  TO  TP_ESCOLA_3  =  0.0\n",
      "Q001  TO  TP_ESCOLA_3  =  0.06\n",
      "Q002  TO  TP_ESCOLA_3  =  0.06\n",
      "Q006  TO  TP_ESCOLA_3  =  0.1\n",
      "Q024  TO  TP_ESCOLA_3  =  0.03\n",
      "Q025  TO  TP_ESCOLA_3  =  0.02\n",
      "Q026  TO  TP_ESCOLA_3  =  0.02\n",
      "TP_COR_RACA_0  TO  TP_ESCOLA_3  =  0.0\n",
      "TP_COR_RACA_1  TO  TP_ESCOLA_3  =  0.01\n",
      "TP_COR_RACA_2  TO  TP_ESCOLA_3  =  0.0\n",
      "TP_COR_RACA_3  TO  TP_ESCOLA_3  =  0.01\n",
      "TP_COR_RACA_4  TO  TP_ESCOLA_3  =  0.0\n",
      "TP_COR_RACA_5  TO  TP_ESCOLA_3  =  0.0\n",
      "TP_NACIONALIDADE_0  TO  TP_ESCOLA_3  =  0.0\n",
      "TP_NACIONALIDADE_1  TO  TP_ESCOLA_3  =  0.0\n",
      "TP_NACIONALIDADE_2  TO  TP_ESCOLA_3  =  0.0\n",
      "TP_NACIONALIDADE_3  TO  TP_ESCOLA_3  =  0.0\n",
      "TP_NACIONALIDADE_4  TO  TP_ESCOLA_3  =  0.0\n",
      "TP_ST_CONCLUSAO_1  TO  TP_ESCOLA_3  =  0.04\n",
      "TP_ST_CONCLUSAO_2  TO  TP_ESCOLA_3  =  0.1\n",
      "TP_ST_CONCLUSAO_3  TO  TP_ESCOLA_3  =  0.01\n",
      "TP_ST_CONCLUSAO_4  TO  TP_ESCOLA_3  =  0.0\n",
      "TP_ESCOLA_1  TO  TP_ESCOLA_3  =  0.1\n",
      "TP_ESCOLA_2  TO  TP_ESCOLA_3  =  0.02\n",
      "TP_ESCOLA_4  TO  TP_ESCOLA_3  =  0.0\n",
      "Q047_B  TO  TP_ESCOLA_3  =  0.0\n",
      "Q047_C  TO  TP_ESCOLA_3  =  0.0\n",
      "Q047_E  TO  TP_ESCOLA_3  =  0.04\n",
      "TP_SEXO  TO  TP_ESCOLA_4  =  0.0\n",
      "IN_TREINEIRO  TO  TP_ESCOLA_4  =  0.0\n",
      "IN_BAIXA_VISAO  TO  TP_ESCOLA_4  =  0.02\n",
      "IN_SURDEZ  TO  TP_ESCOLA_4  =  0.06\n",
      "IN_SABATISTA  TO  TP_ESCOLA_4  =  0.0\n",
      "IN_GESTANTE  TO  TP_ESCOLA_4  =  0.06\n",
      "Q001  TO  TP_ESCOLA_4  =  0.0\n",
      "Q002  TO  TP_ESCOLA_4  =  0.0\n",
      "Q006  TO  TP_ESCOLA_4  =  0.0\n",
      "Q024  TO  TP_ESCOLA_4  =  0.0\n",
      "Q025  TO  TP_ESCOLA_4  =  0.0\n",
      "Q026  TO  TP_ESCOLA_4  =  0.0\n",
      "TP_COR_RACA_0  TO  TP_ESCOLA_4  =  0.0\n",
      "TP_COR_RACA_1  TO  TP_ESCOLA_4  =  0.0\n",
      "TP_COR_RACA_2  TO  TP_ESCOLA_4  =  0.0\n",
      "TP_COR_RACA_3  TO  TP_ESCOLA_4  =  0.0\n",
      "TP_COR_RACA_4  TO  TP_ESCOLA_4  =  0.0\n",
      "TP_COR_RACA_5  TO  TP_ESCOLA_4  =  0.0\n",
      "TP_NACIONALIDADE_0  TO  TP_ESCOLA_4  =  0.02\n",
      "TP_NACIONALIDADE_1  TO  TP_ESCOLA_4  =  0.0\n",
      "TP_NACIONALIDADE_2  TO  TP_ESCOLA_4  =  0.0\n",
      "TP_NACIONALIDADE_3  TO  TP_ESCOLA_4  =  0.04\n",
      "TP_NACIONALIDADE_4  TO  TP_ESCOLA_4  =  0.01\n",
      "TP_ST_CONCLUSAO_1  TO  TP_ESCOLA_4  =  0.0\n",
      "TP_ST_CONCLUSAO_2  TO  TP_ESCOLA_4  =  0.0\n",
      "TP_ST_CONCLUSAO_3  TO  TP_ESCOLA_4  =  0.0\n",
      "TP_ST_CONCLUSAO_4  TO  TP_ESCOLA_4  =  0.0\n",
      "TP_ESCOLA_1  TO  TP_ESCOLA_4  =  0.0\n",
      "TP_ESCOLA_2  TO  TP_ESCOLA_4  =  0.0\n",
      "TP_ESCOLA_3  TO  TP_ESCOLA_4  =  0.0\n",
      "Q047_A  TO  TP_ESCOLA_4  =  0.0\n",
      "Q047_B  TO  TP_ESCOLA_4  =  0.0\n",
      "Q047_C  TO  TP_ESCOLA_4  =  0.0\n",
      "Q047_D  TO  TP_ESCOLA_4  =  0.0\n",
      "Q047_E  TO  TP_ESCOLA_4  =  0.0\n",
      "TP_SEXO  TO  Q047_A  =  0.0\n",
      "IN_TREINEIRO  TO  Q047_A  =  0.0\n",
      "IN_BAIXA_VISAO  TO  Q047_A  =  0.0\n",
      "IN_SURDEZ  TO  Q047_A  =  0.0\n",
      "IN_DISLEXIA  TO  Q047_A  =  0.0\n",
      "IN_DISCALCULIA  TO  Q047_A  =  0.0\n",
      "IN_SABATISTA  TO  Q047_A  =  0.0\n",
      "IN_GESTANTE  TO  Q047_A  =  0.0\n",
      "IN_IDOSO  TO  Q047_A  =  0.0\n",
      "Q001  TO  Q047_A  =  0.16\n",
      "Q002  TO  Q047_A  =  0.15\n",
      "Q024  TO  Q047_A  =  0.11\n",
      "Q025  TO  Q047_A  =  0.06\n",
      "Q026  TO  Q047_A  =  0.02\n",
      "TP_COR_RACA_0  TO  Q047_A  =  0.0\n",
      "TP_COR_RACA_1  TO  Q047_A  =  0.03\n",
      "TP_COR_RACA_2  TO  Q047_A  =  0.0\n",
      "TP_COR_RACA_3  TO  Q047_A  =  0.02\n",
      "TP_COR_RACA_4  TO  Q047_A  =  0.0\n",
      "TP_COR_RACA_5  TO  Q047_A  =  0.0\n",
      "TP_NACIONALIDADE_0  TO  Q047_A  =  0.0\n",
      "TP_NACIONALIDADE_1  TO  Q047_A  =  0.0\n",
      "TP_NACIONALIDADE_2  TO  Q047_A  =  0.0\n",
      "TP_NACIONALIDADE_3  TO  Q047_A  =  0.0\n",
      "TP_NACIONALIDADE_4  TO  Q047_A  =  0.0\n",
      "TP_ST_CONCLUSAO_1  TO  Q047_A  =  0.0\n",
      "TP_ST_CONCLUSAO_2  TO  Q047_A  =  0.0\n",
      "TP_ST_CONCLUSAO_3  TO  Q047_A  =  0.0\n",
      "TP_ST_CONCLUSAO_4  TO  Q047_A  =  0.0\n",
      "TP_ESCOLA_1  TO  Q047_A  =  0.0\n",
      "TP_ESCOLA_2  TO  Q047_A  =  0.07\n",
      "TP_ESCOLA_4  TO  Q047_A  =  0.0\n",
      "Q047_B  TO  Q047_A  =  0.13\n",
      "Q047_C  TO  Q047_A  =  0.06\n",
      "Q047_E  TO  Q047_A  =  0.14\n",
      "TP_SEXO  TO  Q047_B  =  0.0\n",
      "IN_TREINEIRO  TO  Q047_B  =  0.0\n",
      "IN_BAIXA_VISAO  TO  Q047_B  =  0.0\n",
      "IN_SURDEZ  TO  Q047_B  =  0.0\n",
      "IN_DISLEXIA  TO  Q047_B  =  0.0\n",
      "IN_DISCALCULIA  TO  Q047_B  =  0.0\n",
      "IN_SABATISTA  TO  Q047_B  =  0.0\n",
      "IN_GESTANTE  TO  Q047_B  =  0.0\n",
      "IN_IDOSO  TO  Q047_B  =  0.0\n",
      "Q001  TO  Q047_B  =  0.01\n",
      "Q002  TO  Q047_B  =  0.0\n",
      "Q006  TO  Q047_B  =  0.01\n",
      "Q024  TO  Q047_B  =  0.01\n",
      "Q025  TO  Q047_B  =  0.0\n",
      "Q026  TO  Q047_B  =  0.0\n",
      "TP_COR_RACA_0  TO  Q047_B  =  0.0\n",
      "TP_COR_RACA_1  TO  Q047_B  =  0.0\n",
      "TP_COR_RACA_2  TO  Q047_B  =  0.0\n",
      "TP_COR_RACA_3  TO  Q047_B  =  0.0\n",
      "TP_COR_RACA_4  TO  Q047_B  =  0.0\n",
      "TP_COR_RACA_5  TO  Q047_B  =  0.0\n",
      "TP_NACIONALIDADE_0  TO  Q047_B  =  0.0\n",
      "TP_NACIONALIDADE_1  TO  Q047_B  =  0.0\n",
      "TP_NACIONALIDADE_2  TO  Q047_B  =  0.0\n",
      "TP_NACIONALIDADE_3  TO  Q047_B  =  0.0\n",
      "TP_NACIONALIDADE_4  TO  Q047_B  =  0.0\n",
      "TP_ST_CONCLUSAO_1  TO  Q047_B  =  0.0\n",
      "TP_ST_CONCLUSAO_2  TO  Q047_B  =  0.0\n",
      "TP_ST_CONCLUSAO_3  TO  Q047_B  =  0.0\n",
      "TP_ST_CONCLUSAO_4  TO  Q047_B  =  0.0\n",
      "TP_ESCOLA_1  TO  Q047_B  =  0.0\n",
      "TP_ESCOLA_2  TO  Q047_B  =  0.0\n",
      "TP_ESCOLA_3  TO  Q047_B  =  0.0\n",
      "TP_ESCOLA_4  TO  Q047_B  =  0.0\n",
      "Q047_A  TO  Q047_B  =  0.13\n",
      "Q047_C  TO  Q047_B  =  0.0\n",
      "Q047_D  TO  Q047_B  =  0.0\n",
      "Q047_E  TO  Q047_B  =  0.0\n",
      "TP_SEXO  TO  Q047_C  =  0.0\n",
      "IN_TREINEIRO  TO  Q047_C  =  0.0\n",
      "IN_BAIXA_VISAO  TO  Q047_C  =  0.0\n",
      "IN_SURDEZ  TO  Q047_C  =  0.0\n",
      "IN_DISLEXIA  TO  Q047_C  =  0.0\n",
      "IN_DISCALCULIA  TO  Q047_C  =  0.0\n",
      "IN_SABATISTA  TO  Q047_C  =  0.0\n",
      "IN_GESTANTE  TO  Q047_C  =  0.0\n",
      "IN_IDOSO  TO  Q047_C  =  0.0\n",
      "Q001  TO  Q047_C  =  0.0\n",
      "Q002  TO  Q047_C  =  0.0\n",
      "Q006  TO  Q047_C  =  0.0\n",
      "Q024  TO  Q047_C  =  0.0\n",
      "Q025  TO  Q047_C  =  0.0\n",
      "Q026  TO  Q047_C  =  0.0\n",
      "TP_COR_RACA_0  TO  Q047_C  =  0.0\n",
      "TP_COR_RACA_1  TO  Q047_C  =  0.0\n",
      "TP_COR_RACA_2  TO  Q047_C  =  0.0\n",
      "TP_COR_RACA_3  TO  Q047_C  =  0.0\n",
      "TP_COR_RACA_4  TO  Q047_C  =  0.0\n",
      "TP_COR_RACA_5  TO  Q047_C  =  0.0\n",
      "TP_NACIONALIDADE_0  TO  Q047_C  =  0.0\n",
      "TP_NACIONALIDADE_1  TO  Q047_C  =  0.0\n",
      "TP_NACIONALIDADE_2  TO  Q047_C  =  0.0\n",
      "TP_NACIONALIDADE_3  TO  Q047_C  =  0.0\n",
      "TP_NACIONALIDADE_4  TO  Q047_C  =  0.0\n",
      "TP_ST_CONCLUSAO_1  TO  Q047_C  =  0.0\n",
      "TP_ST_CONCLUSAO_2  TO  Q047_C  =  0.0\n",
      "TP_ST_CONCLUSAO_3  TO  Q047_C  =  0.0\n",
      "TP_ST_CONCLUSAO_4  TO  Q047_C  =  0.0\n",
      "TP_ESCOLA_1  TO  Q047_C  =  0.0\n",
      "TP_ESCOLA_2  TO  Q047_C  =  0.0\n",
      "TP_ESCOLA_3  TO  Q047_C  =  0.0\n",
      "TP_ESCOLA_4  TO  Q047_C  =  0.0\n",
      "Q047_A  TO  Q047_C  =  0.06\n",
      "Q047_B  TO  Q047_C  =  0.0\n",
      "Q047_D  TO  Q047_C  =  0.0\n",
      "Q047_E  TO  Q047_C  =  0.0\n",
      "TP_SEXO  TO  Q047_D  =  0.0\n",
      "IN_TREINEIRO  TO  Q047_D  =  0.01\n",
      "IN_BAIXA_VISAO  TO  Q047_D  =  0.0\n",
      "IN_SURDEZ  TO  Q047_D  =  0.0\n",
      "IN_DISLEXIA  TO  Q047_D  =  0.0\n",
      "IN_DISCALCULIA  TO  Q047_D  =  0.0\n",
      "IN_SABATISTA  TO  Q047_D  =  0.0\n",
      "IN_GESTANTE  TO  Q047_D  =  0.0\n",
      "IN_IDOSO  TO  Q047_D  =  0.0\n",
      "Q001  TO  Q047_D  =  0.15\n",
      "Q002  TO  Q047_D  =  0.13\n",
      "Q024  TO  Q047_D  =  0.11\n",
      "Q025  TO  Q047_D  =  0.05\n",
      "Q026  TO  Q047_D  =  0.03\n",
      "TP_COR_RACA_0  TO  Q047_D  =  0.0\n",
      "TP_COR_RACA_1  TO  Q047_D  =  0.03\n",
      "TP_COR_RACA_2  TO  Q047_D  =  0.0\n",
      "TP_COR_RACA_3  TO  Q047_D  =  0.02\n",
      "TP_COR_RACA_4  TO  Q047_D  =  0.0\n",
      "TP_COR_RACA_5  TO  Q047_D  =  0.0\n",
      "TP_NACIONALIDADE_0  TO  Q047_D  =  0.0\n",
      "TP_NACIONALIDADE_1  TO  Q047_D  =  0.0\n",
      "TP_NACIONALIDADE_2  TO  Q047_D  =  0.0\n",
      "TP_NACIONALIDADE_3  TO  Q047_D  =  0.0\n",
      "TP_NACIONALIDADE_4  TO  Q047_D  =  0.0\n",
      "TP_ST_CONCLUSAO_1  TO  Q047_D  =  0.0\n",
      "TP_ST_CONCLUSAO_2  TO  Q047_D  =  0.0\n",
      "TP_ST_CONCLUSAO_3  TO  Q047_D  =  0.0\n",
      "TP_ST_CONCLUSAO_4  TO  Q047_D  =  0.0\n",
      "TP_ESCOLA_1  TO  Q047_D  =  0.0\n",
      "TP_ESCOLA_2  TO  Q047_D  =  0.05\n",
      "TP_ESCOLA_4  TO  Q047_D  =  0.0\n",
      "Q047_B  TO  Q047_D  =  0.0\n",
      "Q047_C  TO  Q047_D  =  0.0\n",
      "Q047_E  TO  Q047_D  =  0.0\n",
      "TP_SEXO  TO  Q047_E  =  0.0\n",
      "IN_TREINEIRO  TO  Q047_E  =  0.0\n",
      "IN_BAIXA_VISAO  TO  Q047_E  =  0.0\n",
      "IN_SURDEZ  TO  Q047_E  =  0.0\n",
      "IN_DISLEXIA  TO  Q047_E  =  0.0\n",
      "IN_DISCALCULIA  TO  Q047_E  =  0.0\n",
      "IN_SABATISTA  TO  Q047_E  =  0.0\n",
      "IN_GESTANTE  TO  Q047_E  =  0.0\n",
      "IN_IDOSO  TO  Q047_E  =  0.0\n",
      "Q001  TO  Q047_E  =  0.02\n",
      "Q002  TO  Q047_E  =  0.02\n",
      "Q006  TO  Q047_E  =  0.02\n",
      "Q024  TO  Q047_E  =  0.01\n",
      "Q025  TO  Q047_E  =  0.01\n",
      "Q026  TO  Q047_E  =  0.0\n",
      "TP_COR_RACA_0  TO  Q047_E  =  0.0\n",
      "TP_COR_RACA_1  TO  Q047_E  =  0.0\n",
      "TP_COR_RACA_2  TO  Q047_E  =  0.0\n",
      "TP_COR_RACA_3  TO  Q047_E  =  0.0\n",
      "TP_COR_RACA_4  TO  Q047_E  =  0.0\n",
      "TP_COR_RACA_5  TO  Q047_E  =  0.0\n",
      "TP_NACIONALIDADE_0  TO  Q047_E  =  0.0\n",
      "TP_NACIONALIDADE_1  TO  Q047_E  =  0.0\n",
      "TP_NACIONALIDADE_2  TO  Q047_E  =  0.0\n",
      "TP_NACIONALIDADE_3  TO  Q047_E  =  0.0\n",
      "TP_NACIONALIDADE_4  TO  Q047_E  =  0.0\n",
      "TP_ST_CONCLUSAO_1  TO  Q047_E  =  0.0\n",
      "TP_ST_CONCLUSAO_2  TO  Q047_E  =  0.0\n",
      "TP_ST_CONCLUSAO_3  TO  Q047_E  =  0.0\n",
      "TP_ST_CONCLUSAO_4  TO  Q047_E  =  0.0\n",
      "TP_ESCOLA_1  TO  Q047_E  =  0.0\n",
      "TP_ESCOLA_2  TO  Q047_E  =  0.01\n",
      "TP_ESCOLA_3  TO  Q047_E  =  0.04\n",
      "TP_ESCOLA_4  TO  Q047_E  =  0.0\n",
      "Q047_A  TO  Q047_E  =  0.14\n"
     ]
    },
    {
     "name": "stdout",
     "output_type": "stream",
     "text": [
      "Q047_B  TO  Q047_E  =  0.0\n",
      "Q047_C  TO  Q047_E  =  0.0\n",
      "Q047_D  TO  Q047_E  =  0.0\n"
     ]
    }
   ],
   "source": [
    "# Mostrar apenas valores baixos de correlacao entre as features\n",
    "for i in corr.index:\n",
    "    for j in corr.columns:\n",
    "        if corr.loc[j, i] <= 0.2 and j != i:\n",
    "            print(j,' TO ',i,' = ',corr.loc[j, i])"
   ]
  },
  {
   "cell_type": "markdown",
   "metadata": {},
   "source": [
    "No geral, temos muitas features que se correlacionam. Irei definir as features categóricas que irão compor o modelo a partir da próxima análise de correlação."
   ]
  },
  {
   "cell_type": "markdown",
   "metadata": {},
   "source": [
    "## Avaliação do R^2 das variáveis categóricas em relação ao *label* através da regressão linear\n",
    "- [Como fazer correlação entre variáveis qualitativas e quantitativas no R?](https://pt.stackoverflow.com/questions/119928/como-fazer-correla%C3%A7%C3%A3o-entre-vari%C3%A1veis-qualitativas-e-quantitativas-no-r)\n",
    "- [Is there a correlation index for Binary Variable vs Quantitative variable?](https://stats.stackexchange.com/questions/129585/is-there-a-correlation-index-for-binary-variable-vs-quantitative-variable/129587#129587)"
   ]
  },
  {
   "cell_type": "code",
   "execution_count": 92,
   "metadata": {},
   "outputs": [],
   "source": [
    "# Features Categoricas separadas em lista\n",
    "vars_discretas = [['TP_SEXO'],\n",
    "                  ['IN_TREINEIRO'],\n",
    "                  ['IN_BAIXA_VISAO'],\n",
    "                  ['IN_SURDEZ'],\n",
    "                  ['IN_DISLEXIA'],\n",
    "                  ['IN_DISCALCULIA'],\n",
    "                  ['IN_SABATISTA'],\n",
    "                  ['IN_GESTANTE'],\n",
    "                  ['IN_IDOSO'],\n",
    "                  ['Q001'],\n",
    "                  ['Q002'],\n",
    "                  ['Q006'],\n",
    "                  ['Q024'],\n",
    "                  ['Q025'],\n",
    "                  ['Q026'],\n",
    "                  ['TP_COR_RACA_0', 'TP_COR_RACA_1', 'TP_COR_RACA_2', 'TP_COR_RACA_3','TP_COR_RACA_4', 'TP_COR_RACA_5'],\n",
    "                  ['TP_NACIONALIDADE_0','TP_NACIONALIDADE_1', 'TP_NACIONALIDADE_2', 'TP_NACIONALIDADE_3','TP_NACIONALIDADE_4'],\n",
    "                  ['TP_ST_CONCLUSAO_1', 'TP_ST_CONCLUSAO_2','TP_ST_CONCLUSAO_3', 'TP_ST_CONCLUSAO_4'],\n",
    "                  ['TP_ESCOLA_1','TP_ESCOLA_2','TP_ESCOLA_3', 'TP_ESCOLA_4'],\n",
    "                  ['Q047_A', 'Q047_B', 'Q047_C', 'Q047_D','Q047_E']]\n",
    "# Label\n",
    "y = trainset['NU_NOTA_MT']"
   ]
  },
  {
   "cell_type": "code",
   "execution_count": 93,
   "metadata": {},
   "outputs": [
    {
     "name": "stdout",
     "output_type": "stream",
     "text": [
      "['TP_SEXO'] \n",
      "###  0.034552267009104964\n",
      "['IN_TREINEIRO'] \n",
      "###  0.0005465377627170698\n",
      "['IN_BAIXA_VISAO'] \n",
      "###  2.500562066298784e-07\n",
      "['IN_SURDEZ'] \n",
      "###  0.00024265934031764136\n",
      "['IN_DISLEXIA'] \n",
      "###  2.0014764452458422e-06\n",
      "['IN_DISCALCULIA'] \n",
      "###  9.782348234232963e-05\n",
      "['IN_SABATISTA'] \n",
      "###  0.00015476079918830266\n",
      "['IN_GESTANTE'] \n",
      "###  1.1569789976073608e-06\n",
      "['IN_IDOSO'] \n",
      "###  0.0001334321069798028\n",
      "['Q001'] \n",
      "###  0.02929819537001943\n",
      "['Q002'] \n",
      "###  0.045877458270392024\n",
      "['Q006'] \n",
      "###  0.1694383874511739\n",
      "['Q024'] \n",
      "###  0.10565477505791776\n",
      "['Q025'] \n",
      "###  0.060826141146194\n",
      "['Q026'] \n",
      "###  0.00028557529523232095\n",
      "['TP_COR_RACA_0', 'TP_COR_RACA_1', 'TP_COR_RACA_2', 'TP_COR_RACA_3', 'TP_COR_RACA_4', 'TP_COR_RACA_5'] \n",
      "###  0.03558582617312267\n",
      "['TP_NACIONALIDADE_0', 'TP_NACIONALIDADE_1', 'TP_NACIONALIDADE_2', 'TP_NACIONALIDADE_3', 'TP_NACIONALIDADE_4'] \n",
      "###  0.004362157732247018\n",
      "['TP_ST_CONCLUSAO_1', 'TP_ST_CONCLUSAO_2', 'TP_ST_CONCLUSAO_3', 'TP_ST_CONCLUSAO_4'] \n",
      "###  0.0076425682032618125\n",
      "['TP_ESCOLA_1', 'TP_ESCOLA_2', 'TP_ESCOLA_3', 'TP_ESCOLA_4'] \n",
      "###  0.06166271810055235\n",
      "['Q047_A', 'Q047_B', 'Q047_C', 'Q047_D', 'Q047_E'] \n",
      "###  0.13365863105958542\n"
     ]
    }
   ],
   "source": [
    "# Loop para calulcar o R^2\n",
    "for variaveis in vars_discretas:\n",
    "    # Define X\n",
    "    x = trainset[variaveis]\n",
    "    # Define um obj de regressão linear\n",
    "    reg = LinearRegression().fit(x, y)\n",
    "    # Pega o R^2 score\n",
    "    r2 = reg.score(x, y)\n",
    "    print(variaveis, '\\n### ', r2)\n",
    "    del reg"
   ]
  },
  {
   "cell_type": "markdown",
   "metadata": {},
   "source": [
    "## Seleção das features\n",
    "No geral, a correlação das features numéricas foram relativamente altas com a *label*, entretanto as features categóricas foram bastante baixas não passando de **0.2**. Dado essa situação, irei gerar dois modelos considerando dois bancos de dados distintos:\n",
    "- (1) apenas as variáveis numéricas (notas)\n",
    "- (2) variáveis numéricas + algumas categóricas\n",
    "\n",
    "Essas variáveis categóricas serão aquelas que apresentam uma correlação maior que 0.10 (com o intuito de verificar se podem existir melhorias na predição):\n",
    "- ['Q047_A', 'Q047_B', 'Q047_C', 'Q047_D', 'Q047_E'] \n",
    "- ['Q006']\n",
    "\n",
    "### Criando os datasets de treinamento"
   ]
  },
  {
   "cell_type": "code",
   "execution_count": 94,
   "metadata": {},
   "outputs": [],
   "source": [
    "# Apenas numericas\n",
    "trainset_1 = trainset[feat_num + label]"
   ]
  },
  {
   "cell_type": "code",
   "execution_count": 95,
   "metadata": {},
   "outputs": [],
   "source": [
    "# Numericas mais categoricas que passaram\n",
    "trainset_2 = trainset[feat_num + ['Q047_A', 'Q047_B', 'Q047_C', 'Q047_D', 'Q047_E'] + ['Q006'] + label]"
   ]
  },
  {
   "cell_type": "markdown",
   "metadata": {},
   "source": [
    "# Modelagem\n",
    "Procedimento usado foi **GridSearchCV** e os parâmetros salvos.\n",
    "\n",
    "\n",
    "## Módulos"
   ]
  },
  {
   "cell_type": "code",
   "execution_count": 96,
   "metadata": {},
   "outputs": [],
   "source": [
    "# Modelos\n",
    "from sklearn.ensemble import RandomForestRegressor\n",
    "from sklearn.model_selection import GridSearchCV\n",
    "# Métricas\n",
    "from sklearn import metrics\n",
    "# Plots\n",
    "import matplotlib.pyplot as plt\n",
    "%matplotlib inline"
   ]
  },
  {
   "cell_type": "markdown",
   "metadata": {},
   "source": [
    "## Datasets definidos\n",
    "\n",
    "### Dataset 1 - Apenas numéricas"
   ]
  },
  {
   "cell_type": "code",
   "execution_count": 97,
   "metadata": {},
   "outputs": [],
   "source": [
    "# Definindo uma nova variável para reaproveitar o código depois\n",
    "dataset = trainset_1"
   ]
  },
  {
   "cell_type": "code",
   "execution_count": 98,
   "metadata": {},
   "outputs": [],
   "source": [
    "# Definir X e Y\n",
    "y1 = dataset[label]\n",
    "x1 = dataset.drop(axis=1, columns=label)"
   ]
  },
  {
   "cell_type": "markdown",
   "metadata": {},
   "source": [
    "### Dataset 2 - Numéricas + Categóricas"
   ]
  },
  {
   "cell_type": "code",
   "execution_count": 101,
   "metadata": {},
   "outputs": [],
   "source": [
    "# Definindo uma nova variável para reaproveitar o código depois\n",
    "dataset = trainset_2"
   ]
  },
  {
   "cell_type": "code",
   "execution_count": 102,
   "metadata": {},
   "outputs": [],
   "source": [
    "# Definir X e Y\n",
    "y2 = dataset[label]\n",
    "x2 = dataset.drop(axis=1, columns=label)"
   ]
  },
  {
   "cell_type": "markdown",
   "metadata": {},
   "source": [
    "## Espaço de parâmetros utilizados para o *Grid Search*"
   ]
  },
  {
   "cell_type": "code",
   "execution_count": 104,
   "metadata": {},
   "outputs": [],
   "source": [
    "# Definir espaço de parâmetros\n",
    "param_grid = {'n_estimators': [100, 200, 1000],\n",
    "              'max_features': ['auto', 'sqrt', 'log2'],\n",
    "              'criterion' :['mse', 'mae']\n",
    "             }"
   ]
  },
  {
   "cell_type": "markdown",
   "metadata": {},
   "source": [
    "## Modelos definidos para Dataset 1\n",
    "\n",
    "### Modelo encontrado através do Grid Search com Random Forest Regressor"
   ]
  },
  {
   "cell_type": "code",
   "execution_count": 105,
   "metadata": {},
   "outputs": [],
   "source": [
    "# Definir objeto do Grid Search c/ Validação Cruzada\n",
    "\n",
    "#rfr1 = RandomForestRegressor(random_state=1206,oob_score=True)\n",
    "#cv_rfr_1 = GridSearchCV(estimator=rfr1,param_grid=param_grid,cv=10,scoring=\"r2\",n_jobs=3,iid=True,refit=True,verbose=2)\n",
    "#cv_rfr_1.best_score_"
   ]
  },
  {
   "cell_type": "code",
   "execution_count": 108,
   "metadata": {},
   "outputs": [],
   "source": [
    "# Definir objeto do modelo com os melhores parâmetros encontrados\n",
    "cv_rfr_1 = RandomForestRegressor(criterion='mae',max_features='sqrt',n_estimators=1000,oob_score=True,random_state=1206)\n",
    "# Fit no modelo\n",
    "cv_rfr_1.fit(x1, y1)"
   ]
  },
  {
   "cell_type": "code",
   "execution_count": 109,
   "metadata": {},
   "outputs": [
    {
     "data": {
      "text/plain": [
       "0.9145180481581301"
      ]
     },
     "execution_count": 109,
     "metadata": {},
     "output_type": "execute_result"
    }
   ],
   "source": [
    "# Score R^2\n",
    "cv_rfr_1.score(x1, y1)"
   ]
  },
  {
   "cell_type": "code",
   "execution_count": 111,
   "metadata": {},
   "outputs": [
    {
     "data": {
      "text/plain": [
       "22.866134248612262"
      ]
     },
     "execution_count": 111,
     "metadata": {},
     "output_type": "execute_result"
    }
   ],
   "source": [
    "# Fazer predicao no conjunto de treinamento\n",
    "y_pred_1 = cv_rfr_1.predict(x1)\n",
    "\n",
    "# Calcular Erro MAE\n",
    "metrics.mean_absolute_error(y1, y_pred_1)"
   ]
  },
  {
   "cell_type": "markdown",
   "metadata": {},
   "source": [
    "### Modelo com outros parâmetros para Random Forest Regressor\n",
    "\n",
    "[Link referente](https://medium.com/@wesleywatanabe/data-science-machine-learning-enem-regressao-linear-5cd140459dc3)"
   ]
  },
  {
   "cell_type": "code",
   "execution_count": 112,
   "metadata": {},
   "outputs": [
    {
     "data": {
      "text/plain": [
       "RandomForestRegressor(criterion='mae', max_depth=8, max_features='sqrt',\n",
       "                      n_estimators=1000, n_jobs=-1, random_state=1206)"
      ]
     },
     "execution_count": 112,
     "metadata": {},
     "output_type": "execute_result"
    }
   ],
   "source": [
    "# Definir objeto do modelo com os melhores parâmetros encontrados\n",
    "tt_rfr_1 = RandomForestRegressor(criterion='mae',\n",
    "                                 max_features='sqrt',\n",
    "                                 max_depth=8,\n",
    "                                 max_leaf_nodes=None,\n",
    "                                 min_impurity_split=None,\n",
    "                                 min_samples_leaf=1,       \n",
    "                                 min_samples_split=2,\n",
    "                                 min_weight_fraction_leaf=0.0,\n",
    "                                 n_estimators= 1000,\n",
    "                                 n_jobs=-1,\n",
    "                                 random_state=1206,\n",
    "                                 verbose=0,\n",
    "                                 warm_start=False)\n",
    "# Fit no modelo\n",
    "tt_rfr_1.fit(x1, y1)"
   ]
  },
  {
   "cell_type": "code",
   "execution_count": 113,
   "metadata": {},
   "outputs": [
    {
     "data": {
      "text/plain": [
       "0.5167123556233646"
      ]
     },
     "execution_count": 113,
     "metadata": {},
     "output_type": "execute_result"
    }
   ],
   "source": [
    "# Score R^2\n",
    "tt_rfr_1.score(x1, y1)"
   ]
  },
  {
   "cell_type": "code",
   "execution_count": 114,
   "metadata": {},
   "outputs": [
    {
     "data": {
      "text/plain": [
       "53.57982606066615"
      ]
     },
     "execution_count": 114,
     "metadata": {},
     "output_type": "execute_result"
    }
   ],
   "source": [
    "# Fazer predicao no conjunto de treinamento\n",
    "y_pred_tt_1 = tt_rfr_1.predict(x1)\n",
    "\n",
    "# Calcular Erro MAE\n",
    "metrics.mean_absolute_error(y1, y_pred_tt_1)"
   ]
  },
  {
   "cell_type": "markdown",
   "metadata": {},
   "source": [
    "## Modelos definidos para Dataset 2\n",
    "\n",
    "### Modelo encontrado através do Grid Search com Random Forest Regressor"
   ]
  },
  {
   "cell_type": "code",
   "execution_count": 117,
   "metadata": {},
   "outputs": [],
   "source": [
    "# Definir objeto do Grid Search c/ Validação Cruzada\n",
    "\n",
    "#rfr2 = RandomForestRegressor(random_state=1206,oob_score=True)\n",
    "#cv_rfr_2 = GridSearchCV(estimator=rfr2,param_grid=param_grid,cv=10,scoring=\"r2\",n_jobs=3,iid=True,refit=True,verbose=2)\n",
    "#cv_rfr_2.best_score_"
   ]
  },
  {
   "cell_type": "code",
   "execution_count": 115,
   "metadata": {},
   "outputs": [
    {
     "data": {
      "text/plain": [
       "RandomForestRegressor(criterion='mae', max_features='sqrt', n_estimators=1000,\n",
       "                      n_jobs=-1, oob_score=True, random_state=1206)"
      ]
     },
     "execution_count": 115,
     "metadata": {},
     "output_type": "execute_result"
    }
   ],
   "source": [
    "# Definir objeto do modelo com os melhores parâmetros encontrados\n",
    "cv_rfr_2 = RandomForestRegressor(criterion='mae',n_jobs=-1,max_features='sqrt',n_estimators=1000,\n",
    "                                 oob_score=True,random_state=1206)\n",
    "# Fit no modelo\n",
    "cv_rfr_2.fit(x2, y2)"
   ]
  },
  {
   "cell_type": "code",
   "execution_count": 116,
   "metadata": {},
   "outputs": [
    {
     "data": {
      "text/plain": [
       "0.912401256412338"
      ]
     },
     "execution_count": 116,
     "metadata": {},
     "output_type": "execute_result"
    }
   ],
   "source": [
    "# Score R^2\n",
    "cv_rfr_2.score(x2, y2)"
   ]
  },
  {
   "cell_type": "code",
   "execution_count": 118,
   "metadata": {},
   "outputs": [
    {
     "data": {
      "text/plain": [
       "23.222389730372765"
      ]
     },
     "execution_count": 118,
     "metadata": {},
     "output_type": "execute_result"
    }
   ],
   "source": [
    "# Fazer predicao no conjunto de treinamento\n",
    "y_pred_2 = cv_rfr_2.predict(x2)\n",
    "\n",
    "# Calcular Erro MAE\n",
    "metrics.mean_absolute_error(y2, y_pred_2)"
   ]
  },
  {
   "cell_type": "markdown",
   "metadata": {},
   "source": [
    "### Modelo com outros parâmetros para Random Forest Regressor\n",
    "\n",
    "[Link referente](https://medium.com/@wesleywatanabe/data-science-machine-learning-enem-regressao-linear-5cd140459dc3)"
   ]
  },
  {
   "cell_type": "code",
   "execution_count": 119,
   "metadata": {},
   "outputs": [
    {
     "data": {
      "text/plain": [
       "RandomForestRegressor(criterion='mae', max_depth=8, max_features='sqrt',\n",
       "                      n_estimators=1000, n_jobs=-1, random_state=1206)"
      ]
     },
     "execution_count": 119,
     "metadata": {},
     "output_type": "execute_result"
    }
   ],
   "source": [
    "# Definir objeto do modelo com os melhores parâmetros encontrados\n",
    "tt_rfr_2 = RandomForestRegressor(criterion='mae',\n",
    "                                 max_features='sqrt',\n",
    "                                 max_depth=8,\n",
    "                                 max_leaf_nodes=None,\n",
    "                                 min_impurity_split=None,\n",
    "                                 min_samples_leaf=1,       \n",
    "                                 min_samples_split=2,\n",
    "                                 min_weight_fraction_leaf=0.0,\n",
    "                                 n_estimators= 1000,\n",
    "                                 n_jobs=-1,\n",
    "                                 random_state=1206,\n",
    "                                 verbose=0,\n",
    "                                 warm_start=False)\n",
    "# Fit no modelo\n",
    "tt_rfr_2.fit(x2, y2)"
   ]
  },
  {
   "cell_type": "code",
   "execution_count": 120,
   "metadata": {},
   "outputs": [
    {
     "data": {
      "text/plain": [
       "0.5259016790423703"
      ]
     },
     "execution_count": 120,
     "metadata": {},
     "output_type": "execute_result"
    }
   ],
   "source": [
    "# Score R^2\n",
    "tt_rfr_2.score(x2, y2)"
   ]
  },
  {
   "cell_type": "code",
   "execution_count": 121,
   "metadata": {},
   "outputs": [
    {
     "data": {
      "text/plain": [
       "53.37586214314037"
      ]
     },
     "execution_count": 121,
     "metadata": {},
     "output_type": "execute_result"
    }
   ],
   "source": [
    "# Fazer predicao no conjunto de treinamento\n",
    "y_pred_tt_2 = tt_rfr_2.predict(x2)\n",
    "\n",
    "# Calcular Erro MAE\n",
    "metrics.mean_absolute_error(y2, y_pred_tt_2)"
   ]
  },
  {
   "cell_type": "markdown",
   "metadata": {},
   "source": [
    "# Resultados\n",
    "\n",
    "## Features escolhidas & Modelos"
   ]
  },
  {
   "cell_type": "code",
   "execution_count": 122,
   "metadata": {},
   "outputs": [],
   "source": [
    "# (1) Features & Modelo\n",
    "features_escolhidas = feat_num\n",
    "modelo = cv_rfr_1\n",
    "\n",
    "# (2) Features & Modelo\n",
    "#features_escolhidas = feat_num + ['Q047_A', 'Q047_B', 'Q047_C', 'Q047_D', 'Q047_E'] + ['Q006']\n",
    "#modelo = cv_rfr_2"
   ]
  },
  {
   "cell_type": "markdown",
   "metadata": {},
   "source": [
    "## Gerar resposta"
   ]
  },
  {
   "cell_type": "code",
   "execution_count": 126,
   "metadata": {},
   "outputs": [],
   "source": [
    "# Fazer copia do dataset\n",
    "answer = testset.copy()"
   ]
  },
  {
   "cell_type": "code",
   "execution_count": 127,
   "metadata": {},
   "outputs": [],
   "source": [
    "# Colunas para serem usadas\n",
    "colunas = ['NU_INSCRICAO'] + features_escolhidas + ['NU_NOTA_MT']\n",
    "\n",
    "# Alterar dataset\n",
    "answer = answer[colunas]"
   ]
  },
  {
   "cell_type": "code",
   "execution_count": 128,
   "metadata": {},
   "outputs": [
    {
     "data": {
      "text/html": [
       "<div>\n",
       "<style scoped>\n",
       "    .dataframe tbody tr th:only-of-type {\n",
       "        vertical-align: middle;\n",
       "    }\n",
       "\n",
       "    .dataframe tbody tr th {\n",
       "        vertical-align: top;\n",
       "    }\n",
       "\n",
       "    .dataframe thead th {\n",
       "        text-align: right;\n",
       "    }\n",
       "</style>\n",
       "<table border=\"1\" class=\"dataframe\">\n",
       "  <thead>\n",
       "    <tr style=\"text-align: right;\">\n",
       "      <th></th>\n",
       "      <th>NU_INSCRICAO</th>\n",
       "      <th>NU_NOTA_CN</th>\n",
       "      <th>NU_NOTA_CH</th>\n",
       "      <th>NU_NOTA_LC</th>\n",
       "      <th>NU_NOTA_REDACAO</th>\n",
       "      <th>NU_NOTA_MT</th>\n",
       "    </tr>\n",
       "  </thead>\n",
       "  <tbody>\n",
       "    <tr>\n",
       "      <th>0</th>\n",
       "      <td>73ff9fcc02f0a99919906c942c2e1a1042cdcf98</td>\n",
       "      <td>464.8</td>\n",
       "      <td>443.5</td>\n",
       "      <td>431.8</td>\n",
       "      <td>420.0</td>\n",
       "      <td>NaN</td>\n",
       "    </tr>\n",
       "    <tr>\n",
       "      <th>1</th>\n",
       "      <td>71a95f9f1b91a82c65ad94abbdf9f54e6066f968</td>\n",
       "      <td>391.1</td>\n",
       "      <td>491.1</td>\n",
       "      <td>548.0</td>\n",
       "      <td>580.0</td>\n",
       "      <td>NaN</td>\n",
       "    </tr>\n",
       "    <tr>\n",
       "      <th>2</th>\n",
       "      <td>b38a03232f43b11c9d0788abaf060f7366053b6d</td>\n",
       "      <td>595.9</td>\n",
       "      <td>622.7</td>\n",
       "      <td>613.6</td>\n",
       "      <td>320.0</td>\n",
       "      <td>NaN</td>\n",
       "    </tr>\n",
       "    <tr>\n",
       "      <th>3</th>\n",
       "      <td>70b682d9a3636be23f6120fa9d6b164eb3c6002d</td>\n",
       "      <td>0.0</td>\n",
       "      <td>0.0</td>\n",
       "      <td>0.0</td>\n",
       "      <td>0.0</td>\n",
       "      <td>0.0</td>\n",
       "    </tr>\n",
       "    <tr>\n",
       "      <th>4</th>\n",
       "      <td>715494628a50142ce8cb17191cfe6d0f3cae0934</td>\n",
       "      <td>592.9</td>\n",
       "      <td>492.6</td>\n",
       "      <td>571.4</td>\n",
       "      <td>320.0</td>\n",
       "      <td>NaN</td>\n",
       "    </tr>\n",
       "  </tbody>\n",
       "</table>\n",
       "</div>"
      ],
      "text/plain": [
       "                               NU_INSCRICAO  NU_NOTA_CN  NU_NOTA_CH  \\\n",
       "0  73ff9fcc02f0a99919906c942c2e1a1042cdcf98       464.8       443.5   \n",
       "1  71a95f9f1b91a82c65ad94abbdf9f54e6066f968       391.1       491.1   \n",
       "2  b38a03232f43b11c9d0788abaf060f7366053b6d       595.9       622.7   \n",
       "3  70b682d9a3636be23f6120fa9d6b164eb3c6002d         0.0         0.0   \n",
       "4  715494628a50142ce8cb17191cfe6d0f3cae0934       592.9       492.6   \n",
       "\n",
       "   NU_NOTA_LC  NU_NOTA_REDACAO  NU_NOTA_MT  \n",
       "0       431.8            420.0         NaN  \n",
       "1       548.0            580.0         NaN  \n",
       "2       613.6            320.0         NaN  \n",
       "3         0.0              0.0         0.0  \n",
       "4       571.4            320.0         NaN  "
      ]
     },
     "execution_count": 128,
     "metadata": {},
     "output_type": "execute_result"
    }
   ],
   "source": [
    "# Visualizar dataset de resposta\n",
    "answer.head()"
   ]
  },
  {
   "cell_type": "code",
   "execution_count": 129,
   "metadata": {},
   "outputs": [],
   "source": [
    "# Fazer predição\n",
    "for i in range(0, len(answer)):\n",
    "    if pd.isnull(answer.loc[i, 'NU_NOTA_MT']):\n",
    "        answer.loc[i, 'NU_NOTA_MT'] = float(modelo.predict(np.array(answer.loc[i, features_escolhidas]).reshape(1, -1)))"
   ]
  },
  {
   "cell_type": "code",
   "execution_count": 130,
   "metadata": {},
   "outputs": [],
   "source": [
    "# Alterar o index para as inscricoes\n",
    "answer.set_index('NU_INSCRICAO', inplace=True)"
   ]
  },
  {
   "cell_type": "code",
   "execution_count": 131,
   "metadata": {},
   "outputs": [],
   "source": [
    "# Remover as colunas que não importam para o resultado\n",
    "answer.drop(axis=1, inplace=True, columns=features_escolhidas)"
   ]
  },
  {
   "cell_type": "code",
   "execution_count": 132,
   "metadata": {},
   "outputs": [],
   "source": [
    "# Salvar resultado\n",
    "answer.to_csv('answer.csv')"
   ]
  },
  {
   "cell_type": "markdown",
   "metadata": {},
   "source": [
    "# Conclusão\n",
    "Ao final, o melhor modelo foi aquele avaliado pelo **Grid Search** utilizando apenas as notas das provas."
   ]
  }
 ],
 "metadata": {
  "kernelspec": {
   "display_name": "Python 3",
   "language": "python",
   "name": "python3"
  },
  "language_info": {
   "codemirror_mode": {
    "name": "ipython",
    "version": 3
   },
   "file_extension": ".py",
   "mimetype": "text/x-python",
   "name": "python",
   "nbconvert_exporter": "python",
   "pygments_lexer": "ipython3",
   "version": "3.7.1"
  }
 },
 "nbformat": 4,
 "nbformat_minor": 2
}
